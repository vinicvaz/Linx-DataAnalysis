{
 "cells": [
  {
   "cell_type": "code",
   "execution_count": 696,
   "metadata": {},
   "outputs": [],
   "source": [
    "import pandas as pd\n",
    "import numpy as np\n",
    "import matplotlib.pyplot as plt\n",
    "import seaborn as sns\n",
    "import datetime\n",
    "sns.set_style('whitegrid')\n"
   ]
  },
  {
   "cell_type": "code",
   "execution_count": 697,
   "metadata": {},
   "outputs": [],
   "source": [
    "file = \".//Data//Small_Data//offline_sales.json\""
   ]
  },
  {
   "cell_type": "code",
   "execution_count": 698,
   "metadata": {},
   "outputs": [],
   "source": [
    "## Create DF with offline data\n",
    "df = pd.read_json(file, lines=True, dtype={'customer_id': str})\n",
    "## Read customer_id as string to deal with big numbers"
   ]
  },
  {
   "cell_type": "markdown",
   "metadata": {},
   "source": [
    "# 1.0 - Exploratory Data Analysis | Análise Exploratória de Dados"
   ]
  },
  {
   "cell_type": "code",
   "execution_count": 699,
   "metadata": {},
   "outputs": [
    {
     "data": {
      "text/html": [
       "<div>\n",
       "<style scoped>\n",
       "    .dataframe tbody tr th:only-of-type {\n",
       "        vertical-align: middle;\n",
       "    }\n",
       "\n",
       "    .dataframe tbody tr th {\n",
       "        vertical-align: top;\n",
       "    }\n",
       "\n",
       "    .dataframe thead th {\n",
       "        text-align: right;\n",
       "    }\n",
       "</style>\n",
       "<table border=\"1\" class=\"dataframe\">\n",
       "  <thead>\n",
       "    <tr style=\"text-align: right;\">\n",
       "      <th></th>\n",
       "      <th>date</th>\n",
       "      <th>state</th>\n",
       "      <th>store_id</th>\n",
       "      <th>sale_id</th>\n",
       "      <th>off_product_id</th>\n",
       "      <th>quantity</th>\n",
       "      <th>price</th>\n",
       "      <th>customer_id</th>\n",
       "    </tr>\n",
       "  </thead>\n",
       "  <tbody>\n",
       "    <tr>\n",
       "      <td>0</td>\n",
       "      <td>2018-08-01</td>\n",
       "      <td>RN</td>\n",
       "      <td>3162633</td>\n",
       "      <td>323932636465316</td>\n",
       "      <td>643839313230323</td>\n",
       "      <td>1</td>\n",
       "      <td>279.00</td>\n",
       "      <td>None</td>\n",
       "    </tr>\n",
       "    <tr>\n",
       "      <td>1</td>\n",
       "      <td>2018-08-01</td>\n",
       "      <td>RN</td>\n",
       "      <td>3162633</td>\n",
       "      <td>326463633336323</td>\n",
       "      <td>613665646663346</td>\n",
       "      <td>1</td>\n",
       "      <td>229.00</td>\n",
       "      <td>None</td>\n",
       "    </tr>\n",
       "    <tr>\n",
       "      <td>2</td>\n",
       "      <td>2018-08-01</td>\n",
       "      <td>RN</td>\n",
       "      <td>3162633</td>\n",
       "      <td>333331346330323</td>\n",
       "      <td>343739666265353</td>\n",
       "      <td>1</td>\n",
       "      <td>179.00</td>\n",
       "      <td>None</td>\n",
       "    </tr>\n",
       "    <tr>\n",
       "      <td>3</td>\n",
       "      <td>2018-08-01</td>\n",
       "      <td>RN</td>\n",
       "      <td>3162633</td>\n",
       "      <td>393461383633336</td>\n",
       "      <td>373034633762613</td>\n",
       "      <td>1</td>\n",
       "      <td>269.00</td>\n",
       "      <td>None</td>\n",
       "    </tr>\n",
       "    <tr>\n",
       "      <td>4</td>\n",
       "      <td>2018-08-01</td>\n",
       "      <td>RN</td>\n",
       "      <td>3162633</td>\n",
       "      <td>616531626536373</td>\n",
       "      <td>343634373062363</td>\n",
       "      <td>1</td>\n",
       "      <td>29.00</td>\n",
       "      <td>None</td>\n",
       "    </tr>\n",
       "    <tr>\n",
       "      <td>5</td>\n",
       "      <td>2018-08-01</td>\n",
       "      <td>RN</td>\n",
       "      <td>3162633</td>\n",
       "      <td>626462353638383</td>\n",
       "      <td>616339353035393</td>\n",
       "      <td>1</td>\n",
       "      <td>459.00</td>\n",
       "      <td>None</td>\n",
       "    </tr>\n",
       "    <tr>\n",
       "      <td>6</td>\n",
       "      <td>2018-08-01</td>\n",
       "      <td>RN</td>\n",
       "      <td>3162633</td>\n",
       "      <td>653363623539323</td>\n",
       "      <td>346165376638356</td>\n",
       "      <td>1</td>\n",
       "      <td>369.00</td>\n",
       "      <td>None</td>\n",
       "    </tr>\n",
       "    <tr>\n",
       "      <td>7</td>\n",
       "      <td>2018-08-01</td>\n",
       "      <td>RN</td>\n",
       "      <td>3162633</td>\n",
       "      <td>666639323036376</td>\n",
       "      <td>643839313363376</td>\n",
       "      <td>1</td>\n",
       "      <td>149.00</td>\n",
       "      <td>30373934343338363136</td>\n",
       "    </tr>\n",
       "    <tr>\n",
       "      <td>8</td>\n",
       "      <td>2018-08-01</td>\n",
       "      <td>RN</td>\n",
       "      <td>3162633</td>\n",
       "      <td>636238633865636</td>\n",
       "      <td>333835396465353</td>\n",
       "      <td>1</td>\n",
       "      <td>198.00</td>\n",
       "      <td>30393833353363303832</td>\n",
       "    </tr>\n",
       "    <tr>\n",
       "      <td>9</td>\n",
       "      <td>2018-08-01</td>\n",
       "      <td>RN</td>\n",
       "      <td>3162633</td>\n",
       "      <td>626239383061353</td>\n",
       "      <td>343332613639373</td>\n",
       "      <td>1</td>\n",
       "      <td>229.00</td>\n",
       "      <td>31366262653431626130</td>\n",
       "    </tr>\n",
       "  </tbody>\n",
       "</table>\n",
       "</div>"
      ],
      "text/plain": [
       "        date state  store_id          sale_id   off_product_id  quantity  \\\n",
       "0 2018-08-01    RN   3162633  323932636465316  643839313230323         1   \n",
       "1 2018-08-01    RN   3162633  326463633336323  613665646663346         1   \n",
       "2 2018-08-01    RN   3162633  333331346330323  343739666265353         1   \n",
       "3 2018-08-01    RN   3162633  393461383633336  373034633762613         1   \n",
       "4 2018-08-01    RN   3162633  616531626536373  343634373062363         1   \n",
       "5 2018-08-01    RN   3162633  626462353638383  616339353035393         1   \n",
       "6 2018-08-01    RN   3162633  653363623539323  346165376638356         1   \n",
       "7 2018-08-01    RN   3162633  666639323036376  643839313363376         1   \n",
       "8 2018-08-01    RN   3162633  636238633865636  333835396465353         1   \n",
       "9 2018-08-01    RN   3162633  626239383061353  343332613639373         1   \n",
       "\n",
       "                 price           customer_id  \n",
       "0               279.00                  None  \n",
       "1               229.00                  None  \n",
       "2               179.00                  None  \n",
       "3               269.00                  None  \n",
       "4                29.00                  None  \n",
       "5               459.00                  None  \n",
       "6               369.00                  None  \n",
       "7               149.00  30373934343338363136  \n",
       "8               198.00  30393833353363303832  \n",
       "9               229.00  31366262653431626130  "
      ]
     },
     "execution_count": 699,
     "metadata": {},
     "output_type": "execute_result"
    }
   ],
   "source": [
    "## Checking DF\n",
    "df.head(10)"
   ]
  },
  {
   "cell_type": "code",
   "execution_count": 700,
   "metadata": {},
   "outputs": [],
   "source": [
    "## Replace None to NaN\n",
    "df.customer_id.replace('None', np.nan, inplace=True)"
   ]
  },
  {
   "cell_type": "code",
   "execution_count": 701,
   "metadata": {},
   "outputs": [
    {
     "name": "stdout",
     "output_type": "stream",
     "text": [
      "<class 'pandas.core.frame.DataFrame'>\n",
      "RangeIndex: 29372 entries, 0 to 29371\n",
      "Data columns (total 8 columns):\n",
      "date              29372 non-null datetime64[ns]\n",
      "state             29372 non-null object\n",
      "store_id          29372 non-null int64\n",
      "sale_id           29372 non-null int64\n",
      "off_product_id    29372 non-null int64\n",
      "quantity          29372 non-null int64\n",
      "price             29372 non-null float64\n",
      "customer_id       25844 non-null object\n",
      "dtypes: datetime64[ns](1), float64(1), int64(4), object(2)\n",
      "memory usage: 1.8+ MB\n"
     ]
    }
   ],
   "source": [
    "## Total Entries\n",
    "df.info()"
   ]
  },
  {
   "cell_type": "markdown",
   "metadata": {},
   "source": [
    "**29372 rows, 8 columns**"
   ]
  },
  {
   "cell_type": "code",
   "execution_count": 702,
   "metadata": {},
   "outputs": [
    {
     "data": {
      "text/plain": [
       "date              datetime64[ns]\n",
       "state                     object\n",
       "store_id                   int64\n",
       "sale_id                    int64\n",
       "off_product_id             int64\n",
       "quantity                   int64\n",
       "price                    float64\n",
       "customer_id               object\n",
       "dtype: object"
      ]
     },
     "execution_count": 702,
     "metadata": {},
     "output_type": "execute_result"
    }
   ],
   "source": [
    "## Check dtypes\n",
    "df.dtypes"
   ]
  },
  {
   "cell_type": "code",
   "execution_count": 703,
   "metadata": {},
   "outputs": [
    {
     "name": "stdout",
     "output_type": "stream",
     "text": [
      "Dia Inicial: 2018-08-01 00:00:00\n",
      "Dia Final: 2018-08-31 00:00:00\n"
     ]
    }
   ],
   "source": [
    "print('Dia Inicial:',df.date.min())\n",
    "print('Dia Final:',df.date.max())"
   ]
  },
  {
   "cell_type": "markdown",
   "metadata": {},
   "source": [
    "**Período de Coleta = Agosto 2018**"
   ]
  },
  {
   "cell_type": "code",
   "execution_count": 704,
   "metadata": {},
   "outputs": [
    {
     "data": {
      "text/plain": [
       "RJ    8867\n",
       "SP    6123\n",
       "RS    4631\n",
       "PE    3289\n",
       "AM    1527\n",
       "RN    1472\n",
       "MA    1078\n",
       "PR     888\n",
       "PI     834\n",
       "MS     361\n",
       "GO     302\n",
       "Name: state, dtype: int64"
      ]
     },
     "execution_count": 704,
     "metadata": {},
     "output_type": "execute_result"
    }
   ],
   "source": [
    "## Checando Correspondencias de Estados\n",
    "df.state.value_counts()"
   ]
  },
  {
   "cell_type": "markdown",
   "metadata": {},
   "source": [
    "**Estado mais frequente (provavel estado que consome mais) = RJ**"
   ]
  },
  {
   "cell_type": "markdown",
   "metadata": {},
   "source": [
    "# 2.0 - Preparation | Preparação"
   ]
  },
  {
   "cell_type": "markdown",
   "metadata": {},
   "source": [
    "## 2.1 Data Cleaning - NaN | Limpeza de Dados - NaN"
   ]
  },
  {
   "cell_type": "code",
   "execution_count": 705,
   "metadata": {},
   "outputs": [
    {
     "data": {
      "text/plain": [
       "date                 0\n",
       "state                0\n",
       "store_id             0\n",
       "sale_id              0\n",
       "off_product_id       0\n",
       "quantity             0\n",
       "price                0\n",
       "customer_id       3528\n",
       "dtype: int64"
      ]
     },
     "execution_count": 705,
     "metadata": {},
     "output_type": "execute_result"
    }
   ],
   "source": [
    "## Checking for NaN values\n",
    "df.isnull().sum()"
   ]
  },
  {
   "cell_type": "markdown",
   "metadata": {},
   "source": [
    "**3528 NaN values on customer_id column**  \n",
    "**Clean or manipulate this**  \n",
    "**12% of costumer_id is Empty**"
   ]
  },
  {
   "cell_type": "code",
   "execution_count": 706,
   "metadata": {},
   "outputs": [
    {
     "name": "stdout",
     "output_type": "stream",
     "text": [
      "<class 'pandas.core.frame.DataFrame'>\n",
      "Int64Index: 25844 entries, 7 to 29371\n",
      "Data columns (total 8 columns):\n",
      "date              25844 non-null datetime64[ns]\n",
      "state             25844 non-null object\n",
      "store_id          25844 non-null int64\n",
      "sale_id           25844 non-null int64\n",
      "off_product_id    25844 non-null int64\n",
      "quantity          25844 non-null int64\n",
      "price             25844 non-null float64\n",
      "customer_id       25844 non-null object\n",
      "dtypes: datetime64[ns](1), float64(1), int64(4), object(2)\n",
      "memory usage: 1.8+ MB\n"
     ]
    }
   ],
   "source": [
    "## Create DF with no null values (not best aproach but the missing Data is ID's, what do with this?)\n",
    "no_null = df.copy()\n",
    "no_null.dropna(axis=0, inplace=True)\n",
    "no_null.info()"
   ]
  },
  {
   "cell_type": "code",
   "execution_count": 707,
   "metadata": {},
   "outputs": [
    {
     "data": {
      "text/html": [
       "<div>\n",
       "<style scoped>\n",
       "    .dataframe tbody tr th:only-of-type {\n",
       "        vertical-align: middle;\n",
       "    }\n",
       "\n",
       "    .dataframe tbody tr th {\n",
       "        vertical-align: top;\n",
       "    }\n",
       "\n",
       "    .dataframe thead th {\n",
       "        text-align: right;\n",
       "    }\n",
       "</style>\n",
       "<table border=\"1\" class=\"dataframe\">\n",
       "  <thead>\n",
       "    <tr style=\"text-align: right;\">\n",
       "      <th></th>\n",
       "      <th>date</th>\n",
       "      <th>state</th>\n",
       "      <th>store_id</th>\n",
       "      <th>sale_id</th>\n",
       "      <th>off_product_id</th>\n",
       "      <th>quantity</th>\n",
       "      <th>price</th>\n",
       "      <th>customer_id</th>\n",
       "    </tr>\n",
       "  </thead>\n",
       "  <tbody>\n",
       "    <tr>\n",
       "      <td>0</td>\n",
       "      <td>2018-08-01</td>\n",
       "      <td>RN</td>\n",
       "      <td>3162633</td>\n",
       "      <td>666639323036376</td>\n",
       "      <td>643839313363376</td>\n",
       "      <td>1</td>\n",
       "      <td>149.00</td>\n",
       "      <td>30373934343338363136</td>\n",
       "    </tr>\n",
       "    <tr>\n",
       "      <td>1</td>\n",
       "      <td>2018-08-01</td>\n",
       "      <td>RN</td>\n",
       "      <td>3162633</td>\n",
       "      <td>636238633865636</td>\n",
       "      <td>333835396465353</td>\n",
       "      <td>1</td>\n",
       "      <td>198.00</td>\n",
       "      <td>30393833353363303832</td>\n",
       "    </tr>\n",
       "    <tr>\n",
       "      <td>2</td>\n",
       "      <td>2018-08-01</td>\n",
       "      <td>RN</td>\n",
       "      <td>3162633</td>\n",
       "      <td>626239383061353</td>\n",
       "      <td>343332613639373</td>\n",
       "      <td>1</td>\n",
       "      <td>229.00</td>\n",
       "      <td>31366262653431626130</td>\n",
       "    </tr>\n",
       "    <tr>\n",
       "      <td>3</td>\n",
       "      <td>2018-08-01</td>\n",
       "      <td>RN</td>\n",
       "      <td>3162633</td>\n",
       "      <td>376465626630613</td>\n",
       "      <td>306439363765386</td>\n",
       "      <td>1</td>\n",
       "      <td>58.00</td>\n",
       "      <td>32653962626632373464</td>\n",
       "    </tr>\n",
       "    <tr>\n",
       "      <td>4</td>\n",
       "      <td>2018-08-01</td>\n",
       "      <td>RN</td>\n",
       "      <td>3162633</td>\n",
       "      <td>666564646366383</td>\n",
       "      <td>336139376666306</td>\n",
       "      <td>1</td>\n",
       "      <td>58.00</td>\n",
       "      <td>34653761646637306265</td>\n",
       "    </tr>\n",
       "  </tbody>\n",
       "</table>\n",
       "</div>"
      ],
      "text/plain": [
       "        date state  store_id          sale_id   off_product_id  quantity  \\\n",
       "0 2018-08-01    RN   3162633  666639323036376  643839313363376         1   \n",
       "1 2018-08-01    RN   3162633  636238633865636  333835396465353         1   \n",
       "2 2018-08-01    RN   3162633  626239383061353  343332613639373         1   \n",
       "3 2018-08-01    RN   3162633  376465626630613  306439363765386         1   \n",
       "4 2018-08-01    RN   3162633  666564646366383  336139376666306         1   \n",
       "\n",
       "                 price           customer_id  \n",
       "0               149.00  30373934343338363136  \n",
       "1               198.00  30393833353363303832  \n",
       "2               229.00  31366262653431626130  \n",
       "3                58.00  32653962626632373464  \n",
       "4                58.00  34653761646637306265  "
      ]
     },
     "execution_count": 707,
     "metadata": {},
     "output_type": "execute_result"
    }
   ],
   "source": [
    "## Drop old Index Column and Create a new one\n",
    "no_null = no_null.reset_index().drop(columns=['index'])\n",
    "no_null.head()"
   ]
  },
  {
   "cell_type": "markdown",
   "metadata": {},
   "source": [
    "## 2.2 Data Cleaning - Outliers | Limpeza de Dados - Outliers"
   ]
  },
  {
   "cell_type": "code",
   "execution_count": 708,
   "metadata": {},
   "outputs": [
    {
     "name": "stdout",
     "output_type": "stream",
     "text": [
      "Max: 9\n",
      "Min: 1\n"
     ]
    }
   ],
   "source": [
    "## Check Outliers on Quantity Colunm\n",
    "print('Max:',df.quantity.max())\n",
    "print('Min:',df.quantity.min())"
   ]
  },
  {
   "cell_type": "code",
   "execution_count": 709,
   "metadata": {},
   "outputs": [
    {
     "name": "stdout",
     "output_type": "stream",
     "text": [
      "Media: 1.0227427481955604\n",
      "Mediana: 1.0\n"
     ]
    }
   ],
   "source": [
    "print('Media:',df.quantity.mean())\n",
    "print('Mediana:',df.quantity.median())"
   ]
  },
  {
   "cell_type": "code",
   "execution_count": 710,
   "metadata": {},
   "outputs": [
    {
     "data": {
      "text/plain": [
       "1    28784\n",
       "2      531\n",
       "3       43\n",
       "4       10\n",
       "5        2\n",
       "9        1\n",
       "6        1\n",
       "Name: quantity, dtype: int64"
      ]
     },
     "execution_count": 710,
     "metadata": {},
     "output_type": "execute_result"
    }
   ],
   "source": [
    "## Maior parte das pessoas compra apenas um item mesmo\n",
    "df.quantity.value_counts()"
   ]
  },
  {
   "cell_type": "markdown",
   "metadata": {},
   "source": [
    "**Valores aceitaveis**"
   ]
  },
  {
   "cell_type": "code",
   "execution_count": 711,
   "metadata": {},
   "outputs": [
    {
     "data": {
      "text/plain": [
       "count              29,372.00\n",
       "mean                  468.06\n",
       "std                   819.18\n",
       "min                     0.01\n",
       "25%                   168.00\n",
       "50%                   289.00\n",
       "75%                   589.00\n",
       "max                39,690.00\n",
       "Name: price, dtype: float64"
      ]
     },
     "execution_count": 711,
     "metadata": {},
     "output_type": "execute_result"
    }
   ],
   "source": [
    "## Check Outliers on Price\n",
    "df.price.describe()"
   ]
  },
  {
   "cell_type": "code",
   "execution_count": 712,
   "metadata": {},
   "outputs": [
    {
     "data": {
      "text/plain": [
       "<matplotlib.axes._subplots.AxesSubplot at 0x7f12394d5c10>"
      ]
     },
     "execution_count": 712,
     "metadata": {},
     "output_type": "execute_result"
    },
    {
     "data": {
      "image/png": "[encoded data removed]",
      "text/plain": [
       "<Figure size 432x288 with 1 Axes>"
      ]
     },
     "metadata": {},
     "output_type": "display_data"
    }
   ],
   "source": [
    "df.price.plot(kind='box')"
   ]
  },
  {
   "cell_type": "markdown",
   "metadata": {},
   "source": [
    "**Grande quantidade de valores grandes**\n"
   ]
  },
  {
   "cell_type": "code",
   "execution_count": 713,
   "metadata": {},
   "outputs": [
    {
     "data": {
      "text/plain": [
       "289.0"
      ]
     },
     "execution_count": 713,
     "metadata": {},
     "output_type": "execute_result"
    }
   ],
   "source": [
    "## Check the median because the mean may be altered by the large price values \n",
    "no_null.price.median()"
   ]
  },
  {
   "cell_type": "markdown",
   "metadata": {},
   "source": [
    "**Mediana = 289, isso mostra que a media dos preços tende a subir devido as compras de alto valor, o gasto de usuários comuns (gastos mais frequentes) são representados melhor pela mediana**  \n",
    "**Por enquanto irei manter os valores altos por completo**"
   ]
  },
  {
   "cell_type": "markdown",
   "metadata": {},
   "source": [
    "## 2.3 Data Cleaning - Duplicated | Limpeza de Dados - Duplicados "
   ]
  },
  {
   "cell_type": "code",
   "execution_count": 714,
   "metadata": {},
   "outputs": [
    {
     "data": {
      "text/plain": [
       "0        False\n",
       "1        False\n",
       "2        False\n",
       "3        False\n",
       "4        False\n",
       "         ...  \n",
       "25839    False\n",
       "25840     True\n",
       "25841    False\n",
       "25842     True\n",
       "25843     True\n",
       "Length: 25844, dtype: bool"
      ]
     },
     "execution_count": 714,
     "metadata": {},
     "output_type": "execute_result"
    }
   ],
   "source": [
    "no_null.duplicated(['sale_id'])"
   ]
  },
  {
   "cell_type": "markdown",
   "metadata": {},
   "source": [
    "**Pode haver o mesmo 'sale_id' para diversos produtos, logo essas duplicadas não são problemáticas**"
   ]
  },
  {
   "cell_type": "code",
   "execution_count": 715,
   "metadata": {},
   "outputs": [
    {
     "data": {
      "text/plain": [
       "0"
      ]
     },
     "execution_count": 715,
     "metadata": {},
     "output_type": "execute_result"
    }
   ],
   "source": [
    "## Verificar dados duplicados\n",
    "no_null.duplicated().sum()"
   ]
  },
  {
   "cell_type": "markdown",
   "metadata": {},
   "source": [
    "**Sem linhas completas duplicadas**"
   ]
  },
  {
   "cell_type": "markdown",
   "metadata": {},
   "source": [
    "# 3.0 - Análises"
   ]
  },
  {
   "cell_type": "code",
   "execution_count": 716,
   "metadata": {},
   "outputs": [],
   "source": [
    "## Cria coluna de dia da semana da compra (0 segunda -> 6 domingo )\n",
    "no_null['weekday'] =  no_null['date'].dt.dayofweek\n",
    "df['weekday'] = df['date'].dt.dayofweek"
   ]
  },
  {
   "cell_type": "markdown",
   "metadata": {},
   "source": [
    "## 3.1 - Faturamentos  \n",
    "**Hipótes**      \n",
    "**Os IDs dos clientes faltantes no DF completo são devidos à algum problema na coleta APENAS do ID do cliente, logo isso nao influência o faturamento**  \n",
    "  \n",
    "**Caso essa ausência de valor esteja ligada à algum tipo de problema que possa comprometer o restante dos dados, o melhor seria a utilização do dataframe sem os valores nulos**"
   ]
  },
  {
   "cell_type": "code",
   "execution_count": 717,
   "metadata": {},
   "outputs": [
    {
     "data": {
      "image/png": "[encoded data removed]",
      "text/plain": [
       "<Figure size 576x432 with 1 Axes>"
      ]
     },
     "metadata": {},
     "output_type": "display_data"
    }
   ],
   "source": [
    "## Plotar Faturamento Total por Estado\n",
    "plt.figure(figsize=(8,6))\n",
    "ax = sns.barplot(x='state',y='price', data=df.groupby('state').sum().reset_index(), palette='Blues_d')\n",
    "ax.set_xlabel('Estado', fontsize=14)\n",
    "ax.set_ylabel('Preço - R$', fontsize=14)\n",
    "ax.set_title('Faturamento Total por Estado - Lojas Físicas', fontsize=16)\n",
    "\n",
    "for item in ax.get_xticklabels():\n",
    "    item.set_rotation(30)\n",
    "    \n",
    "plt.savefig('./Images/Revenue-States-Offline.jpg')"
   ]
  },
  {
   "cell_type": "code",
   "execution_count": 718,
   "metadata": {},
   "outputs": [
    {
     "name": "stdout",
     "output_type": "stream",
     "text": [
      "Faturamento total no mes de agosto em 2018: 13747940.13\n",
      "Faturamento total de usuários identificados:  12202226.879999999\n"
     ]
    }
   ],
   "source": [
    "## Faturamento Total (Usar o DataFrame completo, com os valores nulos)\n",
    "print('Faturamento total no mes de agosto em 2018:',df.price.sum())\n",
    "print('Faturamento total de usuários identificados: ', no_null.price.sum())\n",
    "\n",
    "fat_total = df.price.sum()\n",
    "fat_id = no_null.price.sum()"
   ]
  },
  {
   "cell_type": "code",
   "execution_count": 719,
   "metadata": {},
   "outputs": [
    {
     "data": {
      "text/html": [
       "<div>\n",
       "<style scoped>\n",
       "    .dataframe tbody tr th:only-of-type {\n",
       "        vertical-align: middle;\n",
       "    }\n",
       "\n",
       "    .dataframe tbody tr th {\n",
       "        vertical-align: top;\n",
       "    }\n",
       "\n",
       "    .dataframe thead th {\n",
       "        text-align: right;\n",
       "    }\n",
       "</style>\n",
       "<table border=\"1\" class=\"dataframe\">\n",
       "  <thead>\n",
       "    <tr style=\"text-align: right;\">\n",
       "      <th></th>\n",
       "      <th>date</th>\n",
       "      <th>state</th>\n",
       "      <th>store_id</th>\n",
       "      <th>sale_id</th>\n",
       "      <th>off_product_id</th>\n",
       "      <th>quantity</th>\n",
       "      <th>price</th>\n",
       "      <th>customer_id</th>\n",
       "      <th>weekday</th>\n",
       "    </tr>\n",
       "  </thead>\n",
       "  <tbody>\n",
       "    <tr>\n",
       "      <td>0</td>\n",
       "      <td>2018-08-01</td>\n",
       "      <td>RN</td>\n",
       "      <td>3162633</td>\n",
       "      <td>323932636465316</td>\n",
       "      <td>643839313230323</td>\n",
       "      <td>1</td>\n",
       "      <td>279.00</td>\n",
       "      <td>NaN</td>\n",
       "      <td>2</td>\n",
       "    </tr>\n",
       "    <tr>\n",
       "      <td>1</td>\n",
       "      <td>2018-08-01</td>\n",
       "      <td>RN</td>\n",
       "      <td>3162633</td>\n",
       "      <td>326463633336323</td>\n",
       "      <td>613665646663346</td>\n",
       "      <td>1</td>\n",
       "      <td>229.00</td>\n",
       "      <td>NaN</td>\n",
       "      <td>2</td>\n",
       "    </tr>\n",
       "    <tr>\n",
       "      <td>2</td>\n",
       "      <td>2018-08-01</td>\n",
       "      <td>RN</td>\n",
       "      <td>3162633</td>\n",
       "      <td>333331346330323</td>\n",
       "      <td>343739666265353</td>\n",
       "      <td>1</td>\n",
       "      <td>179.00</td>\n",
       "      <td>NaN</td>\n",
       "      <td>2</td>\n",
       "    </tr>\n",
       "    <tr>\n",
       "      <td>3</td>\n",
       "      <td>2018-08-01</td>\n",
       "      <td>RN</td>\n",
       "      <td>3162633</td>\n",
       "      <td>393461383633336</td>\n",
       "      <td>373034633762613</td>\n",
       "      <td>1</td>\n",
       "      <td>269.00</td>\n",
       "      <td>NaN</td>\n",
       "      <td>2</td>\n",
       "    </tr>\n",
       "    <tr>\n",
       "      <td>4</td>\n",
       "      <td>2018-08-01</td>\n",
       "      <td>RN</td>\n",
       "      <td>3162633</td>\n",
       "      <td>616531626536373</td>\n",
       "      <td>343634373062363</td>\n",
       "      <td>1</td>\n",
       "      <td>29.00</td>\n",
       "      <td>NaN</td>\n",
       "      <td>2</td>\n",
       "    </tr>\n",
       "  </tbody>\n",
       "</table>\n",
       "</div>"
      ],
      "text/plain": [
       "        date state  store_id          sale_id   off_product_id  quantity  \\\n",
       "0 2018-08-01    RN   3162633  323932636465316  643839313230323         1   \n",
       "1 2018-08-01    RN   3162633  326463633336323  613665646663346         1   \n",
       "2 2018-08-01    RN   3162633  333331346330323  343739666265353         1   \n",
       "3 2018-08-01    RN   3162633  393461383633336  373034633762613         1   \n",
       "4 2018-08-01    RN   3162633  616531626536373  343634373062363         1   \n",
       "\n",
       "                 price customer_id  weekday  \n",
       "0               279.00         NaN        2  \n",
       "1               229.00         NaN        2  \n",
       "2               179.00         NaN        2  \n",
       "3               269.00         NaN        2  \n",
       "4                29.00         NaN        2  "
      ]
     },
     "execution_count": 719,
     "metadata": {},
     "output_type": "execute_result"
    }
   ],
   "source": [
    "df.head()"
   ]
  },
  {
   "cell_type": "code",
   "execution_count": 720,
   "metadata": {},
   "outputs": [
    {
     "data": {
      "text/plain": [
       "39"
      ]
     },
     "execution_count": 720,
     "metadata": {},
     "output_type": "execute_result"
    }
   ],
   "source": [
    "## Numero de Lojas\n",
    "df.store_id.value_counts().count()"
   ]
  },
  {
   "cell_type": "code",
   "execution_count": 721,
   "metadata": {},
   "outputs": [
    {
     "name": "stdout",
     "output_type": "stream",
     "text": [
      "Loja com maior faturamento id: 6361373 - RJ\n",
      "Loja com menor faturamento id: 3234666 - RJ\n"
     ]
    }
   ],
   "source": [
    "## Lojas com maior e menor faturamento\n",
    "group = df.groupby('store_id').sum()\n",
    "index_max = int(group[group.price==group.price.max()].reset_index()['store_id'].values)\n",
    "index_min = int(group[group.price==group.price.min()].reset_index()['store_id'].values)\n",
    "\n",
    "print('Loja com maior faturamento id:',index_max,'-',df[df.store_id==index_max].state.values[0])\n",
    "print('Loja com menor faturamento id:',index_min,'-',df[df.store_id==index_min].state.values[0])\n",
    "\n",
    "maior = str(index_max)+'-'+str(df[df.store_id==index_max].state.values[0])\n",
    "menor = str(index_min)+'-'+str(df[df.store_id==index_min].state.values[0])"
   ]
  },
  {
   "cell_type": "markdown",
   "metadata": {},
   "source": [
    "**Tanto a loja com maior quanto a com menor faturamento estão no RJ**"
   ]
  },
  {
   "cell_type": "markdown",
   "metadata": {},
   "source": [
    "## 3.2 - Análise de Vendas sobre dias da semana"
   ]
  },
  {
   "cell_type": "code",
   "execution_count": 722,
   "metadata": {},
   "outputs": [],
   "source": [
    "## Verificar vendas no fim de semana (selecionar por sale_id unico)\n",
    "cariocas = df[df.state=='RJ']\n",
    "# Numero de vendas na semana e fim de semana (Offline)\n",
    "total = cariocas.drop_duplicates(subset=['sale_id']).sale_id.count()\n",
    "fim = cariocas[(cariocas.weekday==6) | (cariocas.weekday==5)].drop_duplicates(subset=['sale_id']).sale_id.count()\n",
    "normal =cariocas[(cariocas.weekday!=6) & (cariocas.weekday!=5)].drop_duplicates(subset=['sale_id']).sale_id.count()"
   ]
  },
  {
   "cell_type": "code",
   "execution_count": 723,
   "metadata": {},
   "outputs": [
    {
     "name": "stdout",
     "output_type": "stream",
     "text": [
      "Número total de vendas no final de semana: 887\n",
      "Número total de vendas dias de semana: 3514\n",
      "Número total de compras: 4401\n"
     ]
    }
   ],
   "source": [
    "print('Número total de vendas no final de semana:',fim)\n",
    "print('Número total de vendas dias de semana:', normal)\n",
    "print('Número total de compras:', total)"
   ]
  },
  {
   "cell_type": "code",
   "execution_count": 724,
   "metadata": {},
   "outputs": [
    {
     "name": "stdout",
     "output_type": "stream",
     "text": [
      "As compras dos cariocas no fim de semana representam: 20.15451033855942 % das quantidade de compras total\n"
     ]
    }
   ],
   "source": [
    "# Porcentagem da quantidade de compras dos cariocas no final de semana\n",
    "pctg_vendas = (fim*100)/total\n",
    "print('As compras dos cariocas no fim de semana representam:', pctg_vendas,'% das quantidade de compras total')"
   ]
  },
  {
   "cell_type": "markdown",
   "metadata": {},
   "source": [
    "**Quantidade de compras representa gasto? Verificar**"
   ]
  },
  {
   "cell_type": "code",
   "execution_count": 725,
   "metadata": {},
   "outputs": [],
   "source": [
    "df_grupo = df.groupby(['store_id', 'weekday','state']).sum().reset_index(['state','weekday'])"
   ]
  },
  {
   "cell_type": "code",
   "execution_count": 726,
   "metadata": {},
   "outputs": [],
   "source": [
    "## Estados com maior faturamento\n",
    "best_states = ['RJ','RS','SP','PE']\n",
    "## Selecionar apenas os que estão na lista\n",
    "df_dias = df_grupo[df_grupo.state.isin(best_states)]"
   ]
  },
  {
   "cell_type": "code",
   "execution_count": 727,
   "metadata": {},
   "outputs": [
    {
     "data": {
      "image/png": "[encoded data removed]",
      "text/plain": [
       "<Figure size 720x432 with 1 Axes>"
      ]
     },
     "metadata": {},
     "output_type": "display_data"
    }
   ],
   "source": [
    "## Plot de faturamento por dia dos melhores estados\n",
    "plt.figure(figsize=(10,6))\n",
    "ax1 = sns.barplot(x='weekday',y='price', hue='state', data= df_dias, ci=0)\n",
    "ax1.set_xlabel('Dia da Semana', fontsize=14)\n",
    "ax1.set_ylabel('Faturamento - R$', fontsize=14)\n",
    "ax1.set_xticklabels(['Segunda','Terça','Quarta','Quinta','Sexta','Sabado','Domingo'])\n",
    "ax1.set_title('Faturamento por dia dos estados com maior rendimento - Lojas Físicas', fontsize=16)\n",
    "plt.savefig('./Images/Revenue-Day-Bests-Offline.jpg')"
   ]
  },
  {
   "cell_type": "code",
   "execution_count": 728,
   "metadata": {},
   "outputs": [],
   "source": [
    "store_week = cariocas.groupby(['store_id', 'weekday']).sum()"
   ]
  },
  {
   "cell_type": "code",
   "execution_count": 729,
   "metadata": {},
   "outputs": [],
   "source": [
    "store_week.reset_index(inplace=True)"
   ]
  },
  {
   "cell_type": "code",
   "execution_count": 730,
   "metadata": {},
   "outputs": [
    {
     "name": "stdout",
     "output_type": "stream",
     "text": [
      "Total Gasto nos finais de Semana: R$ 1097666.58\n"
     ]
    }
   ],
   "source": [
    "## Total Gasto no RJ em todos finais de Semana de agosto de 2018\n",
    "spend_end = store_week[(store_week.weekday==5) | (store_week.weekday==6)].price.sum()\n",
    "print('Total Gasto nos finais de Semana: R$', spend_end)"
   ]
  },
  {
   "cell_type": "code",
   "execution_count": 731,
   "metadata": {},
   "outputs": [
    {
     "name": "stdout",
     "output_type": "stream",
     "text": [
      "Gasto total: R$ 6179551.72\n"
     ]
    }
   ],
   "source": [
    "## Total Gasto\n",
    "spend_total = store_week.price.sum()\n",
    "print('Gasto total: R$', spend_total)"
   ]
  },
  {
   "cell_type": "code",
   "execution_count": 732,
   "metadata": {},
   "outputs": [
    {
     "name": "stdout",
     "output_type": "stream",
     "text": [
      "O valor das compras dos cariocas no fim de semana representam: 17.762883615771404 % do valor total das compras\n"
     ]
    }
   ],
   "source": [
    "pctg_spend = (spend_end*100)/spend_total\n",
    "print('O valor das compras dos cariocas no fim de semana representam:', pctg_spend,'% do valor total das compras')"
   ]
  },
  {
   "cell_type": "markdown",
   "metadata": {},
   "source": [
    "# 4.0 - Exportando Resultados para CSV"
   ]
  },
  {
   "cell_type": "markdown",
   "metadata": {},
   "source": [
    "## 4.1 Criar DataFrames de Saída"
   ]
  },
  {
   "cell_type": "code",
   "execution_count": 733,
   "metadata": {},
   "outputs": [],
   "source": [
    "## Criar DataFrame\n",
    "datas = {'faturamento_total(R$)':[fat_total], 'faturamento_id(R$)':[fat_id], 'loja_maior_faturamento': [maior],\n",
    "        'loja_menor_faturamento':[menor],'total_vendas_fds': [fim], \n",
    "        'total_vendas_semana':[normal], 'total_vendas': [total],'perct_vendas_fds(%)': [round(pctg_vendas,2)], \n",
    "         'gastos_fds(R$)':[spend_end], \n",
    "        'gastos_total(R$)': [spend_total], 'perct_gastos_fds(%)':[round(pctg_spend,2)]}\n",
    "df_offline = pd.DataFrame(data=datas)"
   ]
  },
  {
   "cell_type": "code",
   "execution_count": 734,
   "metadata": {},
   "outputs": [
    {
     "data": {
      "text/html": [
       "<div>\n",
       "<style scoped>\n",
       "    .dataframe tbody tr th:only-of-type {\n",
       "        vertical-align: middle;\n",
       "    }\n",
       "\n",
       "    .dataframe tbody tr th {\n",
       "        vertical-align: top;\n",
       "    }\n",
       "\n",
       "    .dataframe thead th {\n",
       "        text-align: right;\n",
       "    }\n",
       "</style>\n",
       "<table border=\"1\" class=\"dataframe\">\n",
       "  <thead>\n",
       "    <tr style=\"text-align: right;\">\n",
       "      <th></th>\n",
       "      <th>Valor</th>\n",
       "    </tr>\n",
       "  </thead>\n",
       "  <tbody>\n",
       "    <tr>\n",
       "      <td>faturamento_total(R$)</td>\n",
       "      <td>13,747,940.13</td>\n",
       "    </tr>\n",
       "    <tr>\n",
       "      <td>faturamento_id(R$)</td>\n",
       "      <td>12,202,226.88</td>\n",
       "    </tr>\n",
       "    <tr>\n",
       "      <td>loja_maior_faturamento</td>\n",
       "      <td>6361373-RJ</td>\n",
       "    </tr>\n",
       "    <tr>\n",
       "      <td>loja_menor_faturamento</td>\n",
       "      <td>3234666-RJ</td>\n",
       "    </tr>\n",
       "    <tr>\n",
       "      <td>total_vendas_fds</td>\n",
       "      <td>887</td>\n",
       "    </tr>\n",
       "    <tr>\n",
       "      <td>total_vendas_semana</td>\n",
       "      <td>3514</td>\n",
       "    </tr>\n",
       "    <tr>\n",
       "      <td>total_vendas</td>\n",
       "      <td>4401</td>\n",
       "    </tr>\n",
       "    <tr>\n",
       "      <td>perct_vendas_fds(%)</td>\n",
       "      <td>20.15</td>\n",
       "    </tr>\n",
       "    <tr>\n",
       "      <td>gastos_fds(R$)</td>\n",
       "      <td>1,097,666.58</td>\n",
       "    </tr>\n",
       "    <tr>\n",
       "      <td>gastos_total(R$)</td>\n",
       "      <td>6,179,551.72</td>\n",
       "    </tr>\n",
       "    <tr>\n",
       "      <td>perct_gastos_fds(%)</td>\n",
       "      <td>17.76</td>\n",
       "    </tr>\n",
       "  </tbody>\n",
       "</table>\n",
       "</div>"
      ],
      "text/plain": [
       "                                      Valor\n",
       "faturamento_total(R$)         13,747,940.13\n",
       "faturamento_id(R$)            12,202,226.88\n",
       "loja_maior_faturamento           6361373-RJ\n",
       "loja_menor_faturamento           3234666-RJ\n",
       "total_vendas_fds                        887\n",
       "total_vendas_semana                    3514\n",
       "total_vendas                           4401\n",
       "perct_vendas_fds(%)                   20.15\n",
       "gastos_fds(R$)                 1,097,666.58\n",
       "gastos_total(R$)               6,179,551.72\n",
       "perct_gastos_fds(%)                   17.76"
      ]
     },
     "execution_count": 734,
     "metadata": {},
     "output_type": "execute_result"
    }
   ],
   "source": [
    "## Tranposta DF para melhor legibilidade\n",
    "pd.options.display.float_format = '{:20,.2f}'.format\n",
    "transpose = df_offline.transpose()\n",
    "transpose.columns = ['Valor']\n",
    "transpose"
   ]
  },
  {
   "cell_type": "markdown",
   "metadata": {},
   "source": [
    "### 4.2 Exportar DataFrames"
   ]
  },
  {
   "cell_type": "code",
   "execution_count": 735,
   "metadata": {},
   "outputs": [],
   "source": [
    "## Exporta DataFrame de Saída em Colunas\n",
    "df_offline.to_csv(r'./Outputs/Offline_Data/Off_Output_Horizontal.csv')\n",
    "## Exporta DataFrame de Saída Transposto (em linhas)\n",
    "transpose.to_csv(r'./Outputs/Offline_Data/Off_Output_Vertical.csv')"
   ]
  },
  {
   "cell_type": "markdown",
   "metadata": {},
   "source": [
    "# 5.0 - Manipulação Extra (gerar dados para uso nos dados Online)"
   ]
  },
  {
   "cell_type": "code",
   "execution_count": 836,
   "metadata": {},
   "outputs": [],
   "source": [
    "## Agrupa por id e estado\n",
    "estados = df.groupby(['customer_id','state']).sum().reset_index()"
   ]
  },
  {
   "cell_type": "code",
   "execution_count": 837,
   "metadata": {},
   "outputs": [],
   "source": [
    "## Dropa colunas desnecessarias\n",
    "estados.drop(['store_id','sale_id','off_product_id','quantity','price','weekday'], axis=1, inplace=True)"
   ]
  },
  {
   "cell_type": "code",
   "execution_count": 838,
   "metadata": {},
   "outputs": [],
   "source": [
    "## Cria lista de clientes que compraram em mais de um estado\n",
    "lista_ids = list(estados[estados.duplicated('customer_id')==1].customer_id)\n",
    "lista_ids = list(np.unique(lista_ids))"
   ]
  },
  {
   "cell_type": "code",
   "execution_count": 839,
   "metadata": {},
   "outputs": [],
   "source": [
    "def get_state(name):\n",
    "    estado = list(estados[estados.customer_id==name]['state'])\n",
    "    if 'RJ' in estado:\n",
    "        return 'RJ'\n",
    "    elif 'SP' in estado:\n",
    "        return 'SP'\n",
    "    elif 'RS' in estado:\n",
    "        return 'RS'\n",
    "    elif 'PE' in estado:\n",
    "        return 'PE'\n",
    "    else:\n",
    "        return estado[0]"
   ]
  },
  {
   "cell_type": "code",
   "execution_count": 840,
   "metadata": {},
   "outputs": [],
   "source": [
    "## Cria lista vazia\n",
    "state = []\n",
    "## Itera sobre os clientes que compraram em mais de um estado para retornar o estado mais adequado\n",
    "## Usa como base os estados com maior faturamento\n",
    "for name in lista_ids:\n",
    "    state.append(get_state(name))"
   ]
  },
  {
   "cell_type": "code",
   "execution_count": 841,
   "metadata": {},
   "outputs": [],
   "source": [
    "copy = estados[estados.duplicated('customer_id')].copy()"
   ]
  },
  {
   "cell_type": "code",
   "execution_count": 842,
   "metadata": {},
   "outputs": [
    {
     "data": {
      "text/html": [
       "<div>\n",
       "<style scoped>\n",
       "    .dataframe tbody tr th:only-of-type {\n",
       "        vertical-align: middle;\n",
       "    }\n",
       "\n",
       "    .dataframe tbody tr th {\n",
       "        vertical-align: top;\n",
       "    }\n",
       "\n",
       "    .dataframe thead th {\n",
       "        text-align: right;\n",
       "    }\n",
       "</style>\n",
       "<table border=\"1\" class=\"dataframe\">\n",
       "  <thead>\n",
       "    <tr style=\"text-align: right;\">\n",
       "      <th></th>\n",
       "      <th>customer_id</th>\n",
       "      <th>state</th>\n",
       "    </tr>\n",
       "  </thead>\n",
       "  <tbody>\n",
       "    <tr>\n",
       "      <td>392</td>\n",
       "      <td>30393966313737343366</td>\n",
       "      <td>PR</td>\n",
       "    </tr>\n",
       "    <tr>\n",
       "      <td>393</td>\n",
       "      <td>30393966313737343366</td>\n",
       "      <td>RJ</td>\n",
       "    </tr>\n",
       "    <tr>\n",
       "      <td>810</td>\n",
       "      <td>31343737316437373035</td>\n",
       "      <td>SP</td>\n",
       "    </tr>\n",
       "    <tr>\n",
       "      <td>860</td>\n",
       "      <td>31356263333435333536</td>\n",
       "      <td>SP</td>\n",
       "    </tr>\n",
       "    <tr>\n",
       "      <td>1012</td>\n",
       "      <td>31393335313637316236</td>\n",
       "      <td>RJ</td>\n",
       "    </tr>\n",
       "  </tbody>\n",
       "</table>\n",
       "</div>"
      ],
      "text/plain": [
       "               customer_id state\n",
       "392   30393966313737343366    PR\n",
       "393   30393966313737343366    RJ\n",
       "810   31343737316437373035    SP\n",
       "860   31356263333435333536    SP\n",
       "1012  31393335313637316236    RJ"
      ]
     },
     "execution_count": 842,
     "metadata": {},
     "output_type": "execute_result"
    }
   ],
   "source": [
    "copy.head()"
   ]
  },
  {
   "cell_type": "code",
   "execution_count": 843,
   "metadata": {},
   "outputs": [],
   "source": [
    "## Dropa duplicados e reseta index\n",
    "estados.drop_duplicates('customer_id',inplace=True)"
   ]
  },
  {
   "cell_type": "code",
   "execution_count": 844,
   "metadata": {},
   "outputs": [],
   "source": [
    "estados.dropna(inplace=True)"
   ]
  },
  {
   "cell_type": "code",
   "execution_count": 845,
   "metadata": {},
   "outputs": [],
   "source": [
    "estados.reset_index(inplace=True)\n",
    "estados.drop(columns='index', axis=1,inplace=True)"
   ]
  },
  {
   "cell_type": "code",
   "execution_count": 863,
   "metadata": {},
   "outputs": [],
   "source": [
    "def set_state(name):\n",
    "    if copy.customer_id.isin([name]).sum()>=1:\n",
    "        lista = copy[copy.customer_id==name].customer_id.values\n",
    "        return lista\n",
    "    else:\n",
    "        lista = estados[estados.customer_id==name].customer_id.values\n",
    "        return lista"
   ]
  }
 ],
 "metadata": {
  "kernelspec": {
   "display_name": "Python 3",
   "language": "python",
   "name": "python3"
  },
  "language_info": {
   "codemirror_mode": {
    "name": "ipython",
    "version": 3
   },
   "file_extension": ".py",
   "mimetype": "text/x-python",
   "name": "python",
   "nbconvert_exporter": "python",
   "pygments_lexer": "ipython3",
   "version": "3.7.4"
  }
 },
 "nbformat": 4,
 "nbformat_minor": 2
}
