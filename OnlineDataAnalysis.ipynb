{
 "cells": [
  {
   "cell_type": "code",
   "execution_count": 1,
   "metadata": {},
   "outputs": [],
   "source": [
    "import pandas as pd\n",
    "import numpy as np\n",
    "import matplotlib.pyplot as plt\n",
    "import seaborn as sns\n",
    "import datetime\n",
    "import calendar\n",
    "sns.set_style('whitegrid')\n"
   ]
  },
  {
   "cell_type": "code",
   "execution_count": 2,
   "metadata": {},
   "outputs": [],
   "source": [
    "## Path\n",
    "file = './Data/Small_Data/online_orders.json'"
   ]
  },
  {
   "cell_type": "code",
   "execution_count": 3,
   "metadata": {},
   "outputs": [],
   "source": [
    "## Carregar Arquivo (customer_id e visitor_id como string para evitar notação cientifica)\n",
    "df = pd.read_json(file, lines=True, dtype={'visitor_id':str,'customer_id': str})"
   ]
  },
  {
   "cell_type": "markdown",
   "metadata": {},
   "source": [
    "# 1.0 - Exploratory Data Analysis | Análise Exploratória de Dados"
   ]
  },
  {
   "cell_type": "code",
   "execution_count": 4,
   "metadata": {},
   "outputs": [
    {
     "data": {
      "text/html": [
       "<div>\n",
       "<style scoped>\n",
       "    .dataframe tbody tr th:only-of-type {\n",
       "        vertical-align: middle;\n",
       "    }\n",
       "\n",
       "    .dataframe tbody tr th {\n",
       "        vertical-align: top;\n",
       "    }\n",
       "\n",
       "    .dataframe thead th {\n",
       "        text-align: right;\n",
       "    }\n",
       "</style>\n",
       "<table border=\"1\" class=\"dataframe\">\n",
       "  <thead>\n",
       "    <tr style=\"text-align: right;\">\n",
       "      <th></th>\n",
       "      <th>date</th>\n",
       "      <th>visitor_id</th>\n",
       "      <th>deviceType</th>\n",
       "      <th>order_id</th>\n",
       "      <th>on_product_id</th>\n",
       "      <th>quantity</th>\n",
       "      <th>price</th>\n",
       "      <th>customer_id</th>\n",
       "    </tr>\n",
       "  </thead>\n",
       "  <tbody>\n",
       "    <tr>\n",
       "      <td>0</td>\n",
       "      <td>2018-08-01</td>\n",
       "      <td>3663323563643832383039356</td>\n",
       "      <td>desktop</td>\n",
       "      <td>363063373630306</td>\n",
       "      <td>323762666337343</td>\n",
       "      <td>1</td>\n",
       "      <td>839</td>\n",
       "      <td>None</td>\n",
       "    </tr>\n",
       "    <tr>\n",
       "      <td>1</td>\n",
       "      <td>2018-08-01</td>\n",
       "      <td>3430316531623964316332613</td>\n",
       "      <td>mobile</td>\n",
       "      <td>356664366366353</td>\n",
       "      <td>313562333039323</td>\n",
       "      <td>1</td>\n",
       "      <td>629</td>\n",
       "      <td>63393337303931353431</td>\n",
       "    </tr>\n",
       "    <tr>\n",
       "      <td>2</td>\n",
       "      <td>2018-08-01</td>\n",
       "      <td>3261343261306231336437393</td>\n",
       "      <td>desktop</td>\n",
       "      <td>313432656633333</td>\n",
       "      <td>383863346531623</td>\n",
       "      <td>1</td>\n",
       "      <td>219</td>\n",
       "      <td>37653631373639353439</td>\n",
       "    </tr>\n",
       "    <tr>\n",
       "      <td>3</td>\n",
       "      <td>2018-08-01</td>\n",
       "      <td>6437386532653732323563656</td>\n",
       "      <td>mobile</td>\n",
       "      <td>633236633438383</td>\n",
       "      <td>666136386663626</td>\n",
       "      <td>1</td>\n",
       "      <td>239</td>\n",
       "      <td>65333830303066373165</td>\n",
       "    </tr>\n",
       "    <tr>\n",
       "      <td>4</td>\n",
       "      <td>2018-08-01</td>\n",
       "      <td>6264656662326430346661616</td>\n",
       "      <td>desktop</td>\n",
       "      <td>623030326130383</td>\n",
       "      <td>626533383465323</td>\n",
       "      <td>1</td>\n",
       "      <td>69</td>\n",
       "      <td>None</td>\n",
       "    </tr>\n",
       "    <tr>\n",
       "      <td>5</td>\n",
       "      <td>2018-08-01</td>\n",
       "      <td>6638653965656263613238623</td>\n",
       "      <td>desktop</td>\n",
       "      <td>343136663661646</td>\n",
       "      <td>366464333539333</td>\n",
       "      <td>1</td>\n",
       "      <td>298</td>\n",
       "      <td>None</td>\n",
       "    </tr>\n",
       "    <tr>\n",
       "      <td>6</td>\n",
       "      <td>2018-08-01</td>\n",
       "      <td>6438323963376433356532633</td>\n",
       "      <td>desktop</td>\n",
       "      <td>353131646163336</td>\n",
       "      <td>373163626265643</td>\n",
       "      <td>1</td>\n",
       "      <td>598</td>\n",
       "      <td>None</td>\n",
       "    </tr>\n",
       "    <tr>\n",
       "      <td>7</td>\n",
       "      <td>2018-08-02</td>\n",
       "      <td>3933383761663335353034373</td>\n",
       "      <td>mobile</td>\n",
       "      <td>636536353265386</td>\n",
       "      <td>356466373137383</td>\n",
       "      <td>1</td>\n",
       "      <td>1798</td>\n",
       "      <td>61306161303630373135</td>\n",
       "    </tr>\n",
       "    <tr>\n",
       "      <td>8</td>\n",
       "      <td>2018-08-02</td>\n",
       "      <td>6363363338623337663538353</td>\n",
       "      <td>mobile</td>\n",
       "      <td>363037313438636</td>\n",
       "      <td>383530353262626</td>\n",
       "      <td>1</td>\n",
       "      <td>428</td>\n",
       "      <td>62633265623261666566</td>\n",
       "    </tr>\n",
       "    <tr>\n",
       "      <td>9</td>\n",
       "      <td>2018-08-02</td>\n",
       "      <td>3761306638666637343734393</td>\n",
       "      <td>desktop</td>\n",
       "      <td>343238636534646</td>\n",
       "      <td>303936663162613</td>\n",
       "      <td>1</td>\n",
       "      <td>298</td>\n",
       "      <td>35623131306438343161</td>\n",
       "    </tr>\n",
       "  </tbody>\n",
       "</table>\n",
       "</div>"
      ],
      "text/plain": [
       "        date                 visitor_id deviceType         order_id  \\\n",
       "0 2018-08-01  3663323563643832383039356    desktop  363063373630306   \n",
       "1 2018-08-01  3430316531623964316332613     mobile  356664366366353   \n",
       "2 2018-08-01  3261343261306231336437393    desktop  313432656633333   \n",
       "3 2018-08-01  6437386532653732323563656     mobile  633236633438383   \n",
       "4 2018-08-01  6264656662326430346661616    desktop  623030326130383   \n",
       "5 2018-08-01  6638653965656263613238623    desktop  343136663661646   \n",
       "6 2018-08-01  6438323963376433356532633    desktop  353131646163336   \n",
       "7 2018-08-02  3933383761663335353034373     mobile  636536353265386   \n",
       "8 2018-08-02  6363363338623337663538353     mobile  363037313438636   \n",
       "9 2018-08-02  3761306638666637343734393    desktop  343238636534646   \n",
       "\n",
       "     on_product_id  quantity  price           customer_id  \n",
       "0  323762666337343         1    839                  None  \n",
       "1  313562333039323         1    629  63393337303931353431  \n",
       "2  383863346531623         1    219  37653631373639353439  \n",
       "3  666136386663626         1    239  65333830303066373165  \n",
       "4  626533383465323         1     69                  None  \n",
       "5  366464333539333         1    298                  None  \n",
       "6  373163626265643         1    598                  None  \n",
       "7  356466373137383         1   1798  61306161303630373135  \n",
       "8  383530353262626         1    428  62633265623261666566  \n",
       "9  303936663162613         1    298  35623131306438343161  "
      ]
     },
     "execution_count": 4,
     "metadata": {},
     "output_type": "execute_result"
    }
   ],
   "source": [
    "df.head(10)"
   ]
  },
  {
   "cell_type": "code",
   "execution_count": 5,
   "metadata": {},
   "outputs": [
    {
     "name": "stdout",
     "output_type": "stream",
     "text": [
      "<class 'pandas.core.frame.DataFrame'>\n",
      "RangeIndex: 12237 entries, 0 to 12236\n",
      "Data columns (total 8 columns):\n",
      "date             12237 non-null datetime64[ns]\n",
      "visitor_id       12237 non-null object\n",
      "deviceType       12237 non-null object\n",
      "order_id         12237 non-null int64\n",
      "on_product_id    12237 non-null int64\n",
      "quantity         12237 non-null int64\n",
      "price            12237 non-null int64\n",
      "customer_id      12237 non-null object\n",
      "dtypes: datetime64[ns](1), int64(4), object(3)\n",
      "memory usage: 764.9+ KB\n"
     ]
    }
   ],
   "source": [
    "df.info()"
   ]
  },
  {
   "cell_type": "code",
   "execution_count": 6,
   "metadata": {},
   "outputs": [],
   "source": [
    "df.customer_id.replace('None', np.nan, inplace=True)\n",
    "df.visitor_id.replace('None', np.nan, inplace=True)"
   ]
  },
  {
   "cell_type": "code",
   "execution_count": 7,
   "metadata": {},
   "outputs": [
    {
     "data": {
      "text/plain": [
       "3531"
      ]
     },
     "execution_count": 7,
     "metadata": {},
     "output_type": "execute_result"
    }
   ],
   "source": [
    "## Quantos Clientes Existem além dos nulos?\n",
    "len(df.customer_id.unique())"
   ]
  },
  {
   "cell_type": "code",
   "execution_count": 8,
   "metadata": {},
   "outputs": [
    {
     "name": "stdout",
     "output_type": "stream",
     "text": [
      "Dia Inicial: 2018-08-01 00:00:00\n",
      "Dia Final: 2018-08-31 00:00:00\n"
     ]
    }
   ],
   "source": [
    "print('Dia Inicial:',df.date.min())\n",
    "print('Dia Final:',df.date.max())"
   ]
  },
  {
   "cell_type": "markdown",
   "metadata": {},
   "source": [
    "Periodo de coleta = Periodo offline (ok)"
   ]
  },
  {
   "cell_type": "code",
   "execution_count": 9,
   "metadata": {},
   "outputs": [
    {
     "data": {
      "text/plain": [
       "mobile     6971\n",
       "desktop    5266\n",
       "Name: deviceType, dtype: int64"
      ]
     },
     "execution_count": 9,
     "metadata": {},
     "output_type": "execute_result"
    }
   ],
   "source": [
    "## Acessos\n",
    "df.deviceType.value_counts()"
   ]
  },
  {
   "cell_type": "markdown",
   "metadata": {},
   "source": [
    "**Acesso Mobile > Acesso Desktop**"
   ]
  },
  {
   "cell_type": "code",
   "execution_count": 10,
   "metadata": {},
   "outputs": [
    {
     "data": {
      "text/html": [
       "<div>\n",
       "<style scoped>\n",
       "    .dataframe tbody tr th:only-of-type {\n",
       "        vertical-align: middle;\n",
       "    }\n",
       "\n",
       "    .dataframe tbody tr th {\n",
       "        vertical-align: top;\n",
       "    }\n",
       "\n",
       "    .dataframe thead th {\n",
       "        text-align: right;\n",
       "    }\n",
       "</style>\n",
       "<table border=\"1\" class=\"dataframe\">\n",
       "  <thead>\n",
       "    <tr style=\"text-align: right;\">\n",
       "      <th></th>\n",
       "      <th>date</th>\n",
       "      <th>visitor_id</th>\n",
       "      <th>deviceType</th>\n",
       "      <th>order_id</th>\n",
       "      <th>on_product_id</th>\n",
       "      <th>quantity</th>\n",
       "      <th>price</th>\n",
       "      <th>customer_id</th>\n",
       "    </tr>\n",
       "  </thead>\n",
       "  <tbody>\n",
       "    <tr>\n",
       "      <td>596</td>\n",
       "      <td>2018-08-15</td>\n",
       "      <td>3964346363373032643564653</td>\n",
       "      <td>mobile</td>\n",
       "      <td>353034336533306</td>\n",
       "      <td>633263646431626</td>\n",
       "      <td>1</td>\n",
       "      <td>11190</td>\n",
       "      <td>34366334393234303934</td>\n",
       "    </tr>\n",
       "    <tr>\n",
       "      <td>1854</td>\n",
       "      <td>2018-08-21</td>\n",
       "      <td>3731333664356630383162346</td>\n",
       "      <td>mobile</td>\n",
       "      <td>653465353366643</td>\n",
       "      <td>373236323565303</td>\n",
       "      <td>1</td>\n",
       "      <td>11190</td>\n",
       "      <td>35363233663665383639</td>\n",
       "    </tr>\n",
       "    <tr>\n",
       "      <td>8461</td>\n",
       "      <td>2018-08-15</td>\n",
       "      <td>3838383135656264386463313</td>\n",
       "      <td>desktop</td>\n",
       "      <td>346632663531363</td>\n",
       "      <td>373236323565303</td>\n",
       "      <td>1</td>\n",
       "      <td>11190</td>\n",
       "      <td>NaN</td>\n",
       "    </tr>\n",
       "    <tr>\n",
       "      <td>10814</td>\n",
       "      <td>2018-08-15</td>\n",
       "      <td>6336383764623038333638396</td>\n",
       "      <td>mobile</td>\n",
       "      <td>623864623164616</td>\n",
       "      <td>633263646431626</td>\n",
       "      <td>1</td>\n",
       "      <td>11190</td>\n",
       "      <td>61373536353465303639</td>\n",
       "    </tr>\n",
       "  </tbody>\n",
       "</table>\n",
       "</div>"
      ],
      "text/plain": [
       "            date                 visitor_id deviceType         order_id  \\\n",
       "596   2018-08-15  3964346363373032643564653     mobile  353034336533306   \n",
       "1854  2018-08-21  3731333664356630383162346     mobile  653465353366643   \n",
       "8461  2018-08-15  3838383135656264386463313    desktop  346632663531363   \n",
       "10814 2018-08-15  6336383764623038333638396     mobile  623864623164616   \n",
       "\n",
       "         on_product_id  quantity  price           customer_id  \n",
       "596    633263646431626         1  11190  34366334393234303934  \n",
       "1854   373236323565303         1  11190  35363233663665383639  \n",
       "8461   373236323565303         1  11190                   NaN  \n",
       "10814  633263646431626         1  11190  61373536353465303639  "
      ]
     },
     "execution_count": 10,
     "metadata": {},
     "output_type": "execute_result"
    }
   ],
   "source": [
    "df[df.price==df.price.max()]"
   ]
  },
  {
   "cell_type": "markdown",
   "metadata": {},
   "source": [
    "### Que produto é esse que um item tem preço de 11190?"
   ]
  },
  {
   "cell_type": "code",
   "execution_count": 11,
   "metadata": {},
   "outputs": [
    {
     "data": {
      "text/plain": [
       "1    12209\n",
       "2       26\n",
       "3        2\n",
       "Name: quantity, dtype: int64"
      ]
     },
     "execution_count": 11,
     "metadata": {},
     "output_type": "execute_result"
    }
   ],
   "source": [
    "df.quantity.value_counts()"
   ]
  },
  {
   "cell_type": "markdown",
   "metadata": {},
   "source": [
    "# 2.0 - Preparation | Preparação"
   ]
  },
  {
   "cell_type": "markdown",
   "metadata": {},
   "source": [
    "## 2.1 Data Cleaning - NaN | Limpeza de Dados - NaN"
   ]
  },
  {
   "cell_type": "code",
   "execution_count": 12,
   "metadata": {},
   "outputs": [
    {
     "data": {
      "text/plain": [
       "date                0\n",
       "visitor_id          0\n",
       "deviceType          0\n",
       "order_id            0\n",
       "on_product_id       0\n",
       "quantity            0\n",
       "price               0\n",
       "customer_id      4480\n",
       "dtype: int64"
      ]
     },
     "execution_count": 12,
     "metadata": {},
     "output_type": "execute_result"
    }
   ],
   "source": [
    "df.isnull().sum()"
   ]
  },
  {
   "cell_type": "code",
   "execution_count": 13,
   "metadata": {},
   "outputs": [
    {
     "data": {
      "text/plain": [
       "12237"
      ]
     },
     "execution_count": 13,
     "metadata": {},
     "output_type": "execute_result"
    }
   ],
   "source": [
    "len(df.customer_id)"
   ]
  },
  {
   "cell_type": "markdown",
   "metadata": {},
   "source": [
    "**4480 NaN no customer_id column, pq existem compras online sem identificação de user?**  \n",
    "**36% do costumer_id está vazio (valor alto)** "
   ]
  },
  {
   "cell_type": "code",
   "execution_count": 14,
   "metadata": {},
   "outputs": [
    {
     "name": "stdout",
     "output_type": "stream",
     "text": [
      "<class 'pandas.core.frame.DataFrame'>\n",
      "Int64Index: 7757 entries, 1 to 12236\n",
      "Data columns (total 8 columns):\n",
      "date             7757 non-null datetime64[ns]\n",
      "visitor_id       7757 non-null object\n",
      "deviceType       7757 non-null object\n",
      "order_id         7757 non-null int64\n",
      "on_product_id    7757 non-null int64\n",
      "quantity         7757 non-null int64\n",
      "price            7757 non-null int64\n",
      "customer_id      7757 non-null object\n",
      "dtypes: datetime64[ns](1), int64(4), object(3)\n",
      "memory usage: 545.4+ KB\n"
     ]
    }
   ],
   "source": [
    "## Drop valores null\n",
    "no_null = df.copy()\n",
    "no_null.dropna(axis=0, inplace=True)\n",
    "no_null.info()"
   ]
  },
  {
   "cell_type": "code",
   "execution_count": 15,
   "metadata": {},
   "outputs": [
    {
     "data": {
      "text/html": [
       "<div>\n",
       "<style scoped>\n",
       "    .dataframe tbody tr th:only-of-type {\n",
       "        vertical-align: middle;\n",
       "    }\n",
       "\n",
       "    .dataframe tbody tr th {\n",
       "        vertical-align: top;\n",
       "    }\n",
       "\n",
       "    .dataframe thead th {\n",
       "        text-align: right;\n",
       "    }\n",
       "</style>\n",
       "<table border=\"1\" class=\"dataframe\">\n",
       "  <thead>\n",
       "    <tr style=\"text-align: right;\">\n",
       "      <th></th>\n",
       "      <th>date</th>\n",
       "      <th>visitor_id</th>\n",
       "      <th>deviceType</th>\n",
       "      <th>order_id</th>\n",
       "      <th>on_product_id</th>\n",
       "      <th>quantity</th>\n",
       "      <th>price</th>\n",
       "      <th>customer_id</th>\n",
       "    </tr>\n",
       "  </thead>\n",
       "  <tbody>\n",
       "    <tr>\n",
       "      <td>0</td>\n",
       "      <td>2018-08-01</td>\n",
       "      <td>3430316531623964316332613</td>\n",
       "      <td>mobile</td>\n",
       "      <td>356664366366353</td>\n",
       "      <td>313562333039323</td>\n",
       "      <td>1</td>\n",
       "      <td>629</td>\n",
       "      <td>63393337303931353431</td>\n",
       "    </tr>\n",
       "    <tr>\n",
       "      <td>1</td>\n",
       "      <td>2018-08-01</td>\n",
       "      <td>3261343261306231336437393</td>\n",
       "      <td>desktop</td>\n",
       "      <td>313432656633333</td>\n",
       "      <td>383863346531623</td>\n",
       "      <td>1</td>\n",
       "      <td>219</td>\n",
       "      <td>37653631373639353439</td>\n",
       "    </tr>\n",
       "    <tr>\n",
       "      <td>2</td>\n",
       "      <td>2018-08-01</td>\n",
       "      <td>6437386532653732323563656</td>\n",
       "      <td>mobile</td>\n",
       "      <td>633236633438383</td>\n",
       "      <td>666136386663626</td>\n",
       "      <td>1</td>\n",
       "      <td>239</td>\n",
       "      <td>65333830303066373165</td>\n",
       "    </tr>\n",
       "    <tr>\n",
       "      <td>3</td>\n",
       "      <td>2018-08-02</td>\n",
       "      <td>3933383761663335353034373</td>\n",
       "      <td>mobile</td>\n",
       "      <td>636536353265386</td>\n",
       "      <td>356466373137383</td>\n",
       "      <td>1</td>\n",
       "      <td>1798</td>\n",
       "      <td>61306161303630373135</td>\n",
       "    </tr>\n",
       "    <tr>\n",
       "      <td>4</td>\n",
       "      <td>2018-08-02</td>\n",
       "      <td>6363363338623337663538353</td>\n",
       "      <td>mobile</td>\n",
       "      <td>363037313438636</td>\n",
       "      <td>383530353262626</td>\n",
       "      <td>1</td>\n",
       "      <td>428</td>\n",
       "      <td>62633265623261666566</td>\n",
       "    </tr>\n",
       "  </tbody>\n",
       "</table>\n",
       "</div>"
      ],
      "text/plain": [
       "        date                 visitor_id deviceType         order_id  \\\n",
       "0 2018-08-01  3430316531623964316332613     mobile  356664366366353   \n",
       "1 2018-08-01  3261343261306231336437393    desktop  313432656633333   \n",
       "2 2018-08-01  6437386532653732323563656     mobile  633236633438383   \n",
       "3 2018-08-02  3933383761663335353034373     mobile  636536353265386   \n",
       "4 2018-08-02  6363363338623337663538353     mobile  363037313438636   \n",
       "\n",
       "     on_product_id  quantity  price           customer_id  \n",
       "0  313562333039323         1    629  63393337303931353431  \n",
       "1  383863346531623         1    219  37653631373639353439  \n",
       "2  666136386663626         1    239  65333830303066373165  \n",
       "3  356466373137383         1   1798  61306161303630373135  \n",
       "4  383530353262626         1    428  62633265623261666566  "
      ]
     },
     "execution_count": 15,
     "metadata": {},
     "output_type": "execute_result"
    }
   ],
   "source": [
    "## Reorganiza indices\n",
    "no_null = no_null.reset_index().drop(columns=['index'])\n",
    "no_null.head()"
   ]
  },
  {
   "cell_type": "markdown",
   "metadata": {},
   "source": [
    "## 2.2 Data Cleaning - Outliers | Limpeza de Dados - Outliers"
   ]
  },
  {
   "cell_type": "code",
   "execution_count": 16,
   "metadata": {},
   "outputs": [
    {
     "data": {
      "text/plain": [
       "count    12237.000000\n",
       "mean       461.047397\n",
       "std        481.098790\n",
       "min         19.000000\n",
       "25%        209.000000\n",
       "50%        359.000000\n",
       "75%        569.000000\n",
       "max      11190.000000\n",
       "Name: price, dtype: float64"
      ]
     },
     "execution_count": 16,
     "metadata": {},
     "output_type": "execute_result"
    }
   ],
   "source": [
    "df.price.describe()"
   ]
  },
  {
   "cell_type": "code",
   "execution_count": 17,
   "metadata": {},
   "outputs": [
    {
     "data": {
      "text/plain": [
       "<matplotlib.axes._subplots.AxesSubplot at 0x7f57896cf610>"
      ]
     },
     "execution_count": 17,
     "metadata": {},
     "output_type": "execute_result"
    },
    {
     "data": {
      "image/png": "[encoded data removed]",
      "text/plain": [
       "<Figure size 432x288 with 1 Axes>"
      ]
     },
     "metadata": {
      "needs_background": "light"
     },
     "output_type": "display_data"
    }
   ],
   "source": [
    "df.price.plot(kind='box')"
   ]
  },
  {
   "cell_type": "markdown",
   "metadata": {},
   "source": [
    "**Mediana representa melhor que média**"
   ]
  },
  {
   "cell_type": "code",
   "execution_count": 18,
   "metadata": {},
   "outputs": [
    {
     "data": {
      "text/html": [
       "<div>\n",
       "<style scoped>\n",
       "    .dataframe tbody tr th:only-of-type {\n",
       "        vertical-align: middle;\n",
       "    }\n",
       "\n",
       "    .dataframe tbody tr th {\n",
       "        vertical-align: top;\n",
       "    }\n",
       "\n",
       "    .dataframe thead th {\n",
       "        text-align: right;\n",
       "    }\n",
       "</style>\n",
       "<table border=\"1\" class=\"dataframe\">\n",
       "  <thead>\n",
       "    <tr style=\"text-align: right;\">\n",
       "      <th></th>\n",
       "      <th>date</th>\n",
       "      <th>visitor_id</th>\n",
       "      <th>deviceType</th>\n",
       "      <th>order_id</th>\n",
       "      <th>on_product_id</th>\n",
       "      <th>quantity</th>\n",
       "      <th>price</th>\n",
       "      <th>customer_id</th>\n",
       "    </tr>\n",
       "  </thead>\n",
       "  <tbody>\n",
       "    <tr>\n",
       "      <td>596</td>\n",
       "      <td>2018-08-15</td>\n",
       "      <td>3964346363373032643564653</td>\n",
       "      <td>mobile</td>\n",
       "      <td>353034336533306</td>\n",
       "      <td>633263646431626</td>\n",
       "      <td>1</td>\n",
       "      <td>11190</td>\n",
       "      <td>34366334393234303934</td>\n",
       "    </tr>\n",
       "    <tr>\n",
       "      <td>1016</td>\n",
       "      <td>2018-08-16</td>\n",
       "      <td>3863393432663064653564393</td>\n",
       "      <td>mobile</td>\n",
       "      <td>643934386339343</td>\n",
       "      <td>656161613963633</td>\n",
       "      <td>1</td>\n",
       "      <td>7399</td>\n",
       "      <td>32383332626361303562</td>\n",
       "    </tr>\n",
       "    <tr>\n",
       "      <td>1854</td>\n",
       "      <td>2018-08-21</td>\n",
       "      <td>3731333664356630383162346</td>\n",
       "      <td>mobile</td>\n",
       "      <td>653465353366643</td>\n",
       "      <td>373236323565303</td>\n",
       "      <td>1</td>\n",
       "      <td>11190</td>\n",
       "      <td>35363233663665383639</td>\n",
       "    </tr>\n",
       "    <tr>\n",
       "      <td>8461</td>\n",
       "      <td>2018-08-15</td>\n",
       "      <td>3838383135656264386463313</td>\n",
       "      <td>desktop</td>\n",
       "      <td>346632663531363</td>\n",
       "      <td>373236323565303</td>\n",
       "      <td>1</td>\n",
       "      <td>11190</td>\n",
       "      <td>NaN</td>\n",
       "    </tr>\n",
       "    <tr>\n",
       "      <td>10814</td>\n",
       "      <td>2018-08-15</td>\n",
       "      <td>6336383764623038333638396</td>\n",
       "      <td>mobile</td>\n",
       "      <td>623864623164616</td>\n",
       "      <td>633263646431626</td>\n",
       "      <td>1</td>\n",
       "      <td>11190</td>\n",
       "      <td>61373536353465303639</td>\n",
       "    </tr>\n",
       "    <tr>\n",
       "      <td>11576</td>\n",
       "      <td>2018-08-15</td>\n",
       "      <td>6230376437366531633061373</td>\n",
       "      <td>mobile</td>\n",
       "      <td>373131333539306</td>\n",
       "      <td>616637363432393</td>\n",
       "      <td>1</td>\n",
       "      <td>10590</td>\n",
       "      <td>NaN</td>\n",
       "    </tr>\n",
       "  </tbody>\n",
       "</table>\n",
       "</div>"
      ],
      "text/plain": [
       "            date                 visitor_id deviceType         order_id  \\\n",
       "596   2018-08-15  3964346363373032643564653     mobile  353034336533306   \n",
       "1016  2018-08-16  3863393432663064653564393     mobile  643934386339343   \n",
       "1854  2018-08-21  3731333664356630383162346     mobile  653465353366643   \n",
       "8461  2018-08-15  3838383135656264386463313    desktop  346632663531363   \n",
       "10814 2018-08-15  6336383764623038333638396     mobile  623864623164616   \n",
       "11576 2018-08-15  6230376437366531633061373     mobile  373131333539306   \n",
       "\n",
       "         on_product_id  quantity  price           customer_id  \n",
       "596    633263646431626         1  11190  34366334393234303934  \n",
       "1016   656161613963633         1   7399  32383332626361303562  \n",
       "1854   373236323565303         1  11190  35363233663665383639  \n",
       "8461   373236323565303         1  11190                   NaN  \n",
       "10814  633263646431626         1  11190  61373536353465303639  \n",
       "11576  616637363432393         1  10590                   NaN  "
      ]
     },
     "execution_count": 18,
     "metadata": {},
     "output_type": "execute_result"
    }
   ],
   "source": [
    "df[df.price>5000]"
   ]
  },
  {
   "cell_type": "markdown",
   "metadata": {},
   "source": [
    "## 2.3 Data Cleaning - Duplicated | Limpeza de Dados - Duplicados "
   ]
  },
  {
   "cell_type": "code",
   "execution_count": 19,
   "metadata": {},
   "outputs": [
    {
     "data": {
      "text/plain": [
       "0"
      ]
     },
     "execution_count": 19,
     "metadata": {},
     "output_type": "execute_result"
    }
   ],
   "source": [
    "df.duplicated().sum()"
   ]
  },
  {
   "cell_type": "markdown",
   "metadata": {},
   "source": [
    "**Não existem linhas completamente duplicadas e a duplicidade de valores individuais não são problema**"
   ]
  },
  {
   "cell_type": "markdown",
   "metadata": {},
   "source": [
    "## 2.4 - Adicionar Coluna de dia da Semana"
   ]
  },
  {
   "cell_type": "code",
   "execution_count": 20,
   "metadata": {},
   "outputs": [],
   "source": [
    "df['weekday'] = df['date'].dt.dayofweek"
   ]
  },
  {
   "cell_type": "markdown",
   "metadata": {},
   "source": [
    "# 3.0 - Análises"
   ]
  },
  {
   "cell_type": "code",
   "execution_count": 21,
   "metadata": {},
   "outputs": [
    {
     "data": {
      "text/html": [
       "<div>\n",
       "<style scoped>\n",
       "    .dataframe tbody tr th:only-of-type {\n",
       "        vertical-align: middle;\n",
       "    }\n",
       "\n",
       "    .dataframe tbody tr th {\n",
       "        vertical-align: top;\n",
       "    }\n",
       "\n",
       "    .dataframe thead th {\n",
       "        text-align: right;\n",
       "    }\n",
       "</style>\n",
       "<table border=\"1\" class=\"dataframe\">\n",
       "  <thead>\n",
       "    <tr style=\"text-align: right;\">\n",
       "      <th></th>\n",
       "      <th>date</th>\n",
       "      <th>visitor_id</th>\n",
       "      <th>deviceType</th>\n",
       "      <th>order_id</th>\n",
       "      <th>on_product_id</th>\n",
       "      <th>quantity</th>\n",
       "      <th>price</th>\n",
       "      <th>customer_id</th>\n",
       "      <th>weekday</th>\n",
       "    </tr>\n",
       "  </thead>\n",
       "  <tbody>\n",
       "    <tr>\n",
       "      <td>0</td>\n",
       "      <td>2018-08-01</td>\n",
       "      <td>3663323563643832383039356</td>\n",
       "      <td>desktop</td>\n",
       "      <td>363063373630306</td>\n",
       "      <td>323762666337343</td>\n",
       "      <td>1</td>\n",
       "      <td>839</td>\n",
       "      <td>NaN</td>\n",
       "      <td>2</td>\n",
       "    </tr>\n",
       "    <tr>\n",
       "      <td>1</td>\n",
       "      <td>2018-08-01</td>\n",
       "      <td>3430316531623964316332613</td>\n",
       "      <td>mobile</td>\n",
       "      <td>356664366366353</td>\n",
       "      <td>313562333039323</td>\n",
       "      <td>1</td>\n",
       "      <td>629</td>\n",
       "      <td>63393337303931353431</td>\n",
       "      <td>2</td>\n",
       "    </tr>\n",
       "    <tr>\n",
       "      <td>2</td>\n",
       "      <td>2018-08-01</td>\n",
       "      <td>3261343261306231336437393</td>\n",
       "      <td>desktop</td>\n",
       "      <td>313432656633333</td>\n",
       "      <td>383863346531623</td>\n",
       "      <td>1</td>\n",
       "      <td>219</td>\n",
       "      <td>37653631373639353439</td>\n",
       "      <td>2</td>\n",
       "    </tr>\n",
       "    <tr>\n",
       "      <td>3</td>\n",
       "      <td>2018-08-01</td>\n",
       "      <td>6437386532653732323563656</td>\n",
       "      <td>mobile</td>\n",
       "      <td>633236633438383</td>\n",
       "      <td>666136386663626</td>\n",
       "      <td>1</td>\n",
       "      <td>239</td>\n",
       "      <td>65333830303066373165</td>\n",
       "      <td>2</td>\n",
       "    </tr>\n",
       "    <tr>\n",
       "      <td>4</td>\n",
       "      <td>2018-08-01</td>\n",
       "      <td>6264656662326430346661616</td>\n",
       "      <td>desktop</td>\n",
       "      <td>623030326130383</td>\n",
       "      <td>626533383465323</td>\n",
       "      <td>1</td>\n",
       "      <td>69</td>\n",
       "      <td>NaN</td>\n",
       "      <td>2</td>\n",
       "    </tr>\n",
       "  </tbody>\n",
       "</table>\n",
       "</div>"
      ],
      "text/plain": [
       "        date                 visitor_id deviceType         order_id  \\\n",
       "0 2018-08-01  3663323563643832383039356    desktop  363063373630306   \n",
       "1 2018-08-01  3430316531623964316332613     mobile  356664366366353   \n",
       "2 2018-08-01  3261343261306231336437393    desktop  313432656633333   \n",
       "3 2018-08-01  6437386532653732323563656     mobile  633236633438383   \n",
       "4 2018-08-01  6264656662326430346661616    desktop  623030326130383   \n",
       "\n",
       "     on_product_id  quantity  price           customer_id  weekday  \n",
       "0  323762666337343         1    839                   NaN        2  \n",
       "1  313562333039323         1    629  63393337303931353431        2  \n",
       "2  383863346531623         1    219  37653631373639353439        2  \n",
       "3  666136386663626         1    239  65333830303066373165        2  \n",
       "4  626533383465323         1     69                   NaN        2  "
      ]
     },
     "execution_count": 21,
     "metadata": {},
     "output_type": "execute_result"
    }
   ],
   "source": [
    "df.head()"
   ]
  },
  {
   "cell_type": "markdown",
   "metadata": {},
   "source": [
    "## 3.1 - Produtos"
   ]
  },
  {
   "cell_type": "code",
   "execution_count": 22,
   "metadata": {},
   "outputs": [
    {
     "data": {
      "text/plain": [
       "626664333563363    74\n",
       "656136316465643    50\n",
       "376531636530353    50\n",
       "396464373131666    47\n",
       "393665363031353    45\n",
       "                   ..\n",
       "643161333961346     1\n",
       "656535323731333     1\n",
       "626331343133353     1\n",
       "383432356665383     1\n",
       "313232346634653     1\n",
       "Name: on_product_id, Length: 2184, dtype: int64"
      ]
     },
     "execution_count": 22,
     "metadata": {},
     "output_type": "execute_result"
    }
   ],
   "source": [
    "df.on_product_id.value_counts()"
   ]
  },
  {
   "cell_type": "code",
   "execution_count": 23,
   "metadata": {},
   "outputs": [],
   "source": [
    "mais_comprados = df.on_product_id.value_counts().head(5).index"
   ]
  },
  {
   "cell_type": "code",
   "execution_count": 24,
   "metadata": {},
   "outputs": [],
   "source": [
    "grupo_comprados = df[df.on_product_id.isin(mais_comprados)].groupby(['on_product_id', 'deviceType']).sum().reset_index()"
   ]
  },
  {
   "cell_type": "code",
   "execution_count": 25,
   "metadata": {},
   "outputs": [
    {
     "data": {
      "text/html": [
       "<div>\n",
       "<style scoped>\n",
       "    .dataframe tbody tr th:only-of-type {\n",
       "        vertical-align: middle;\n",
       "    }\n",
       "\n",
       "    .dataframe tbody tr th {\n",
       "        vertical-align: top;\n",
       "    }\n",
       "\n",
       "    .dataframe thead th {\n",
       "        text-align: right;\n",
       "    }\n",
       "</style>\n",
       "<table border=\"1\" class=\"dataframe\">\n",
       "  <thead>\n",
       "    <tr style=\"text-align: right;\">\n",
       "      <th></th>\n",
       "      <th>on_product_id</th>\n",
       "      <th>deviceType</th>\n",
       "      <th>order_id</th>\n",
       "      <th>quantity</th>\n",
       "      <th>price</th>\n",
       "      <th>weekday</th>\n",
       "    </tr>\n",
       "  </thead>\n",
       "  <tbody>\n",
       "    <tr>\n",
       "      <td>0</td>\n",
       "      <td>376531636530353</td>\n",
       "      <td>desktop</td>\n",
       "      <td>6809029581404060</td>\n",
       "      <td>16</td>\n",
       "      <td>3984</td>\n",
       "      <td>47</td>\n",
       "    </tr>\n",
       "    <tr>\n",
       "      <td>1</td>\n",
       "      <td>376531636530353</td>\n",
       "      <td>mobile</td>\n",
       "      <td>14271754127948200</td>\n",
       "      <td>35</td>\n",
       "      <td>8466</td>\n",
       "      <td>124</td>\n",
       "    </tr>\n",
       "    <tr>\n",
       "      <td>2</td>\n",
       "      <td>393665363031353</td>\n",
       "      <td>desktop</td>\n",
       "      <td>7475794916564745</td>\n",
       "      <td>18</td>\n",
       "      <td>2842</td>\n",
       "      <td>43</td>\n",
       "    </tr>\n",
       "    <tr>\n",
       "      <td>3</td>\n",
       "      <td>393665363031353</td>\n",
       "      <td>mobile</td>\n",
       "      <td>12346978544730216</td>\n",
       "      <td>27</td>\n",
       "      <td>4423</td>\n",
       "      <td>81</td>\n",
       "    </tr>\n",
       "    <tr>\n",
       "      <td>4</td>\n",
       "      <td>396464373131666</td>\n",
       "      <td>desktop</td>\n",
       "      <td>6296472043103964</td>\n",
       "      <td>13</td>\n",
       "      <td>1167</td>\n",
       "      <td>36</td>\n",
       "    </tr>\n",
       "  </tbody>\n",
       "</table>\n",
       "</div>"
      ],
      "text/plain": [
       "     on_product_id deviceType           order_id  quantity  price  weekday\n",
       "0  376531636530353    desktop   6809029581404060        16   3984       47\n",
       "1  376531636530353     mobile  14271754127948200        35   8466      124\n",
       "2  393665363031353    desktop   7475794916564745        18   2842       43\n",
       "3  393665363031353     mobile  12346978544730216        27   4423       81\n",
       "4  396464373131666    desktop   6296472043103964        13   1167       36"
      ]
     },
     "execution_count": 25,
     "metadata": {},
     "output_type": "execute_result"
    }
   ],
   "source": [
    "grupo_comprados.head()"
   ]
  },
  {
   "cell_type": "code",
   "execution_count": 26,
   "metadata": {},
   "outputs": [
    {
     "data": {
      "image/png": "[encoded data removed]",
      "text/plain": [
       "<Figure size 1008x432 with 2 Axes>"
      ]
     },
     "metadata": {
      "needs_background": "light"
     },
     "output_type": "display_data"
    }
   ],
   "source": [
    "## Plots para os produtos mais vendidos\n",
    "fig, ax = plt.subplots(1,2,figsize=(14,6),sharex=True)\n",
    "\n",
    "ax2 = sns.barplot(x='on_product_id',y='price', hue='deviceType',data=grupo_comprados,palette='twilight')\n",
    "ax2.set_xlabel('Produtos', fontsize=14)\n",
    "ax2.set_ylabel('Faturamento', fontsize=14)\n",
    "ax2.set_title('Faturamento por produto mais vendidos Online', fontsize=16)\n",
    "\n",
    "\n",
    "ax1 = sns.barplot(x='on_product_id',y='quantity',hue='deviceType' ,data=grupo_comprados, palette='twilight', ax=ax[0])\n",
    "ax1.set_xlabel('Produtos', fontsize=14)\n",
    "ax1.set_ylabel('Unidades Vendidas', fontsize=14)\n",
    "ax1.set_title('Produtos mais vendidos Online', fontsize=16)\n",
    "\n",
    "\n",
    "for item in ax1.get_xticklabels():\n",
    "    item.set_rotation(20)\n",
    "\n",
    "\n",
    "for item in ax2.get_xticklabels():\n",
    "    item.set_rotation(20)\n",
    "\n",
    "    \n",
    "## Salva a figura\n",
    "plt.savefig('./Images/Online/Most-Sold.jpg', bbox_inches=\"tight\")"
   ]
  },
  {
   "cell_type": "markdown",
   "metadata": {},
   "source": [
    "**Produto mais vendido id=626664333563363**  \n",
    "**Faturamento total de 36852**"
   ]
  },
  {
   "cell_type": "markdown",
   "metadata": {},
   "source": [
    "### 3.11 - Produto Mais Vendido"
   ]
  },
  {
   "cell_type": "code",
   "execution_count": 27,
   "metadata": {},
   "outputs": [
    {
     "data": {
      "text/plain": [
       "2018-08-18    21\n",
       "2018-08-17    17\n",
       "2018-08-16    16\n",
       "2018-08-22    10\n",
       "2018-08-21     4\n",
       "2018-08-19     4\n",
       "2018-08-20     1\n",
       "2018-08-23     1\n",
       "Name: date, dtype: int64"
      ]
     },
     "execution_count": 27,
     "metadata": {},
     "output_type": "execute_result"
    }
   ],
   "source": [
    "most_sold = df[df.on_product_id.isin(df.on_product_id.value_counts().head(1).index)]\n",
    "most_sold.date.value_counts()"
   ]
  },
  {
   "cell_type": "code",
   "execution_count": 28,
   "metadata": {},
   "outputs": [],
   "source": [
    "## Produto Mais comprado\n",
    "most_sold_prod = most_sold.on_product_id.head(1).values"
   ]
  },
  {
   "cell_type": "code",
   "execution_count": 29,
   "metadata": {},
   "outputs": [],
   "source": [
    "most_sold_dates = most_sold.groupby('date').sum().reset_index()"
   ]
  },
  {
   "cell_type": "code",
   "execution_count": 30,
   "metadata": {},
   "outputs": [
    {
     "data": {
      "text/html": [
       "<div>\n",
       "<style scoped>\n",
       "    .dataframe tbody tr th:only-of-type {\n",
       "        vertical-align: middle;\n",
       "    }\n",
       "\n",
       "    .dataframe tbody tr th {\n",
       "        vertical-align: top;\n",
       "    }\n",
       "\n",
       "    .dataframe thead th {\n",
       "        text-align: right;\n",
       "    }\n",
       "</style>\n",
       "<table border=\"1\" class=\"dataframe\">\n",
       "  <thead>\n",
       "    <tr style=\"text-align: right;\">\n",
       "      <th></th>\n",
       "      <th>date</th>\n",
       "      <th>order_id</th>\n",
       "      <th>on_product_id</th>\n",
       "      <th>quantity</th>\n",
       "      <th>price</th>\n",
       "      <th>weekday</th>\n",
       "    </tr>\n",
       "  </thead>\n",
       "  <tbody>\n",
       "    <tr>\n",
       "      <td>0</td>\n",
       "      <td>2018-08-16</td>\n",
       "      <td>6982776855061945</td>\n",
       "      <td>10026629337013808</td>\n",
       "      <td>16</td>\n",
       "      <td>7968</td>\n",
       "      <td>48</td>\n",
       "    </tr>\n",
       "    <tr>\n",
       "      <td>1</td>\n",
       "      <td>2018-08-17</td>\n",
       "      <td>7145108018386299</td>\n",
       "      <td>10653293670577172</td>\n",
       "      <td>17</td>\n",
       "      <td>8466</td>\n",
       "      <td>68</td>\n",
       "    </tr>\n",
       "    <tr>\n",
       "      <td>2</td>\n",
       "      <td>2018-08-18</td>\n",
       "      <td>10404835958156756</td>\n",
       "      <td>13159951004830628</td>\n",
       "      <td>21</td>\n",
       "      <td>10458</td>\n",
       "      <td>105</td>\n",
       "    </tr>\n",
       "    <tr>\n",
       "      <td>3</td>\n",
       "      <td>2018-08-19</td>\n",
       "      <td>2247019703169678</td>\n",
       "      <td>2506657334253452</td>\n",
       "      <td>4</td>\n",
       "      <td>1992</td>\n",
       "      <td>24</td>\n",
       "    </tr>\n",
       "    <tr>\n",
       "      <td>4</td>\n",
       "      <td>2018-08-20</td>\n",
       "      <td>393237313463656</td>\n",
       "      <td>626664333563363</td>\n",
       "      <td>1</td>\n",
       "      <td>498</td>\n",
       "      <td>0</td>\n",
       "    </tr>\n",
       "    <tr>\n",
       "      <td>5</td>\n",
       "      <td>2018-08-21</td>\n",
       "      <td>2342563993277691</td>\n",
       "      <td>2506657334253452</td>\n",
       "      <td>4</td>\n",
       "      <td>1992</td>\n",
       "      <td>4</td>\n",
       "    </tr>\n",
       "    <tr>\n",
       "      <td>6</td>\n",
       "      <td>2018-08-22</td>\n",
       "      <td>4715637046276635</td>\n",
       "      <td>6266643335633630</td>\n",
       "      <td>10</td>\n",
       "      <td>4980</td>\n",
       "      <td>20</td>\n",
       "    </tr>\n",
       "    <tr>\n",
       "      <td>7</td>\n",
       "      <td>2018-08-23</td>\n",
       "      <td>336139336365353</td>\n",
       "      <td>626664333563363</td>\n",
       "      <td>1</td>\n",
       "      <td>498</td>\n",
       "      <td>3</td>\n",
       "    </tr>\n",
       "  </tbody>\n",
       "</table>\n",
       "</div>"
      ],
      "text/plain": [
       "        date           order_id      on_product_id  quantity  price  weekday\n",
       "0 2018-08-16   6982776855061945  10026629337013808        16   7968       48\n",
       "1 2018-08-17   7145108018386299  10653293670577172        17   8466       68\n",
       "2 2018-08-18  10404835958156756  13159951004830628        21  10458      105\n",
       "3 2018-08-19   2247019703169678   2506657334253452         4   1992       24\n",
       "4 2018-08-20    393237313463656    626664333563363         1    498        0\n",
       "5 2018-08-21   2342563993277691   2506657334253452         4   1992        4\n",
       "6 2018-08-22   4715637046276635   6266643335633630        10   4980       20\n",
       "7 2018-08-23    336139336365353    626664333563363         1    498        3"
      ]
     },
     "execution_count": 30,
     "metadata": {},
     "output_type": "execute_result"
    }
   ],
   "source": [
    "most_sold_dates"
   ]
  },
  {
   "cell_type": "code",
   "execution_count": 31,
   "metadata": {},
   "outputs": [
    {
     "data": {
      "image/png": "[encoded data removed]",
      "text/plain": [
       "<Figure size 720x432 with 1 Axes>"
      ]
     },
     "metadata": {
      "needs_background": "light"
     },
     "output_type": "display_data"
    }
   ],
   "source": [
    "plt.figure(figsize=(10,6))\n",
    "ax1 = sns.lineplot(x='date',y='price',data=most_sold_dates, color='orange')\n",
    "ax1.set_xlabel('Data', fontsize=14)\n",
    "ax1.set_ylabel('Faturamento', fontsize=14)\n",
    "ax1.set_title('Produtos mais vendido online - Arrecadação por dia', fontsize=16)\n",
    "\n",
    "for item in ax1.get_xticklabels():\n",
    "    item.set_rotation(20)\n",
    "    \n",
    "plt.savefig('./Images/Online/Top-Sold.jpg', bbox_inches=\"tight\")"
   ]
  },
  {
   "cell_type": "markdown",
   "metadata": {},
   "source": [
    "**Percebe-se que o produto foi vendido apenas em uma semana com dois picos de vendas**  \n",
    "**Possivelmente uma promoção tenha acontecido?**"
   ]
  },
  {
   "cell_type": "markdown",
   "metadata": {},
   "source": [
    "## 3.2 - Faturamento  \n",
    "**Hipótes**      \n",
    "**Os IDs dos clientes faltantes no DF completo são devidos à algum problema na coleta APENAS do ID do cliente, logo isso nao influência o faturamento**  \n",
    "  \n",
    "**Caso essa ausência de valor esteja ligada à algum tipo de problema que possa comprometer o restante dos dados, o melhor seria a utilização do dataframe sem os valores nulos**"
   ]
  },
  {
   "cell_type": "code",
   "execution_count": 32,
   "metadata": {},
   "outputs": [
    {
     "data": {
      "text/html": [
       "<div>\n",
       "<style scoped>\n",
       "    .dataframe tbody tr th:only-of-type {\n",
       "        vertical-align: middle;\n",
       "    }\n",
       "\n",
       "    .dataframe tbody tr th {\n",
       "        vertical-align: top;\n",
       "    }\n",
       "\n",
       "    .dataframe thead th {\n",
       "        text-align: right;\n",
       "    }\n",
       "</style>\n",
       "<table border=\"1\" class=\"dataframe\">\n",
       "  <thead>\n",
       "    <tr style=\"text-align: right;\">\n",
       "      <th></th>\n",
       "      <th>date</th>\n",
       "      <th>visitor_id</th>\n",
       "      <th>deviceType</th>\n",
       "      <th>order_id</th>\n",
       "      <th>on_product_id</th>\n",
       "      <th>quantity</th>\n",
       "      <th>price</th>\n",
       "      <th>customer_id</th>\n",
       "      <th>weekday</th>\n",
       "    </tr>\n",
       "  </thead>\n",
       "  <tbody>\n",
       "    <tr>\n",
       "      <td>0</td>\n",
       "      <td>2018-08-01</td>\n",
       "      <td>3663323563643832383039356</td>\n",
       "      <td>desktop</td>\n",
       "      <td>363063373630306</td>\n",
       "      <td>323762666337343</td>\n",
       "      <td>1</td>\n",
       "      <td>839</td>\n",
       "      <td>NaN</td>\n",
       "      <td>2</td>\n",
       "    </tr>\n",
       "    <tr>\n",
       "      <td>1</td>\n",
       "      <td>2018-08-01</td>\n",
       "      <td>3430316531623964316332613</td>\n",
       "      <td>mobile</td>\n",
       "      <td>356664366366353</td>\n",
       "      <td>313562333039323</td>\n",
       "      <td>1</td>\n",
       "      <td>629</td>\n",
       "      <td>63393337303931353431</td>\n",
       "      <td>2</td>\n",
       "    </tr>\n",
       "    <tr>\n",
       "      <td>2</td>\n",
       "      <td>2018-08-01</td>\n",
       "      <td>3261343261306231336437393</td>\n",
       "      <td>desktop</td>\n",
       "      <td>313432656633333</td>\n",
       "      <td>383863346531623</td>\n",
       "      <td>1</td>\n",
       "      <td>219</td>\n",
       "      <td>37653631373639353439</td>\n",
       "      <td>2</td>\n",
       "    </tr>\n",
       "    <tr>\n",
       "      <td>3</td>\n",
       "      <td>2018-08-01</td>\n",
       "      <td>6437386532653732323563656</td>\n",
       "      <td>mobile</td>\n",
       "      <td>633236633438383</td>\n",
       "      <td>666136386663626</td>\n",
       "      <td>1</td>\n",
       "      <td>239</td>\n",
       "      <td>65333830303066373165</td>\n",
       "      <td>2</td>\n",
       "    </tr>\n",
       "    <tr>\n",
       "      <td>4</td>\n",
       "      <td>2018-08-01</td>\n",
       "      <td>6264656662326430346661616</td>\n",
       "      <td>desktop</td>\n",
       "      <td>623030326130383</td>\n",
       "      <td>626533383465323</td>\n",
       "      <td>1</td>\n",
       "      <td>69</td>\n",
       "      <td>NaN</td>\n",
       "      <td>2</td>\n",
       "    </tr>\n",
       "  </tbody>\n",
       "</table>\n",
       "</div>"
      ],
      "text/plain": [
       "        date                 visitor_id deviceType         order_id  \\\n",
       "0 2018-08-01  3663323563643832383039356    desktop  363063373630306   \n",
       "1 2018-08-01  3430316531623964316332613     mobile  356664366366353   \n",
       "2 2018-08-01  3261343261306231336437393    desktop  313432656633333   \n",
       "3 2018-08-01  6437386532653732323563656     mobile  633236633438383   \n",
       "4 2018-08-01  6264656662326430346661616    desktop  623030326130383   \n",
       "\n",
       "     on_product_id  quantity  price           customer_id  weekday  \n",
       "0  323762666337343         1    839                   NaN        2  \n",
       "1  313562333039323         1    629  63393337303931353431        2  \n",
       "2  383863346531623         1    219  37653631373639353439        2  \n",
       "3  666136386663626         1    239  65333830303066373165        2  \n",
       "4  626533383465323         1     69                   NaN        2  "
      ]
     },
     "execution_count": 32,
     "metadata": {},
     "output_type": "execute_result"
    }
   ],
   "source": [
    "df.head()"
   ]
  },
  {
   "cell_type": "code",
   "execution_count": 33,
   "metadata": {},
   "outputs": [
    {
     "name": "stdout",
     "output_type": "stream",
     "text": [
      "Faturamento Total: R$ 5641837\n",
      "Percentual referente ao final de semana: 21.59753995019707 %\n"
     ]
    }
   ],
   "source": [
    "## Arrecadação dos pedidos online (fds, dia de semana e total)\n",
    "fim_price = df[(df.weekday==5) | (df.weekday==6)].price.sum()\n",
    "normal_price = df[(df.weekday!=5) & (df.weekday!=6)].price.sum()\n",
    "fat_total = df.price.sum()\n",
    "perct_fat_fds = (fim_price*100)/fat_total\n",
    "\n",
    "print('Faturamento Total: R$',fat_total)\n",
    "print('Percentual referente ao final de semana:',perct_fat_fds,'%')"
   ]
  },
  {
   "cell_type": "code",
   "execution_count": 34,
   "metadata": {},
   "outputs": [
    {
     "data": {
      "text/html": [
       "<div>\n",
       "<style scoped>\n",
       "    .dataframe tbody tr th:only-of-type {\n",
       "        vertical-align: middle;\n",
       "    }\n",
       "\n",
       "    .dataframe tbody tr th {\n",
       "        vertical-align: top;\n",
       "    }\n",
       "\n",
       "    .dataframe thead th {\n",
       "        text-align: right;\n",
       "    }\n",
       "</style>\n",
       "<table border=\"1\" class=\"dataframe\">\n",
       "  <thead>\n",
       "    <tr style=\"text-align: right;\">\n",
       "      <th></th>\n",
       "      <th>date</th>\n",
       "      <th>order_id</th>\n",
       "      <th>on_product_id</th>\n",
       "      <th>quantity</th>\n",
       "      <th>price</th>\n",
       "      <th>weekday</th>\n",
       "    </tr>\n",
       "  </thead>\n",
       "  <tbody>\n",
       "    <tr>\n",
       "      <td>0</td>\n",
       "      <td>2018-08-01</td>\n",
       "      <td>62332467930034456</td>\n",
       "      <td>57728149068614960</td>\n",
       "      <td>129</td>\n",
       "      <td>61457</td>\n",
       "      <td>258</td>\n",
       "    </tr>\n",
       "    <tr>\n",
       "      <td>1</td>\n",
       "      <td>2018-08-02</td>\n",
       "      <td>57670464914675352</td>\n",
       "      <td>54453212401322008</td>\n",
       "      <td>121</td>\n",
       "      <td>68783</td>\n",
       "      <td>363</td>\n",
       "    </tr>\n",
       "    <tr>\n",
       "      <td>2</td>\n",
       "      <td>2018-08-03</td>\n",
       "      <td>72794361954401888</td>\n",
       "      <td>78020323302989328</td>\n",
       "      <td>166</td>\n",
       "      <td>111722</td>\n",
       "      <td>664</td>\n",
       "    </tr>\n",
       "    <tr>\n",
       "      <td>3</td>\n",
       "      <td>2018-08-04</td>\n",
       "      <td>91280873183587424</td>\n",
       "      <td>90278325993415728</td>\n",
       "      <td>193</td>\n",
       "      <td>75734</td>\n",
       "      <td>965</td>\n",
       "    </tr>\n",
       "    <tr>\n",
       "      <td>4</td>\n",
       "      <td>2018-08-05</td>\n",
       "      <td>80799198874337104</td>\n",
       "      <td>72147762617114160</td>\n",
       "      <td>162</td>\n",
       "      <td>73634</td>\n",
       "      <td>972</td>\n",
       "    </tr>\n",
       "  </tbody>\n",
       "</table>\n",
       "</div>"
      ],
      "text/plain": [
       "        date           order_id      on_product_id  quantity   price  weekday\n",
       "0 2018-08-01  62332467930034456  57728149068614960       129   61457      258\n",
       "1 2018-08-02  57670464914675352  54453212401322008       121   68783      363\n",
       "2 2018-08-03  72794361954401888  78020323302989328       166  111722      664\n",
       "3 2018-08-04  91280873183587424  90278325993415728       193   75734      965\n",
       "4 2018-08-05  80799198874337104  72147762617114160       162   73634      972"
      ]
     },
     "execution_count": 34,
     "metadata": {},
     "output_type": "execute_result"
    }
   ],
   "source": [
    "## Faturamento com o tempo\n",
    "fat_time = df.groupby('date').sum().reset_index()\n",
    "fat_time.head()"
   ]
  },
  {
   "cell_type": "code",
   "execution_count": 35,
   "metadata": {},
   "outputs": [
    {
     "data": {
      "image/png": "[encoded data removed]",
      "text/plain": [
       "<Figure size 864x432 with 1 Axes>"
      ]
     },
     "metadata": {},
     "output_type": "display_data"
    }
   ],
   "source": [
    "sns.set_style('darkgrid')\n",
    "plt.figure(figsize=(12,6))\n",
    "ax1 = sns.lineplot(x='date',y='price',data=fat_time, color='green')\n",
    "ax1.set_xlabel('Data', fontsize=14)\n",
    "ax1.set_ylabel('Faturamento', fontsize=14)\n",
    "ax1.set_title('Faturamento por dia - Loja Virtual', fontsize=16)\n",
    "\n",
    "for item in ax1.get_xticklabels():\n",
    "    item.set_rotation(20)\n",
    "    \n",
    "plt.savefig('./Images/Online/Revenue-Online.jpg', bbox_inches=\"tight\")"
   ]
  },
  {
   "cell_type": "code",
   "execution_count": 36,
   "metadata": {},
   "outputs": [
    {
     "data": {
      "text/html": [
       "<div>\n",
       "<style scoped>\n",
       "    .dataframe tbody tr th:only-of-type {\n",
       "        vertical-align: middle;\n",
       "    }\n",
       "\n",
       "    .dataframe tbody tr th {\n",
       "        vertical-align: top;\n",
       "    }\n",
       "\n",
       "    .dataframe thead th {\n",
       "        text-align: right;\n",
       "    }\n",
       "</style>\n",
       "<table border=\"1\" class=\"dataframe\">\n",
       "  <thead>\n",
       "    <tr style=\"text-align: right;\">\n",
       "      <th></th>\n",
       "      <th>weekday</th>\n",
       "      <th>deviceType</th>\n",
       "      <th>order_id</th>\n",
       "      <th>on_product_id</th>\n",
       "      <th>quantity</th>\n",
       "      <th>price</th>\n",
       "    </tr>\n",
       "  </thead>\n",
       "  <tbody>\n",
       "    <tr>\n",
       "      <td>0</td>\n",
       "      <td>0</td>\n",
       "      <td>desktop</td>\n",
       "      <td>225412912254824992</td>\n",
       "      <td>224252068966750592</td>\n",
       "      <td>499</td>\n",
       "      <td>202707</td>\n",
       "    </tr>\n",
       "    <tr>\n",
       "      <td>1</td>\n",
       "      <td>0</td>\n",
       "      <td>mobile</td>\n",
       "      <td>245167387592124992</td>\n",
       "      <td>251799224248706112</td>\n",
       "      <td>557</td>\n",
       "      <td>227734</td>\n",
       "    </tr>\n",
       "    <tr>\n",
       "      <td>2</td>\n",
       "      <td>1</td>\n",
       "      <td>desktop</td>\n",
       "      <td>201062846648903168</td>\n",
       "      <td>205939078489822048</td>\n",
       "      <td>449</td>\n",
       "      <td>180452</td>\n",
       "    </tr>\n",
       "    <tr>\n",
       "      <td>3</td>\n",
       "      <td>1</td>\n",
       "      <td>mobile</td>\n",
       "      <td>243342252059406304</td>\n",
       "      <td>251721620646623968</td>\n",
       "      <td>543</td>\n",
       "      <td>227196</td>\n",
       "    </tr>\n",
       "    <tr>\n",
       "      <td>4</td>\n",
       "      <td>2</td>\n",
       "      <td>desktop</td>\n",
       "      <td>531727834181705152</td>\n",
       "      <td>513567462794766720</td>\n",
       "      <td>1139</td>\n",
       "      <td>607099</td>\n",
       "    </tr>\n",
       "  </tbody>\n",
       "</table>\n",
       "</div>"
      ],
      "text/plain": [
       "   weekday deviceType            order_id       on_product_id  quantity  \\\n",
       "0        0    desktop  225412912254824992  224252068966750592       499   \n",
       "1        0     mobile  245167387592124992  251799224248706112       557   \n",
       "2        1    desktop  201062846648903168  205939078489822048       449   \n",
       "3        1     mobile  243342252059406304  251721620646623968       543   \n",
       "4        2    desktop  531727834181705152  513567462794766720      1139   \n",
       "\n",
       "    price  \n",
       "0  202707  \n",
       "1  227734  \n",
       "2  180452  \n",
       "3  227196  \n",
       "4  607099  "
      ]
     },
     "execution_count": 36,
     "metadata": {},
     "output_type": "execute_result"
    }
   ],
   "source": [
    "weekday_revenue = df.groupby(['weekday','deviceType']).sum().reset_index()\n",
    "weekday_revenue.head()"
   ]
  },
  {
   "cell_type": "code",
   "execution_count": 37,
   "metadata": {},
   "outputs": [
    {
     "data": {
      "image/png": "[encoded data removed]",
      "text/plain": [
       "<Figure size 1152x432 with 2 Axes>"
      ]
     },
     "metadata": {},
     "output_type": "display_data"
    }
   ],
   "source": [
    "fig, ax = plt.subplots(1,2,figsize=(16,6),sharex=True)\n",
    "\n",
    "ax2 = sns.barplot(x='weekday',y='price',data=df.groupby('weekday').sum().reset_index(),palette='twilight', ax=ax[0])\n",
    "ax2.set_xlabel('Dia da semana', fontsize=14)\n",
    "ax2.set_ylabel('Faturamento', fontsize=14)\n",
    "ax2.set_title('Faturamento total por dia da semana - Loja Virtual', fontsize=16)\n",
    "\n",
    "\n",
    "ax1 = sns.barplot(x='weekday',y='price',hue='deviceType',data=weekday_revenue, palette='brg')\n",
    "ax1.set_xlabel('Dia da Semana', fontsize=14)\n",
    "ax1.set_ylabel('Faturamento', fontsize=14)\n",
    "ax1.set_title('Faturamento total para cada dia da semana por dispositivo', fontsize=16)\n",
    "ax1.set_xticklabels(['Segunda','Terça','Quarta','Quinta','Sexta','Sabado','Domingo'])\n",
    "\n",
    "for item in ax1.get_xticklabels():\n",
    "    item.set_rotation(20)\n",
    "    \n",
    "plt.savefig('./Images/Online/Revenue-Online-Weekday.jpg', bbox_inches=\"tight\")"
   ]
  },
  {
   "cell_type": "markdown",
   "metadata": {},
   "source": [
    "**Quarta e quinta são os dias com maior faturamento (quarta o maior), sendo que quinta foi o único que houve maior arrecadação com origem em desktops e não em mobile**  \n",
    "  \n",
    "**Faturamento total Quarta: 1370333**  \n",
    "**Faturamento total Quinta: 1365477**"
   ]
  },
  {
   "cell_type": "code",
   "execution_count": 52,
   "metadata": {},
   "outputs": [
    {
     "data": {
      "text/html": [
       "<div>\n",
       "<style scoped>\n",
       "    .dataframe tbody tr th:only-of-type {\n",
       "        vertical-align: middle;\n",
       "    }\n",
       "\n",
       "    .dataframe tbody tr th {\n",
       "        vertical-align: top;\n",
       "    }\n",
       "\n",
       "    .dataframe thead th {\n",
       "        text-align: right;\n",
       "    }\n",
       "</style>\n",
       "<table border=\"1\" class=\"dataframe\">\n",
       "  <thead>\n",
       "    <tr style=\"text-align: right;\">\n",
       "      <th></th>\n",
       "      <th>date</th>\n",
       "      <th>visitor_id</th>\n",
       "      <th>deviceType</th>\n",
       "      <th>order_id</th>\n",
       "      <th>on_product_id</th>\n",
       "      <th>quantity</th>\n",
       "      <th>price</th>\n",
       "      <th>customer_id</th>\n",
       "      <th>weekday</th>\n",
       "    </tr>\n",
       "  </thead>\n",
       "  <tbody>\n",
       "    <tr>\n",
       "      <td>0</td>\n",
       "      <td>2018-08-01</td>\n",
       "      <td>3663323563643832383039356</td>\n",
       "      <td>desktop</td>\n",
       "      <td>363063373630306</td>\n",
       "      <td>323762666337343</td>\n",
       "      <td>1</td>\n",
       "      <td>839</td>\n",
       "      <td>NaN</td>\n",
       "      <td>2</td>\n",
       "    </tr>\n",
       "    <tr>\n",
       "      <td>1</td>\n",
       "      <td>2018-08-01</td>\n",
       "      <td>3430316531623964316332613</td>\n",
       "      <td>mobile</td>\n",
       "      <td>356664366366353</td>\n",
       "      <td>313562333039323</td>\n",
       "      <td>1</td>\n",
       "      <td>629</td>\n",
       "      <td>63393337303931353431</td>\n",
       "      <td>2</td>\n",
       "    </tr>\n",
       "    <tr>\n",
       "      <td>2</td>\n",
       "      <td>2018-08-01</td>\n",
       "      <td>3261343261306231336437393</td>\n",
       "      <td>desktop</td>\n",
       "      <td>313432656633333</td>\n",
       "      <td>383863346531623</td>\n",
       "      <td>1</td>\n",
       "      <td>219</td>\n",
       "      <td>37653631373639353439</td>\n",
       "      <td>2</td>\n",
       "    </tr>\n",
       "    <tr>\n",
       "      <td>3</td>\n",
       "      <td>2018-08-01</td>\n",
       "      <td>6437386532653732323563656</td>\n",
       "      <td>mobile</td>\n",
       "      <td>633236633438383</td>\n",
       "      <td>666136386663626</td>\n",
       "      <td>1</td>\n",
       "      <td>239</td>\n",
       "      <td>65333830303066373165</td>\n",
       "      <td>2</td>\n",
       "    </tr>\n",
       "    <tr>\n",
       "      <td>4</td>\n",
       "      <td>2018-08-01</td>\n",
       "      <td>6264656662326430346661616</td>\n",
       "      <td>desktop</td>\n",
       "      <td>623030326130383</td>\n",
       "      <td>626533383465323</td>\n",
       "      <td>1</td>\n",
       "      <td>69</td>\n",
       "      <td>NaN</td>\n",
       "      <td>2</td>\n",
       "    </tr>\n",
       "  </tbody>\n",
       "</table>\n",
       "</div>"
      ],
      "text/plain": [
       "        date                 visitor_id deviceType         order_id  \\\n",
       "0 2018-08-01  3663323563643832383039356    desktop  363063373630306   \n",
       "1 2018-08-01  3430316531623964316332613     mobile  356664366366353   \n",
       "2 2018-08-01  3261343261306231336437393    desktop  313432656633333   \n",
       "3 2018-08-01  6437386532653732323563656     mobile  633236633438383   \n",
       "4 2018-08-01  6264656662326430346661616    desktop  623030326130383   \n",
       "\n",
       "     on_product_id  quantity  price           customer_id  weekday  \n",
       "0  323762666337343         1    839                   NaN        2  \n",
       "1  313562333039323         1    629  63393337303931353431        2  \n",
       "2  383863346531623         1    219  37653631373639353439        2  \n",
       "3  666136386663626         1    239  65333830303066373165        2  \n",
       "4  626533383465323         1     69                   NaN        2  "
      ]
     },
     "execution_count": 52,
     "metadata": {},
     "output_type": "execute_result"
    }
   ],
   "source": [
    "df.head()"
   ]
  },
  {
   "cell_type": "code",
   "execution_count": 38,
   "metadata": {},
   "outputs": [
    {
     "data": {
      "text/plain": [
       "'Wednesday'"
      ]
     },
     "execution_count": 38,
     "metadata": {},
     "output_type": "execute_result"
    }
   ],
   "source": [
    "dia_maior_arr = calendar.day_name[int(weekday_revenue[weekday_revenue.price==weekday_revenue.price.max()].weekday.values)]\n",
    "dia_maior_arr                    "
   ]
  },
  {
   "cell_type": "markdown",
   "metadata": {},
   "source": [
    "## 3.3 - Vendas Online"
   ]
  },
  {
   "cell_type": "code",
   "execution_count": 39,
   "metadata": {},
   "outputs": [],
   "source": [
    "## Quantidade de Pedidos Online (fds, dia de semana e total)\n",
    "fim_qtd = df[(df.weekday==5) | (df.weekday==6)].groupby('order_id').sum().count()[0]\n",
    "normal_qtd = df[(df.weekday!=5) & (df.weekday!=6)].groupby('order_id').sum().count()[0]\n",
    "total_qtd = df.groupby('order_id').sum().count()[0]\n",
    "\n",
    "perct_fds = (fim_qtd*100)/total_qtd"
   ]
  },
  {
   "cell_type": "code",
   "execution_count": 51,
   "metadata": {},
   "outputs": [
    {
     "data": {
      "text/plain": [
       "1833"
      ]
     },
     "execution_count": 51,
     "metadata": {},
     "output_type": "execute_result"
    }
   ],
   "source": [
    "df[(df.weekday==5) | (df.weekday==6)].groupby('order_id').sum().count()[0]"
   ]
  },
  {
   "cell_type": "markdown",
   "metadata": {},
   "source": [
    "## 3.4 - Clientes (ver quais clientes compram off que tambem compram on)"
   ]
  },
  {
   "cell_type": "markdown",
   "metadata": {},
   "source": [
    "# 4.0 - Exportando Resultados para CSV"
   ]
  },
  {
   "cell_type": "code",
   "execution_count": 40,
   "metadata": {},
   "outputs": [],
   "source": [
    "## 4.1 Criar DataFrames de Saída\n",
    "\n",
    "dados = {'faturamento_total':[fat_total], 'faturamento_fds':[fim_price],'faturamento_semana':[normal_price],\n",
    "        'perct_fat_fds':[perct_fat_fds], 'total_vendas_fds':[fim_qtd], 'total_vendas_semana': [normal_qtd],\n",
    "        'total_vendas_qtd':[total_qtd], 'perct_vendas_fds':[perct_fds], 'produto_mais_comprado':most_sold_prod,\n",
    "        'dia_maior_arrecadacao': [dia_maior_arr], }\n",
    "df_online = pd.DataFrame(data=dados)"
   ]
  },
  {
   "cell_type": "code",
   "execution_count": 41,
   "metadata": {},
   "outputs": [
    {
     "data": {
      "text/html": [
       "<div>\n",
       "<style scoped>\n",
       "    .dataframe tbody tr th:only-of-type {\n",
       "        vertical-align: middle;\n",
       "    }\n",
       "\n",
       "    .dataframe tbody tr th {\n",
       "        vertical-align: top;\n",
       "    }\n",
       "\n",
       "    .dataframe thead th {\n",
       "        text-align: right;\n",
       "    }\n",
       "</style>\n",
       "<table border=\"1\" class=\"dataframe\">\n",
       "  <thead>\n",
       "    <tr style=\"text-align: right;\">\n",
       "      <th></th>\n",
       "      <th>Valor</th>\n",
       "    </tr>\n",
       "  </thead>\n",
       "  <tbody>\n",
       "    <tr>\n",
       "      <td>faturamento_total</td>\n",
       "      <td>5641837</td>\n",
       "    </tr>\n",
       "    <tr>\n",
       "      <td>faturamento_fds</td>\n",
       "      <td>1218498</td>\n",
       "    </tr>\n",
       "    <tr>\n",
       "      <td>faturamento_semana</td>\n",
       "      <td>4423339</td>\n",
       "    </tr>\n",
       "    <tr>\n",
       "      <td>perct_fat_fds</td>\n",
       "      <td>21.60</td>\n",
       "    </tr>\n",
       "    <tr>\n",
       "      <td>total_vendas_fds</td>\n",
       "      <td>1833</td>\n",
       "    </tr>\n",
       "    <tr>\n",
       "      <td>total_vendas_semana</td>\n",
       "      <td>5460</td>\n",
       "    </tr>\n",
       "    <tr>\n",
       "      <td>total_vendas_qtd</td>\n",
       "      <td>7293</td>\n",
       "    </tr>\n",
       "    <tr>\n",
       "      <td>perct_vendas_fds</td>\n",
       "      <td>25.13</td>\n",
       "    </tr>\n",
       "    <tr>\n",
       "      <td>produto_mais_comprado</td>\n",
       "      <td>626664333563363</td>\n",
       "    </tr>\n",
       "    <tr>\n",
       "      <td>dia_maior_arrecadacao</td>\n",
       "      <td>Wednesday</td>\n",
       "    </tr>\n",
       "  </tbody>\n",
       "</table>\n",
       "</div>"
      ],
      "text/plain": [
       "                                     Valor\n",
       "faturamento_total                  5641837\n",
       "faturamento_fds                    1218498\n",
       "faturamento_semana                 4423339\n",
       "perct_fat_fds                        21.60\n",
       "total_vendas_fds                      1833\n",
       "total_vendas_semana                   5460\n",
       "total_vendas_qtd                      7293\n",
       "perct_vendas_fds                     25.13\n",
       "produto_mais_comprado      626664333563363\n",
       "dia_maior_arrecadacao            Wednesday"
      ]
     },
     "execution_count": 41,
     "metadata": {},
     "output_type": "execute_result"
    }
   ],
   "source": [
    "## Tranposta DF para melhor legibilidade\n",
    "pd.options.display.float_format = '{:20,.2f}'.format\n",
    "transpose = df_online.transpose()\n",
    "transpose.columns = ['Valor']\n",
    "transpose"
   ]
  },
  {
   "cell_type": "markdown",
   "metadata": {},
   "source": [
    "### 4.2 Exportar DataFrames para CSV"
   ]
  },
  {
   "cell_type": "code",
   "execution_count": 42,
   "metadata": {},
   "outputs": [],
   "source": [
    "## Exporta DataFrame de Saída em Colunas\n",
    "df_online.to_csv(r'./Outputs/Online_Data/On_Output_Horizontal.csv')\n",
    "## Exporta DataFrame de Saída Transposto (em linhas)\n",
    "transpose.to_csv(r'./Outputs/Online_Data/On_Output_Vertical.csv')"
   ]
  },
  {
   "cell_type": "markdown",
   "metadata": {},
   "source": [
    "### 4.3 Exportar DataFrames para Excel"
   ]
  },
  {
   "cell_type": "code",
   "execution_count": 43,
   "metadata": {},
   "outputs": [],
   "source": [
    "engine = 'openpyxl'\n",
    "with pd.ExcelWriter(\"./Outputs/Online_Data/Out-On.xlsx\", engine=engine) as writer:\n",
    "    df_online.to_excel(writer, sheet_name='Online-H')\n",
    "    transpose.to_excel(writer, sheet_name='Online-V')"
   ]
  },
  {
   "cell_type": "code",
   "execution_count": null,
   "metadata": {},
   "outputs": [],
   "source": []
  }
 ],
 "metadata": {
  "kernelspec": {
   "display_name": "Python 3",
   "language": "python",
   "name": "python3"
  },
  "language_info": {
   "codemirror_mode": {
    "name": "ipython",
    "version": 3
   },
   "file_extension": ".py",
   "mimetype": "text/x-python",
   "name": "python",
   "nbconvert_exporter": "python",
   "pygments_lexer": "ipython3",
   "version": "3.7.4"
  }
 },
 "nbformat": 4,
 "nbformat_minor": 2
}
