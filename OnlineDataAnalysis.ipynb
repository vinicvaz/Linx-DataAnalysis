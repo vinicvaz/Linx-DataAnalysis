{
 "cells": [
  {
   "cell_type": "code",
   "execution_count": 1,
   "metadata": {},
   "outputs": [],
   "source": [
    "import pandas as pd\n",
    "import numpy as np\n",
    "import matplotlib.pyplot as plt\n",
    "import seaborn as sns\n",
    "import datetime\n",
    "sns.set_style('whitegrid')\n"
   ]
  },
  {
   "cell_type": "code",
   "execution_count": 2,
   "metadata": {},
   "outputs": [],
   "source": [
    "## Path\n",
    "file = './Data/Small_Data/online_orders.json'"
   ]
  },
  {
   "cell_type": "code",
   "execution_count": 22,
   "metadata": {},
   "outputs": [],
   "source": [
    "## Carregar Arquivo (customer_id e visitor_id como string para evitar notação cientifica)\n",
    "df = pd.read_json(file, lines=True, dtype={'visitor_id':str,'customer_id': str})"
   ]
  },
  {
   "cell_type": "markdown",
   "metadata": {},
   "source": [
    "# 1.0 - Exploratory Data Analysis | Análise Exploratória de Dados"
   ]
  },
  {
   "cell_type": "code",
   "execution_count": 23,
   "metadata": {},
   "outputs": [
    {
     "data": {
      "text/html": [
       "<div>\n",
       "<style scoped>\n",
       "    .dataframe tbody tr th:only-of-type {\n",
       "        vertical-align: middle;\n",
       "    }\n",
       "\n",
       "    .dataframe tbody tr th {\n",
       "        vertical-align: top;\n",
       "    }\n",
       "\n",
       "    .dataframe thead th {\n",
       "        text-align: right;\n",
       "    }\n",
       "</style>\n",
       "<table border=\"1\" class=\"dataframe\">\n",
       "  <thead>\n",
       "    <tr style=\"text-align: right;\">\n",
       "      <th></th>\n",
       "      <th>date</th>\n",
       "      <th>visitor_id</th>\n",
       "      <th>deviceType</th>\n",
       "      <th>order_id</th>\n",
       "      <th>on_product_id</th>\n",
       "      <th>quantity</th>\n",
       "      <th>price</th>\n",
       "      <th>customer_id</th>\n",
       "    </tr>\n",
       "  </thead>\n",
       "  <tbody>\n",
       "    <tr>\n",
       "      <td>0</td>\n",
       "      <td>2018-08-01</td>\n",
       "      <td>3663323563643832383039356</td>\n",
       "      <td>desktop</td>\n",
       "      <td>363063373630306</td>\n",
       "      <td>323762666337343</td>\n",
       "      <td>1</td>\n",
       "      <td>839</td>\n",
       "      <td>None</td>\n",
       "    </tr>\n",
       "    <tr>\n",
       "      <td>1</td>\n",
       "      <td>2018-08-01</td>\n",
       "      <td>3430316531623964316332613</td>\n",
       "      <td>mobile</td>\n",
       "      <td>356664366366353</td>\n",
       "      <td>313562333039323</td>\n",
       "      <td>1</td>\n",
       "      <td>629</td>\n",
       "      <td>63393337303931353431</td>\n",
       "    </tr>\n",
       "    <tr>\n",
       "      <td>2</td>\n",
       "      <td>2018-08-01</td>\n",
       "      <td>3261343261306231336437393</td>\n",
       "      <td>desktop</td>\n",
       "      <td>313432656633333</td>\n",
       "      <td>383863346531623</td>\n",
       "      <td>1</td>\n",
       "      <td>219</td>\n",
       "      <td>37653631373639353439</td>\n",
       "    </tr>\n",
       "    <tr>\n",
       "      <td>3</td>\n",
       "      <td>2018-08-01</td>\n",
       "      <td>6437386532653732323563656</td>\n",
       "      <td>mobile</td>\n",
       "      <td>633236633438383</td>\n",
       "      <td>666136386663626</td>\n",
       "      <td>1</td>\n",
       "      <td>239</td>\n",
       "      <td>65333830303066373165</td>\n",
       "    </tr>\n",
       "    <tr>\n",
       "      <td>4</td>\n",
       "      <td>2018-08-01</td>\n",
       "      <td>6264656662326430346661616</td>\n",
       "      <td>desktop</td>\n",
       "      <td>623030326130383</td>\n",
       "      <td>626533383465323</td>\n",
       "      <td>1</td>\n",
       "      <td>69</td>\n",
       "      <td>None</td>\n",
       "    </tr>\n",
       "    <tr>\n",
       "      <td>5</td>\n",
       "      <td>2018-08-01</td>\n",
       "      <td>6638653965656263613238623</td>\n",
       "      <td>desktop</td>\n",
       "      <td>343136663661646</td>\n",
       "      <td>366464333539333</td>\n",
       "      <td>1</td>\n",
       "      <td>298</td>\n",
       "      <td>None</td>\n",
       "    </tr>\n",
       "    <tr>\n",
       "      <td>6</td>\n",
       "      <td>2018-08-01</td>\n",
       "      <td>6438323963376433356532633</td>\n",
       "      <td>desktop</td>\n",
       "      <td>353131646163336</td>\n",
       "      <td>373163626265643</td>\n",
       "      <td>1</td>\n",
       "      <td>598</td>\n",
       "      <td>None</td>\n",
       "    </tr>\n",
       "    <tr>\n",
       "      <td>7</td>\n",
       "      <td>2018-08-02</td>\n",
       "      <td>3933383761663335353034373</td>\n",
       "      <td>mobile</td>\n",
       "      <td>636536353265386</td>\n",
       "      <td>356466373137383</td>\n",
       "      <td>1</td>\n",
       "      <td>1798</td>\n",
       "      <td>61306161303630373135</td>\n",
       "    </tr>\n",
       "    <tr>\n",
       "      <td>8</td>\n",
       "      <td>2018-08-02</td>\n",
       "      <td>6363363338623337663538353</td>\n",
       "      <td>mobile</td>\n",
       "      <td>363037313438636</td>\n",
       "      <td>383530353262626</td>\n",
       "      <td>1</td>\n",
       "      <td>428</td>\n",
       "      <td>62633265623261666566</td>\n",
       "    </tr>\n",
       "    <tr>\n",
       "      <td>9</td>\n",
       "      <td>2018-08-02</td>\n",
       "      <td>3761306638666637343734393</td>\n",
       "      <td>desktop</td>\n",
       "      <td>343238636534646</td>\n",
       "      <td>303936663162613</td>\n",
       "      <td>1</td>\n",
       "      <td>298</td>\n",
       "      <td>35623131306438343161</td>\n",
       "    </tr>\n",
       "  </tbody>\n",
       "</table>\n",
       "</div>"
      ],
      "text/plain": [
       "        date                 visitor_id deviceType         order_id  \\\n",
       "0 2018-08-01  3663323563643832383039356    desktop  363063373630306   \n",
       "1 2018-08-01  3430316531623964316332613     mobile  356664366366353   \n",
       "2 2018-08-01  3261343261306231336437393    desktop  313432656633333   \n",
       "3 2018-08-01  6437386532653732323563656     mobile  633236633438383   \n",
       "4 2018-08-01  6264656662326430346661616    desktop  623030326130383   \n",
       "5 2018-08-01  6638653965656263613238623    desktop  343136663661646   \n",
       "6 2018-08-01  6438323963376433356532633    desktop  353131646163336   \n",
       "7 2018-08-02  3933383761663335353034373     mobile  636536353265386   \n",
       "8 2018-08-02  6363363338623337663538353     mobile  363037313438636   \n",
       "9 2018-08-02  3761306638666637343734393    desktop  343238636534646   \n",
       "\n",
       "     on_product_id  quantity  price           customer_id  \n",
       "0  323762666337343         1    839                  None  \n",
       "1  313562333039323         1    629  63393337303931353431  \n",
       "2  383863346531623         1    219  37653631373639353439  \n",
       "3  666136386663626         1    239  65333830303066373165  \n",
       "4  626533383465323         1     69                  None  \n",
       "5  366464333539333         1    298                  None  \n",
       "6  373163626265643         1    598                  None  \n",
       "7  356466373137383         1   1798  61306161303630373135  \n",
       "8  383530353262626         1    428  62633265623261666566  \n",
       "9  303936663162613         1    298  35623131306438343161  "
      ]
     },
     "execution_count": 23,
     "metadata": {},
     "output_type": "execute_result"
    }
   ],
   "source": [
    "df.head(10)"
   ]
  },
  {
   "cell_type": "code",
   "execution_count": 45,
   "metadata": {},
   "outputs": [
    {
     "name": "stdout",
     "output_type": "stream",
     "text": [
      "<class 'pandas.core.frame.DataFrame'>\n",
      "RangeIndex: 12237 entries, 0 to 12236\n",
      "Data columns (total 8 columns):\n",
      "date             12237 non-null datetime64[ns]\n",
      "visitor_id       12237 non-null object\n",
      "deviceType       12237 non-null object\n",
      "order_id         12237 non-null int64\n",
      "on_product_id    12237 non-null int64\n",
      "quantity         12237 non-null int64\n",
      "price            12237 non-null int64\n",
      "customer_id      7757 non-null object\n",
      "dtypes: datetime64[ns](1), int64(4), object(3)\n",
      "memory usage: 764.9+ KB\n"
     ]
    }
   ],
   "source": [
    "df.info()"
   ]
  },
  {
   "cell_type": "code",
   "execution_count": 46,
   "metadata": {},
   "outputs": [],
   "source": [
    "df.customer_id.replace('None', np.nan, inplace=True)\n",
    "df.visitor_id.replace('None', np.nan, inplace=True)"
   ]
  },
  {
   "cell_type": "code",
   "execution_count": 47,
   "metadata": {},
   "outputs": [
    {
     "name": "stdout",
     "output_type": "stream",
     "text": [
      "Dia Inicial: 2018-08-01 00:00:00\n",
      "Dia Final: 2018-08-31 00:00:00\n"
     ]
    }
   ],
   "source": [
    "print('Dia Inicial:',df.date.min())\n",
    "print('Dia Final:',df.date.max())"
   ]
  },
  {
   "cell_type": "markdown",
   "metadata": {},
   "source": [
    "Periodo de coleta = Periodo offline (ok)"
   ]
  },
  {
   "cell_type": "code",
   "execution_count": 48,
   "metadata": {},
   "outputs": [
    {
     "data": {
      "text/plain": [
       "mobile     6971\n",
       "desktop    5266\n",
       "Name: deviceType, dtype: int64"
      ]
     },
     "execution_count": 48,
     "metadata": {},
     "output_type": "execute_result"
    }
   ],
   "source": [
    "## Acessos\n",
    "df.deviceType.value_counts()"
   ]
  },
  {
   "cell_type": "markdown",
   "metadata": {},
   "source": [
    "**Acesso Mobile > Acesso Desktop**"
   ]
  },
  {
   "cell_type": "code",
   "execution_count": 57,
   "metadata": {},
   "outputs": [
    {
     "data": {
      "text/html": [
       "<div>\n",
       "<style scoped>\n",
       "    .dataframe tbody tr th:only-of-type {\n",
       "        vertical-align: middle;\n",
       "    }\n",
       "\n",
       "    .dataframe tbody tr th {\n",
       "        vertical-align: top;\n",
       "    }\n",
       "\n",
       "    .dataframe thead th {\n",
       "        text-align: right;\n",
       "    }\n",
       "</style>\n",
       "<table border=\"1\" class=\"dataframe\">\n",
       "  <thead>\n",
       "    <tr style=\"text-align: right;\">\n",
       "      <th></th>\n",
       "      <th>date</th>\n",
       "      <th>visitor_id</th>\n",
       "      <th>deviceType</th>\n",
       "      <th>order_id</th>\n",
       "      <th>on_product_id</th>\n",
       "      <th>quantity</th>\n",
       "      <th>price</th>\n",
       "      <th>customer_id</th>\n",
       "    </tr>\n",
       "  </thead>\n",
       "  <tbody>\n",
       "    <tr>\n",
       "      <td>596</td>\n",
       "      <td>2018-08-15</td>\n",
       "      <td>3964346363373032643564653</td>\n",
       "      <td>mobile</td>\n",
       "      <td>353034336533306</td>\n",
       "      <td>633263646431626</td>\n",
       "      <td>1</td>\n",
       "      <td>11190</td>\n",
       "      <td>34366334393234303934</td>\n",
       "    </tr>\n",
       "    <tr>\n",
       "      <td>1854</td>\n",
       "      <td>2018-08-21</td>\n",
       "      <td>3731333664356630383162346</td>\n",
       "      <td>mobile</td>\n",
       "      <td>653465353366643</td>\n",
       "      <td>373236323565303</td>\n",
       "      <td>1</td>\n",
       "      <td>11190</td>\n",
       "      <td>35363233663665383639</td>\n",
       "    </tr>\n",
       "    <tr>\n",
       "      <td>8461</td>\n",
       "      <td>2018-08-15</td>\n",
       "      <td>3838383135656264386463313</td>\n",
       "      <td>desktop</td>\n",
       "      <td>346632663531363</td>\n",
       "      <td>373236323565303</td>\n",
       "      <td>1</td>\n",
       "      <td>11190</td>\n",
       "      <td>NaN</td>\n",
       "    </tr>\n",
       "    <tr>\n",
       "      <td>10814</td>\n",
       "      <td>2018-08-15</td>\n",
       "      <td>6336383764623038333638396</td>\n",
       "      <td>mobile</td>\n",
       "      <td>623864623164616</td>\n",
       "      <td>633263646431626</td>\n",
       "      <td>1</td>\n",
       "      <td>11190</td>\n",
       "      <td>61373536353465303639</td>\n",
       "    </tr>\n",
       "  </tbody>\n",
       "</table>\n",
       "</div>"
      ],
      "text/plain": [
       "            date                 visitor_id deviceType         order_id  \\\n",
       "596   2018-08-15  3964346363373032643564653     mobile  353034336533306   \n",
       "1854  2018-08-21  3731333664356630383162346     mobile  653465353366643   \n",
       "8461  2018-08-15  3838383135656264386463313    desktop  346632663531363   \n",
       "10814 2018-08-15  6336383764623038333638396     mobile  623864623164616   \n",
       "\n",
       "         on_product_id  quantity  price           customer_id  \n",
       "596    633263646431626         1  11190  34366334393234303934  \n",
       "1854   373236323565303         1  11190  35363233663665383639  \n",
       "8461   373236323565303         1  11190                   NaN  \n",
       "10814  633263646431626         1  11190  61373536353465303639  "
      ]
     },
     "execution_count": 57,
     "metadata": {},
     "output_type": "execute_result"
    }
   ],
   "source": [
    "df[df.price==df.price.max()]"
   ]
  },
  {
   "cell_type": "markdown",
   "metadata": {},
   "source": [
    "### Que produto é esse que um item tem preço de 11190?"
   ]
  },
  {
   "cell_type": "code",
   "execution_count": 62,
   "metadata": {},
   "outputs": [
    {
     "data": {
      "text/plain": [
       "1    12209\n",
       "2       26\n",
       "3        2\n",
       "Name: quantity, dtype: int64"
      ]
     },
     "execution_count": 62,
     "metadata": {},
     "output_type": "execute_result"
    }
   ],
   "source": [
    "df.quantity.value_counts()"
   ]
  },
  {
   "cell_type": "markdown",
   "metadata": {},
   "source": [
    "# 2.0 - Preparation | Preparação"
   ]
  },
  {
   "cell_type": "markdown",
   "metadata": {},
   "source": [
    "## 2.1 Data Cleaning - NaN | Limpeza de Dados - NaN"
   ]
  },
  {
   "cell_type": "code",
   "execution_count": 73,
   "metadata": {},
   "outputs": [
    {
     "data": {
      "text/plain": [
       "date                0\n",
       "visitor_id          0\n",
       "deviceType          0\n",
       "order_id            0\n",
       "on_product_id       0\n",
       "quantity            0\n",
       "price               0\n",
       "customer_id      4480\n",
       "dtype: int64"
      ]
     },
     "execution_count": 73,
     "metadata": {},
     "output_type": "execute_result"
    }
   ],
   "source": [
    "df.isnull().sum()"
   ]
  },
  {
   "cell_type": "code",
   "execution_count": 77,
   "metadata": {},
   "outputs": [
    {
     "data": {
      "text/plain": [
       "12237"
      ]
     },
     "execution_count": 77,
     "metadata": {},
     "output_type": "execute_result"
    }
   ],
   "source": [
    "len(df.customer_id)"
   ]
  },
  {
   "cell_type": "markdown",
   "metadata": {},
   "source": [
    "**4480 NaN no customer_id column, pq existem compras online sem identificação de user?**  \n",
    "**36% do costumer_id está vazio (valor alto)** "
   ]
  },
  {
   "cell_type": "code",
   "execution_count": 79,
   "metadata": {},
   "outputs": [
    {
     "name": "stdout",
     "output_type": "stream",
     "text": [
      "<class 'pandas.core.frame.DataFrame'>\n",
      "Int64Index: 7757 entries, 1 to 12236\n",
      "Data columns (total 8 columns):\n",
      "date             7757 non-null datetime64[ns]\n",
      "visitor_id       7757 non-null object\n",
      "deviceType       7757 non-null object\n",
      "order_id         7757 non-null int64\n",
      "on_product_id    7757 non-null int64\n",
      "quantity         7757 non-null int64\n",
      "price            7757 non-null int64\n",
      "customer_id      7757 non-null object\n",
      "dtypes: datetime64[ns](1), int64(4), object(3)\n",
      "memory usage: 545.4+ KB\n"
     ]
    }
   ],
   "source": [
    "## Drop valores null\n",
    "no_null = df.copy()\n",
    "no_null.dropna(axis=0, inplace=True)\n",
    "no_null.info()"
   ]
  },
  {
   "cell_type": "code",
   "execution_count": 85,
   "metadata": {},
   "outputs": [
    {
     "data": {
      "text/html": [
       "<div>\n",
       "<style scoped>\n",
       "    .dataframe tbody tr th:only-of-type {\n",
       "        vertical-align: middle;\n",
       "    }\n",
       "\n",
       "    .dataframe tbody tr th {\n",
       "        vertical-align: top;\n",
       "    }\n",
       "\n",
       "    .dataframe thead th {\n",
       "        text-align: right;\n",
       "    }\n",
       "</style>\n",
       "<table border=\"1\" class=\"dataframe\">\n",
       "  <thead>\n",
       "    <tr style=\"text-align: right;\">\n",
       "      <th></th>\n",
       "      <th>date</th>\n",
       "      <th>visitor_id</th>\n",
       "      <th>deviceType</th>\n",
       "      <th>order_id</th>\n",
       "      <th>on_product_id</th>\n",
       "      <th>quantity</th>\n",
       "      <th>price</th>\n",
       "      <th>customer_id</th>\n",
       "    </tr>\n",
       "  </thead>\n",
       "  <tbody>\n",
       "    <tr>\n",
       "      <td>0</td>\n",
       "      <td>2018-08-01</td>\n",
       "      <td>3430316531623964316332613</td>\n",
       "      <td>mobile</td>\n",
       "      <td>356664366366353</td>\n",
       "      <td>313562333039323</td>\n",
       "      <td>1</td>\n",
       "      <td>629</td>\n",
       "      <td>63393337303931353431</td>\n",
       "    </tr>\n",
       "    <tr>\n",
       "      <td>1</td>\n",
       "      <td>2018-08-01</td>\n",
       "      <td>3261343261306231336437393</td>\n",
       "      <td>desktop</td>\n",
       "      <td>313432656633333</td>\n",
       "      <td>383863346531623</td>\n",
       "      <td>1</td>\n",
       "      <td>219</td>\n",
       "      <td>37653631373639353439</td>\n",
       "    </tr>\n",
       "    <tr>\n",
       "      <td>2</td>\n",
       "      <td>2018-08-01</td>\n",
       "      <td>6437386532653732323563656</td>\n",
       "      <td>mobile</td>\n",
       "      <td>633236633438383</td>\n",
       "      <td>666136386663626</td>\n",
       "      <td>1</td>\n",
       "      <td>239</td>\n",
       "      <td>65333830303066373165</td>\n",
       "    </tr>\n",
       "    <tr>\n",
       "      <td>3</td>\n",
       "      <td>2018-08-02</td>\n",
       "      <td>3933383761663335353034373</td>\n",
       "      <td>mobile</td>\n",
       "      <td>636536353265386</td>\n",
       "      <td>356466373137383</td>\n",
       "      <td>1</td>\n",
       "      <td>1798</td>\n",
       "      <td>61306161303630373135</td>\n",
       "    </tr>\n",
       "    <tr>\n",
       "      <td>4</td>\n",
       "      <td>2018-08-02</td>\n",
       "      <td>6363363338623337663538353</td>\n",
       "      <td>mobile</td>\n",
       "      <td>363037313438636</td>\n",
       "      <td>383530353262626</td>\n",
       "      <td>1</td>\n",
       "      <td>428</td>\n",
       "      <td>62633265623261666566</td>\n",
       "    </tr>\n",
       "  </tbody>\n",
       "</table>\n",
       "</div>"
      ],
      "text/plain": [
       "        date                 visitor_id deviceType         order_id  \\\n",
       "0 2018-08-01  3430316531623964316332613     mobile  356664366366353   \n",
       "1 2018-08-01  3261343261306231336437393    desktop  313432656633333   \n",
       "2 2018-08-01  6437386532653732323563656     mobile  633236633438383   \n",
       "3 2018-08-02  3933383761663335353034373     mobile  636536353265386   \n",
       "4 2018-08-02  6363363338623337663538353     mobile  363037313438636   \n",
       "\n",
       "     on_product_id  quantity  price           customer_id  \n",
       "0  313562333039323         1    629  63393337303931353431  \n",
       "1  383863346531623         1    219  37653631373639353439  \n",
       "2  666136386663626         1    239  65333830303066373165  \n",
       "3  356466373137383         1   1798  61306161303630373135  \n",
       "4  383530353262626         1    428  62633265623261666566  "
      ]
     },
     "execution_count": 85,
     "metadata": {},
     "output_type": "execute_result"
    }
   ],
   "source": [
    "## Reorganiza indices\n",
    "no_null = no_null.reset_index().drop(columns=['index'])\n",
    "no_null.head()"
   ]
  },
  {
   "cell_type": "markdown",
   "metadata": {},
   "source": [
    "## 2.2 Data Cleaning - Outliers | Limpeza de Dados - Outliers"
   ]
  },
  {
   "cell_type": "code",
   "execution_count": 90,
   "metadata": {},
   "outputs": [
    {
     "data": {
      "text/plain": [
       "count    12237.000000\n",
       "mean       461.047397\n",
       "std        481.098790\n",
       "min         19.000000\n",
       "25%        209.000000\n",
       "50%        359.000000\n",
       "75%        569.000000\n",
       "max      11190.000000\n",
       "Name: price, dtype: float64"
      ]
     },
     "execution_count": 90,
     "metadata": {},
     "output_type": "execute_result"
    }
   ],
   "source": [
    "df.price.describe()"
   ]
  },
  {
   "cell_type": "code",
   "execution_count": 92,
   "metadata": {},
   "outputs": [
    {
     "data": {
      "text/plain": [
       "<matplotlib.axes._subplots.AxesSubplot at 0x7fa8b9e66f50>"
      ]
     },
     "execution_count": 92,
     "metadata": {},
     "output_type": "execute_result"
    },
    {
     "data": {
      "image/png": "[encoded data removed]",
      "text/plain": [
       "<Figure size 432x288 with 1 Axes>"
      ]
     },
     "metadata": {
      "needs_background": "light"
     },
     "output_type": "display_data"
    }
   ],
   "source": [
    "df.price.plot(kind='box')"
   ]
  },
  {
   "cell_type": "markdown",
   "metadata": {},
   "source": [
    "**Mediana representa melhor que média**"
   ]
  },
  {
   "cell_type": "code",
   "execution_count": 96,
   "metadata": {},
   "outputs": [
    {
     "data": {
      "text/html": [
       "<div>\n",
       "<style scoped>\n",
       "    .dataframe tbody tr th:only-of-type {\n",
       "        vertical-align: middle;\n",
       "    }\n",
       "\n",
       "    .dataframe tbody tr th {\n",
       "        vertical-align: top;\n",
       "    }\n",
       "\n",
       "    .dataframe thead th {\n",
       "        text-align: right;\n",
       "    }\n",
       "</style>\n",
       "<table border=\"1\" class=\"dataframe\">\n",
       "  <thead>\n",
       "    <tr style=\"text-align: right;\">\n",
       "      <th></th>\n",
       "      <th>date</th>\n",
       "      <th>visitor_id</th>\n",
       "      <th>deviceType</th>\n",
       "      <th>order_id</th>\n",
       "      <th>on_product_id</th>\n",
       "      <th>quantity</th>\n",
       "      <th>price</th>\n",
       "      <th>customer_id</th>\n",
       "    </tr>\n",
       "  </thead>\n",
       "  <tbody>\n",
       "    <tr>\n",
       "      <td>596</td>\n",
       "      <td>2018-08-15</td>\n",
       "      <td>3964346363373032643564653</td>\n",
       "      <td>mobile</td>\n",
       "      <td>353034336533306</td>\n",
       "      <td>633263646431626</td>\n",
       "      <td>1</td>\n",
       "      <td>11190</td>\n",
       "      <td>34366334393234303934</td>\n",
       "    </tr>\n",
       "    <tr>\n",
       "      <td>1016</td>\n",
       "      <td>2018-08-16</td>\n",
       "      <td>3863393432663064653564393</td>\n",
       "      <td>mobile</td>\n",
       "      <td>643934386339343</td>\n",
       "      <td>656161613963633</td>\n",
       "      <td>1</td>\n",
       "      <td>7399</td>\n",
       "      <td>32383332626361303562</td>\n",
       "    </tr>\n",
       "    <tr>\n",
       "      <td>1854</td>\n",
       "      <td>2018-08-21</td>\n",
       "      <td>3731333664356630383162346</td>\n",
       "      <td>mobile</td>\n",
       "      <td>653465353366643</td>\n",
       "      <td>373236323565303</td>\n",
       "      <td>1</td>\n",
       "      <td>11190</td>\n",
       "      <td>35363233663665383639</td>\n",
       "    </tr>\n",
       "    <tr>\n",
       "      <td>8461</td>\n",
       "      <td>2018-08-15</td>\n",
       "      <td>3838383135656264386463313</td>\n",
       "      <td>desktop</td>\n",
       "      <td>346632663531363</td>\n",
       "      <td>373236323565303</td>\n",
       "      <td>1</td>\n",
       "      <td>11190</td>\n",
       "      <td>NaN</td>\n",
       "    </tr>\n",
       "    <tr>\n",
       "      <td>10814</td>\n",
       "      <td>2018-08-15</td>\n",
       "      <td>6336383764623038333638396</td>\n",
       "      <td>mobile</td>\n",
       "      <td>623864623164616</td>\n",
       "      <td>633263646431626</td>\n",
       "      <td>1</td>\n",
       "      <td>11190</td>\n",
       "      <td>61373536353465303639</td>\n",
       "    </tr>\n",
       "    <tr>\n",
       "      <td>11576</td>\n",
       "      <td>2018-08-15</td>\n",
       "      <td>6230376437366531633061373</td>\n",
       "      <td>mobile</td>\n",
       "      <td>373131333539306</td>\n",
       "      <td>616637363432393</td>\n",
       "      <td>1</td>\n",
       "      <td>10590</td>\n",
       "      <td>NaN</td>\n",
       "    </tr>\n",
       "  </tbody>\n",
       "</table>\n",
       "</div>"
      ],
      "text/plain": [
       "            date                 visitor_id deviceType         order_id  \\\n",
       "596   2018-08-15  3964346363373032643564653     mobile  353034336533306   \n",
       "1016  2018-08-16  3863393432663064653564393     mobile  643934386339343   \n",
       "1854  2018-08-21  3731333664356630383162346     mobile  653465353366643   \n",
       "8461  2018-08-15  3838383135656264386463313    desktop  346632663531363   \n",
       "10814 2018-08-15  6336383764623038333638396     mobile  623864623164616   \n",
       "11576 2018-08-15  6230376437366531633061373     mobile  373131333539306   \n",
       "\n",
       "         on_product_id  quantity  price           customer_id  \n",
       "596    633263646431626         1  11190  34366334393234303934  \n",
       "1016   656161613963633         1   7399  32383332626361303562  \n",
       "1854   373236323565303         1  11190  35363233663665383639  \n",
       "8461   373236323565303         1  11190                   NaN  \n",
       "10814  633263646431626         1  11190  61373536353465303639  \n",
       "11576  616637363432393         1  10590                   NaN  "
      ]
     },
     "execution_count": 96,
     "metadata": {},
     "output_type": "execute_result"
    }
   ],
   "source": [
    "df[df.price>5000]"
   ]
  },
  {
   "cell_type": "markdown",
   "metadata": {},
   "source": [
    "## 2.3 Data Cleaning - Duplicated | Limpeza de Dados - Duplicados "
   ]
  },
  {
   "cell_type": "code",
   "execution_count": 98,
   "metadata": {},
   "outputs": [
    {
     "data": {
      "text/plain": [
       "0"
      ]
     },
     "execution_count": 98,
     "metadata": {},
     "output_type": "execute_result"
    }
   ],
   "source": [
    "df.duplicated().sum()"
   ]
  },
  {
   "cell_type": "markdown",
   "metadata": {},
   "source": [
    "**Não existem linhas completamente duplicadas e a duplicidade de valores individuais não são problema**"
   ]
  },
  {
   "cell_type": "markdown",
   "metadata": {},
   "source": [
    "# 3.0 - Análises"
   ]
  },
  {
   "cell_type": "code",
   "execution_count": 100,
   "metadata": {},
   "outputs": [
    {
     "data": {
      "text/html": [
       "<div>\n",
       "<style scoped>\n",
       "    .dataframe tbody tr th:only-of-type {\n",
       "        vertical-align: middle;\n",
       "    }\n",
       "\n",
       "    .dataframe tbody tr th {\n",
       "        vertical-align: top;\n",
       "    }\n",
       "\n",
       "    .dataframe thead th {\n",
       "        text-align: right;\n",
       "    }\n",
       "</style>\n",
       "<table border=\"1\" class=\"dataframe\">\n",
       "  <thead>\n",
       "    <tr style=\"text-align: right;\">\n",
       "      <th></th>\n",
       "      <th>date</th>\n",
       "      <th>visitor_id</th>\n",
       "      <th>deviceType</th>\n",
       "      <th>order_id</th>\n",
       "      <th>on_product_id</th>\n",
       "      <th>quantity</th>\n",
       "      <th>price</th>\n",
       "      <th>customer_id</th>\n",
       "    </tr>\n",
       "  </thead>\n",
       "  <tbody>\n",
       "    <tr>\n",
       "      <td>0</td>\n",
       "      <td>2018-08-01</td>\n",
       "      <td>3663323563643832383039356</td>\n",
       "      <td>desktop</td>\n",
       "      <td>363063373630306</td>\n",
       "      <td>323762666337343</td>\n",
       "      <td>1</td>\n",
       "      <td>839</td>\n",
       "      <td>NaN</td>\n",
       "    </tr>\n",
       "    <tr>\n",
       "      <td>1</td>\n",
       "      <td>2018-08-01</td>\n",
       "      <td>3430316531623964316332613</td>\n",
       "      <td>mobile</td>\n",
       "      <td>356664366366353</td>\n",
       "      <td>313562333039323</td>\n",
       "      <td>1</td>\n",
       "      <td>629</td>\n",
       "      <td>63393337303931353431</td>\n",
       "    </tr>\n",
       "    <tr>\n",
       "      <td>2</td>\n",
       "      <td>2018-08-01</td>\n",
       "      <td>3261343261306231336437393</td>\n",
       "      <td>desktop</td>\n",
       "      <td>313432656633333</td>\n",
       "      <td>383863346531623</td>\n",
       "      <td>1</td>\n",
       "      <td>219</td>\n",
       "      <td>37653631373639353439</td>\n",
       "    </tr>\n",
       "    <tr>\n",
       "      <td>3</td>\n",
       "      <td>2018-08-01</td>\n",
       "      <td>6437386532653732323563656</td>\n",
       "      <td>mobile</td>\n",
       "      <td>633236633438383</td>\n",
       "      <td>666136386663626</td>\n",
       "      <td>1</td>\n",
       "      <td>239</td>\n",
       "      <td>65333830303066373165</td>\n",
       "    </tr>\n",
       "    <tr>\n",
       "      <td>4</td>\n",
       "      <td>2018-08-01</td>\n",
       "      <td>6264656662326430346661616</td>\n",
       "      <td>desktop</td>\n",
       "      <td>623030326130383</td>\n",
       "      <td>626533383465323</td>\n",
       "      <td>1</td>\n",
       "      <td>69</td>\n",
       "      <td>NaN</td>\n",
       "    </tr>\n",
       "  </tbody>\n",
       "</table>\n",
       "</div>"
      ],
      "text/plain": [
       "        date                 visitor_id deviceType         order_id  \\\n",
       "0 2018-08-01  3663323563643832383039356    desktop  363063373630306   \n",
       "1 2018-08-01  3430316531623964316332613     mobile  356664366366353   \n",
       "2 2018-08-01  3261343261306231336437393    desktop  313432656633333   \n",
       "3 2018-08-01  6437386532653732323563656     mobile  633236633438383   \n",
       "4 2018-08-01  6264656662326430346661616    desktop  623030326130383   \n",
       "\n",
       "     on_product_id  quantity  price           customer_id  \n",
       "0  323762666337343         1    839                   NaN  \n",
       "1  313562333039323         1    629  63393337303931353431  \n",
       "2  383863346531623         1    219  37653631373639353439  \n",
       "3  666136386663626         1    239  65333830303066373165  \n",
       "4  626533383465323         1     69                   NaN  "
      ]
     },
     "execution_count": 100,
     "metadata": {},
     "output_type": "execute_result"
    }
   ],
   "source": [
    "df.head()"
   ]
  },
  {
   "cell_type": "code",
   "execution_count": null,
   "metadata": {},
   "outputs": [],
   "source": []
  }
 ],
 "metadata": {
  "kernelspec": {
   "display_name": "Python 3",
   "language": "python",
   "name": "python3"
  },
  "language_info": {
   "codemirror_mode": {
    "name": "ipython",
    "version": 3
   },
   "file_extension": ".py",
   "mimetype": "text/x-python",
   "name": "python",
   "nbconvert_exporter": "python",
   "pygments_lexer": "ipython3",
   "version": "3.7.4"
  }
 },
 "nbformat": 4,
 "nbformat_minor": 2
}
