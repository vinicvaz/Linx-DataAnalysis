{
 "cells": [
  {
   "cell_type": "code",
   "execution_count": 3,
   "metadata": {},
   "outputs": [],
   "source": [
    "import pandas as pd\n",
    "import numpy as np\n",
    "import matplotlib.pyplot as plt\n",
    "import seaborn as sns\n",
    "import datetime\n",
    "sns.set_style('whitegrid')\n"
   ]
  },
  {
   "cell_type": "markdown",
   "metadata": {},
   "source": [
    "# 01 - Importar DataFrames Originais"
   ]
  },
  {
   "cell_type": "code",
   "execution_count": 8,
   "metadata": {},
   "outputs": [],
   "source": [
    "off = \".//Data//Small_Data//offline_sales.json\"\n",
    "on = './Data/Small_Data/online_orders.json'"
   ]
  },
  {
   "cell_type": "code",
   "execution_count": 9,
   "metadata": {},
   "outputs": [],
   "source": [
    "## Carregar Arquivo (customer_id e visitor_id como string para evitar notação cientifica)\n",
    "df_off = pd.read_json(off, lines=True, dtype={'customer_id': str})\n",
    "df_on = pd.read_json(on, lines=True, dtype={'visitor_id':str,'customer_id': str})"
   ]
  },
  {
   "cell_type": "code",
   "execution_count": 10,
   "metadata": {},
   "outputs": [],
   "source": [
    "## Substitui None por NaN\n",
    "df_off.customer_id.replace('None', np.nan, inplace=True)\n",
    "df_on.customer_id.replace('None', np.nan, inplace=True)\n",
    "df_on.visitor_id.replace('None', np.nan, inplace=True)\n"
   ]
  },
  {
   "cell_type": "markdown",
   "metadata": {},
   "source": [
    "## 1.1 - Comparação de Clientes que utilizam ambos serviços \n",
    "**Esses números descartam clientes com identificação faltante**"
   ]
  },
  {
   "cell_type": "code",
   "execution_count": 11,
   "metadata": {},
   "outputs": [],
   "source": [
    "clients_off = df_off.dropna().groupby('customer_id').sum().reset_index().customer_id\n",
    "clients_on = df_on.dropna().groupby('customer_id').sum().reset_index().customer_id\n",
    "\n",
    "lista_off = list(clients_off)\n",
    "lista_on = list(clients_on)"
   ]
  },
  {
   "cell_type": "code",
   "execution_count": 12,
   "metadata": {},
   "outputs": [
    {
     "data": {
      "text/plain": [
       "457"
      ]
     },
     "execution_count": 12,
     "metadata": {},
     "output_type": "execute_result"
    }
   ],
   "source": [
    "## Quantidade de clientes que compraram tanto online quanto offline\n",
    "clients_off.isin(lista_on).sum()"
   ]
  },
  {
   "cell_type": "code",
   "execution_count": 13,
   "metadata": {},
   "outputs": [],
   "source": [
    "#### Aprimorar essa função usando seleção por estado com maior faturamento\n",
    "def get_state(name):\n",
    "    return ''.join(list(df_off[df_off.customer_id==name].state.value_counts().index)[0])\n",
    "    \n",
    "    "
   ]
  },
  {
   "cell_type": "code",
   "execution_count": 14,
   "metadata": {},
   "outputs": [],
   "source": [
    "## Cria lista de clients utilizaram ambos serviços\n",
    "clients_both = []\n",
    "estados = []\n",
    "for name in lista_off:\n",
    "    ## Se nome do cliente off existe no clients On apenda id, se nao, passsa\n",
    "    if clients_on.isin([name]).sum()>=1:\n",
    "        clients_both.append(name)\n",
    "        estados.append(get_state(name))\n",
    "    else:\n",
    "        pass\n",
    "    \n",
    "    "
   ]
  },
  {
   "cell_type": "code",
   "execution_count": 15,
   "metadata": {},
   "outputs": [],
   "source": [
    "dict_clients = dict(zip(clients_both, estados))"
   ]
  },
  {
   "cell_type": "code",
   "execution_count": 16,
   "metadata": {},
   "outputs": [],
   "source": [
    "df_both = pd.DataFrame(list(zip(clients_both, estados)), columns=['customer_id','state'])"
   ]
  },
  {
   "cell_type": "code",
   "execution_count": 18,
   "metadata": {},
   "outputs": [
    {
     "data": {
      "text/html": [
       "<div>\n",
       "<style scoped>\n",
       "    .dataframe tbody tr th:only-of-type {\n",
       "        vertical-align: middle;\n",
       "    }\n",
       "\n",
       "    .dataframe tbody tr th {\n",
       "        vertical-align: top;\n",
       "    }\n",
       "\n",
       "    .dataframe thead th {\n",
       "        text-align: right;\n",
       "    }\n",
       "</style>\n",
       "<table border=\"1\" class=\"dataframe\">\n",
       "  <thead>\n",
       "    <tr style=\"text-align: right;\">\n",
       "      <th></th>\n",
       "      <th>customer_id</th>\n",
       "      <th>state</th>\n",
       "    </tr>\n",
       "  </thead>\n",
       "  <tbody>\n",
       "    <tr>\n",
       "      <td>0</td>\n",
       "      <td>30313235376530633063</td>\n",
       "      <td>RJ</td>\n",
       "    </tr>\n",
       "    <tr>\n",
       "      <td>1</td>\n",
       "      <td>30313239643866643564</td>\n",
       "      <td>RJ</td>\n",
       "    </tr>\n",
       "    <tr>\n",
       "      <td>2</td>\n",
       "      <td>30323636393364386334</td>\n",
       "      <td>RJ</td>\n",
       "    </tr>\n",
       "    <tr>\n",
       "      <td>3</td>\n",
       "      <td>30326138306138626565</td>\n",
       "      <td>RJ</td>\n",
       "    </tr>\n",
       "    <tr>\n",
       "      <td>4</td>\n",
       "      <td>30326337663562336538</td>\n",
       "      <td>RJ</td>\n",
       "    </tr>\n",
       "  </tbody>\n",
       "</table>\n",
       "</div>"
      ],
      "text/plain": [
       "            customer_id state\n",
       "0  30313235376530633063    RJ\n",
       "1  30313239643866643564    RJ\n",
       "2  30323636393364386334    RJ\n",
       "3  30326138306138626565    RJ\n",
       "4  30326337663562336538    RJ"
      ]
     },
     "execution_count": 18,
     "metadata": {},
     "output_type": "execute_result"
    }
   ],
   "source": [
    "## Lista de Clientes Identificados que utilizaram ambos serviços\n",
    "df_both.head()"
   ]
  },
  {
   "cell_type": "code",
   "execution_count": 19,
   "metadata": {},
   "outputs": [],
   "source": [
    "#Numero de Clientes que utilizam ambos serviços\n",
    "n_both = len(df_both)"
   ]
  },
  {
   "cell_type": "markdown",
   "metadata": {},
   "source": [
    "# 02 - Importar Outputs Off e Online"
   ]
  },
  {
   "cell_type": "code",
   "execution_count": 20,
   "metadata": {},
   "outputs": [],
   "source": [
    "out_off = './Outputs/Offline_Data/Off_Output_Horizontal.csv'\n",
    "out_on = './Outputs/Online_Data/On_Output_Horizontal.csv'"
   ]
  },
  {
   "cell_type": "code",
   "execution_count": 21,
   "metadata": {},
   "outputs": [],
   "source": [
    "o_off = pd.read_csv(out_off).drop('Unnamed: 0', axis=1)\n",
    "o_on = pd.read_csv(out_on).drop('Unnamed: 0', axis=1)"
   ]
  },
  {
   "cell_type": "markdown",
   "metadata": {},
   "source": [
    "## 2.1 - Gerar Dados de Saída Combinados"
   ]
  },
  {
   "cell_type": "code",
   "execution_count": 22,
   "metadata": {},
   "outputs": [],
   "source": [
    "fat_off = int(o_off.faturamento_total.values)\n",
    "fat_on = int(o_on.faturamento_total.values)\n",
    "fat_total = fat_off+fat_on"
   ]
  },
  {
   "cell_type": "code",
   "execution_count": 23,
   "metadata": {},
   "outputs": [
    {
     "name": "stdout",
     "output_type": "stream",
     "text": [
      "Faturamento das Lojas Físicas: 13747940\n",
      "Faturamento da Loja Virtual 5641837\n",
      "Faturamento total: 19389777\n"
     ]
    }
   ],
   "source": [
    "print('Faturamento das Lojas Físicas:', fat_off)\n",
    "print('Faturamento da Loja Virtual', fat_on)\n",
    "print('Faturamento total:',fat_total)"
   ]
  },
  {
   "cell_type": "markdown",
   "metadata": {},
   "source": [
    "# 03 - Importar Output PageView Visitors ID"
   ]
  },
  {
   "cell_type": "code",
   "execution_count": 24,
   "metadata": {},
   "outputs": [],
   "source": [
    "f = './Outputs/Utils/visitors_grouped.csv'"
   ]
  },
  {
   "cell_type": "code",
   "execution_count": 27,
   "metadata": {},
   "outputs": [],
   "source": [
    "visitors = pd.read_csv(f).drop('Unnamed: 0', axis=1)"
   ]
  },
  {
   "cell_type": "markdown",
   "metadata": {},
   "source": [
    "## 3.1 - Manipulação "
   ]
  },
  {
   "cell_type": "code",
   "execution_count": 62,
   "metadata": {},
   "outputs": [
    {
     "data": {
      "text/plain": [
       "468581"
      ]
     },
     "execution_count": 62,
     "metadata": {},
     "output_type": "execute_result"
    }
   ],
   "source": [
    "## Gera uma lista contendo os ids dos visitantes que visualizaram paginas\n",
    "lista_vis = list(visitors.visitor_id.unique())\n",
    "len(lista_vis)"
   ]
  },
  {
   "cell_type": "code",
   "execution_count": 68,
   "metadata": {},
   "outputs": [
    {
     "data": {
      "text/plain": [
       "True     12169\n",
       "False       68\n",
       "Name: visitor_id, dtype: int64"
      ]
     },
     "execution_count": 68,
     "metadata": {},
     "output_type": "execute_result"
    }
   ],
   "source": [
    "## Verifica se todos dados de quem comprou está presente no DF visualização\n",
    "df_on.visitor_id.isin(lista_vis).value_counts()"
   ]
  },
  {
   "cell_type": "markdown",
   "metadata": {},
   "source": [
    "**68 pessoas que compraram não estão na lista? Isso é possivel como?**  \n",
    "  \n",
    "**A principio esses 68 negativos existem devido à filtragem por tipo de página onde foi incluido apenas 'Product', adicionar pageType='Category' e verificar**"
   ]
  },
  {
   "cell_type": "code",
   "execution_count": 66,
   "metadata": {},
   "outputs": [],
   "source": [
    "ids_bought = df_on[~df_on.visitor_id.isin(lista_vis)]"
   ]
  },
  {
   "cell_type": "code",
   "execution_count": 67,
   "metadata": {},
   "outputs": [
    {
     "data": {
      "text/html": [
       "<div>\n",
       "<style scoped>\n",
       "    .dataframe tbody tr th:only-of-type {\n",
       "        vertical-align: middle;\n",
       "    }\n",
       "\n",
       "    .dataframe tbody tr th {\n",
       "        vertical-align: top;\n",
       "    }\n",
       "\n",
       "    .dataframe thead th {\n",
       "        text-align: right;\n",
       "    }\n",
       "</style>\n",
       "<table border=\"1\" class=\"dataframe\">\n",
       "  <thead>\n",
       "    <tr style=\"text-align: right;\">\n",
       "      <th></th>\n",
       "      <th>date</th>\n",
       "      <th>visitor_id</th>\n",
       "      <th>deviceType</th>\n",
       "      <th>order_id</th>\n",
       "      <th>on_product_id</th>\n",
       "      <th>quantity</th>\n",
       "      <th>price</th>\n",
       "      <th>customer_id</th>\n",
       "    </tr>\n",
       "  </thead>\n",
       "  <tbody>\n",
       "    <tr>\n",
       "      <td>28</td>\n",
       "      <td>2018-08-06</td>\n",
       "      <td>6533326563386363386365636</td>\n",
       "      <td>desktop</td>\n",
       "      <td>643663353463633</td>\n",
       "      <td>393437356562616</td>\n",
       "      <td>1</td>\n",
       "      <td>239</td>\n",
       "      <td>NaN</td>\n",
       "    </tr>\n",
       "    <tr>\n",
       "      <td>60</td>\n",
       "      <td>2018-08-09</td>\n",
       "      <td>6431343131393931326261383</td>\n",
       "      <td>desktop</td>\n",
       "      <td>613137393066636</td>\n",
       "      <td>393138353232346</td>\n",
       "      <td>1</td>\n",
       "      <td>279</td>\n",
       "      <td>38653236343631363863</td>\n",
       "    </tr>\n",
       "    <tr>\n",
       "      <td>128</td>\n",
       "      <td>2018-08-12</td>\n",
       "      <td>3235646631643530626338363</td>\n",
       "      <td>desktop</td>\n",
       "      <td>343966333265646</td>\n",
       "      <td>666465636562323</td>\n",
       "      <td>1</td>\n",
       "      <td>489</td>\n",
       "      <td>NaN</td>\n",
       "    </tr>\n",
       "    <tr>\n",
       "      <td>182</td>\n",
       "      <td>2018-08-15</td>\n",
       "      <td>6331613232303533653065643</td>\n",
       "      <td>desktop</td>\n",
       "      <td>633436633061346</td>\n",
       "      <td>633236343836623</td>\n",
       "      <td>1</td>\n",
       "      <td>559</td>\n",
       "      <td>37666665353532613732</td>\n",
       "    </tr>\n",
       "    <tr>\n",
       "      <td>330</td>\n",
       "      <td>2018-08-24</td>\n",
       "      <td>3531646138633635616361633</td>\n",
       "      <td>desktop</td>\n",
       "      <td>333633306462366</td>\n",
       "      <td>393637646437663</td>\n",
       "      <td>1</td>\n",
       "      <td>129</td>\n",
       "      <td>NaN</td>\n",
       "    </tr>\n",
       "    <tr>\n",
       "      <td>...</td>\n",
       "      <td>...</td>\n",
       "      <td>...</td>\n",
       "      <td>...</td>\n",
       "      <td>...</td>\n",
       "      <td>...</td>\n",
       "      <td>...</td>\n",
       "      <td>...</td>\n",
       "      <td>...</td>\n",
       "    </tr>\n",
       "    <tr>\n",
       "      <td>11290</td>\n",
       "      <td>2018-08-16</td>\n",
       "      <td>3166346666666461363836626</td>\n",
       "      <td>desktop</td>\n",
       "      <td>633734616433313</td>\n",
       "      <td>396335396565623</td>\n",
       "      <td>1</td>\n",
       "      <td>348</td>\n",
       "      <td>NaN</td>\n",
       "    </tr>\n",
       "    <tr>\n",
       "      <td>11345</td>\n",
       "      <td>2018-08-24</td>\n",
       "      <td>3861303637353463616530653</td>\n",
       "      <td>desktop</td>\n",
       "      <td>356665333564333</td>\n",
       "      <td>396464373131666</td>\n",
       "      <td>1</td>\n",
       "      <td>69</td>\n",
       "      <td>63623232386338653863</td>\n",
       "    </tr>\n",
       "    <tr>\n",
       "      <td>11351</td>\n",
       "      <td>2018-08-24</td>\n",
       "      <td>3531646138633635616361633</td>\n",
       "      <td>desktop</td>\n",
       "      <td>333633306462366</td>\n",
       "      <td>346465613433363</td>\n",
       "      <td>1</td>\n",
       "      <td>119</td>\n",
       "      <td>NaN</td>\n",
       "    </tr>\n",
       "    <tr>\n",
       "      <td>11992</td>\n",
       "      <td>2018-08-14</td>\n",
       "      <td>3236313533333530646462363</td>\n",
       "      <td>desktop</td>\n",
       "      <td>316638643962636</td>\n",
       "      <td>333437623263326</td>\n",
       "      <td>1</td>\n",
       "      <td>389</td>\n",
       "      <td>NaN</td>\n",
       "    </tr>\n",
       "    <tr>\n",
       "      <td>12053</td>\n",
       "      <td>2018-08-16</td>\n",
       "      <td>3330633066343361346161396</td>\n",
       "      <td>mobile</td>\n",
       "      <td>643736646564666</td>\n",
       "      <td>626334343231306</td>\n",
       "      <td>1</td>\n",
       "      <td>798</td>\n",
       "      <td>63393965333662396238</td>\n",
       "    </tr>\n",
       "  </tbody>\n",
       "</table>\n",
       "<p>68 rows × 8 columns</p>\n",
       "</div>"
      ],
      "text/plain": [
       "            date                 visitor_id deviceType         order_id  \\\n",
       "28    2018-08-06  6533326563386363386365636    desktop  643663353463633   \n",
       "60    2018-08-09  6431343131393931326261383    desktop  613137393066636   \n",
       "128   2018-08-12  3235646631643530626338363    desktop  343966333265646   \n",
       "182   2018-08-15  6331613232303533653065643    desktop  633436633061346   \n",
       "330   2018-08-24  3531646138633635616361633    desktop  333633306462366   \n",
       "...          ...                        ...        ...              ...   \n",
       "11290 2018-08-16  3166346666666461363836626    desktop  633734616433313   \n",
       "11345 2018-08-24  3861303637353463616530653    desktop  356665333564333   \n",
       "11351 2018-08-24  3531646138633635616361633    desktop  333633306462366   \n",
       "11992 2018-08-14  3236313533333530646462363    desktop  316638643962636   \n",
       "12053 2018-08-16  3330633066343361346161396     mobile  643736646564666   \n",
       "\n",
       "         on_product_id  quantity  price           customer_id  \n",
       "28     393437356562616         1    239                   NaN  \n",
       "60     393138353232346         1    279  38653236343631363863  \n",
       "128    666465636562323         1    489                   NaN  \n",
       "182    633236343836623         1    559  37666665353532613732  \n",
       "330    393637646437663         1    129                   NaN  \n",
       "...                ...       ...    ...                   ...  \n",
       "11290  396335396565623         1    348                   NaN  \n",
       "11345  396464373131666         1     69  63623232386338653863  \n",
       "11351  346465613433363         1    119                   NaN  \n",
       "11992  333437623263326         1    389                   NaN  \n",
       "12053  626334343231306         1    798  63393965333662396238  \n",
       "\n",
       "[68 rows x 8 columns]"
      ]
     },
     "execution_count": 67,
     "metadata": {},
     "output_type": "execute_result"
    }
   ],
   "source": [
    "ids_bought"
   ]
  },
  {
   "cell_type": "code",
   "execution_count": null,
   "metadata": {},
   "outputs": [],
   "source": []
  }
 ],
 "metadata": {
  "kernelspec": {
   "display_name": "Python 3",
   "language": "python",
   "name": "python3"
  },
  "language_info": {
   "codemirror_mode": {
    "name": "ipython",
    "version": 3
   },
   "file_extension": ".py",
   "mimetype": "text/x-python",
   "name": "python",
   "nbconvert_exporter": "python",
   "pygments_lexer": "ipython3",
   "version": "3.7.4"
  }
 },
 "nbformat": 4,
 "nbformat_minor": 2
}
