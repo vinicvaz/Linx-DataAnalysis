{
 "cells": [
  {
   "cell_type": "code",
   "execution_count": 1,
   "metadata": {},
   "outputs": [],
   "source": [
    "import pandas as pd\n",
    "import numpy as np\n",
    "import matplotlib.pyplot as plt\n",
    "import seaborn as sns\n",
    "import datetime\n",
    "sns.set_style('whitegrid')\n"
   ]
  },
  {
   "cell_type": "markdown",
   "metadata": {},
   "source": [
    "# 01 - Importar DataFrames Originais"
   ]
  },
  {
   "cell_type": "code",
   "execution_count": 2,
   "metadata": {},
   "outputs": [],
   "source": [
    "off = \".//Data//Small_Data//offline_sales.json\"\n",
    "on = './Data/Small_Data/online_orders.json'"
   ]
  },
  {
   "cell_type": "code",
   "execution_count": 3,
   "metadata": {},
   "outputs": [],
   "source": [
    "## Carregar Arquivo (customer_id e visitor_id como string para evitar notação cientifica)\n",
    "df_off = pd.read_json(off, lines=True, dtype={'customer_id': str})\n",
    "df_on = pd.read_json(on, lines=True, dtype={'visitor_id':str,'customer_id': str})"
   ]
  },
  {
   "cell_type": "code",
   "execution_count": 8,
   "metadata": {},
   "outputs": [],
   "source": [
    "## Substitui None por NaN\n",
    "df_off.customer_id.replace('None', np.nan, inplace=True)\n",
    "df_on.customer_id.replace('None', np.nan, inplace=True)\n",
    "df_on.visitor_id.replace('None', np.nan, inplace=True)\n"
   ]
  },
  {
   "cell_type": "markdown",
   "metadata": {},
   "source": [
    "## 1.1 - Comparação de Clientes que utilizam ambos serviços \n",
    "**Esses números descartam clientes com identificação faltante**"
   ]
  },
  {
   "cell_type": "code",
   "execution_count": 34,
   "metadata": {},
   "outputs": [],
   "source": [
    "clients_off = df_off.dropna().groupby('customer_id').sum().reset_index().customer_id\n",
    "clients_on = df_on.dropna().groupby('customer_id').sum().reset_index().customer_id\n",
    "\n",
    "lista_off = list(clients_off)\n",
    "lista_on = list(clients_on)"
   ]
  },
  {
   "cell_type": "code",
   "execution_count": 32,
   "metadata": {},
   "outputs": [
    {
     "data": {
      "text/plain": [
       "457"
      ]
     },
     "execution_count": 32,
     "metadata": {},
     "output_type": "execute_result"
    }
   ],
   "source": [
    "## Quantidade de clientes que compraram tanto online quanto offline\n",
    "clients_off.isin(lista_on).sum()"
   ]
  },
  {
   "cell_type": "code",
   "execution_count": 64,
   "metadata": {},
   "outputs": [],
   "source": [
    "#### Aprimorar essa função usando seleção por estado com maior faturamento\n",
    "def get_state(name):\n",
    "    return ''.join(list(df_off[df_off.customer_id==name].state.value_counts().index)[0])\n",
    "    \n",
    "    "
   ]
  },
  {
   "cell_type": "code",
   "execution_count": 65,
   "metadata": {},
   "outputs": [],
   "source": [
    "## Cria lista de clients utilizaram ambos serviços\n",
    "clients_both = []\n",
    "estados = []\n",
    "for name in lista_off:\n",
    "    ## Se nome do cliente off existe no clients On apenda id, se nao, passsa\n",
    "    if clients_on.isin([name]).sum()>=1:\n",
    "        clients_both.append(name)\n",
    "        estados.append(get_state(name))\n",
    "    else:\n",
    "        pass\n",
    "    \n",
    "    "
   ]
  },
  {
   "cell_type": "code",
   "execution_count": 73,
   "metadata": {},
   "outputs": [],
   "source": [
    "dict_clients = dict(zip(clients_both, estados))"
   ]
  },
  {
   "cell_type": "code",
   "execution_count": 80,
   "metadata": {},
   "outputs": [],
   "source": [
    "df_both = pd.DataFrame(list(zip(clients_both, estados)), columns=['customer_id','state'])"
   ]
  },
  {
   "cell_type": "code",
   "execution_count": 150,
   "metadata": {},
   "outputs": [
    {
     "data": {
      "text/html": [
       "<div>\n",
       "<style scoped>\n",
       "    .dataframe tbody tr th:only-of-type {\n",
       "        vertical-align: middle;\n",
       "    }\n",
       "\n",
       "    .dataframe tbody tr th {\n",
       "        vertical-align: top;\n",
       "    }\n",
       "\n",
       "    .dataframe thead th {\n",
       "        text-align: right;\n",
       "    }\n",
       "</style>\n",
       "<table border=\"1\" class=\"dataframe\">\n",
       "  <thead>\n",
       "    <tr style=\"text-align: right;\">\n",
       "      <th></th>\n",
       "      <th>customer_id</th>\n",
       "      <th>state</th>\n",
       "    </tr>\n",
       "  </thead>\n",
       "  <tbody>\n",
       "    <tr>\n",
       "      <td>0</td>\n",
       "      <td>30313235376530633063</td>\n",
       "      <td>RJ</td>\n",
       "    </tr>\n",
       "    <tr>\n",
       "      <td>1</td>\n",
       "      <td>30313239643866643564</td>\n",
       "      <td>RJ</td>\n",
       "    </tr>\n",
       "    <tr>\n",
       "      <td>2</td>\n",
       "      <td>30323636393364386334</td>\n",
       "      <td>RJ</td>\n",
       "    </tr>\n",
       "    <tr>\n",
       "      <td>3</td>\n",
       "      <td>30326138306138626565</td>\n",
       "      <td>RJ</td>\n",
       "    </tr>\n",
       "    <tr>\n",
       "      <td>4</td>\n",
       "      <td>30326337663562336538</td>\n",
       "      <td>RJ</td>\n",
       "    </tr>\n",
       "  </tbody>\n",
       "</table>\n",
       "</div>"
      ],
      "text/plain": [
       "            customer_id state\n",
       "0  30313235376530633063    RJ\n",
       "1  30313239643866643564    RJ\n",
       "2  30323636393364386334    RJ\n",
       "3  30326138306138626565    RJ\n",
       "4  30326337663562336538    RJ"
      ]
     },
     "execution_count": 150,
     "metadata": {},
     "output_type": "execute_result"
    }
   ],
   "source": [
    "## LIsta de Clientes Identificados que utilizaram ambos serviços\n",
    "df_both.head()"
   ]
  },
  {
   "cell_type": "code",
   "execution_count": 82,
   "metadata": {},
   "outputs": [],
   "source": [
    "#Numero de Clientes que utilizam ambos serviços\n",
    "n_both = len(df_both)"
   ]
  },
  {
   "cell_type": "markdown",
   "metadata": {},
   "source": [
    "# 02 - Importar Outputs Off e Online"
   ]
  },
  {
   "cell_type": "code",
   "execution_count": 138,
   "metadata": {},
   "outputs": [],
   "source": [
    "out_off = './Outputs/Offline_Data/Off_Output_Horizontal.csv'\n",
    "out_on = './Outputs/Online_Data/On_Output_Horizontal.csv'"
   ]
  },
  {
   "cell_type": "code",
   "execution_count": 139,
   "metadata": {},
   "outputs": [],
   "source": [
    "o_off = pd.read_csv(out_off).drop('Unnamed: 0', axis=1)\n",
    "o_on = pd.read_csv(out_on).drop('Unnamed: 0', axis=1)"
   ]
  },
  {
   "cell_type": "markdown",
   "metadata": {},
   "source": [
    "## 2.1 - Gerar Dados de Saída Combinados"
   ]
  },
  {
   "cell_type": "code",
   "execution_count": 140,
   "metadata": {},
   "outputs": [],
   "source": [
    "fat_off = int(o_off.faturamento_total.values)\n",
    "fat_on = int(o_on.faturamento_total.values)\n",
    "fat_total = fat_off+fat_on"
   ]
  },
  {
   "cell_type": "code",
   "execution_count": 141,
   "metadata": {},
   "outputs": [
    {
     "name": "stdout",
     "output_type": "stream",
     "text": [
      "Faturamento das Lojas Físicas: 13747940\n",
      "Faturamento da Loja Virtual 5641837\n",
      "Faturamento total: 19389777\n"
     ]
    }
   ],
   "source": [
    "print('Faturamento das Lojas Físicas:', fat_off)\n",
    "print('Faturamento da Loja Virtual', fat_on)\n",
    "print('Faturamento total:',fat_total)"
   ]
  },
  {
   "cell_type": "code",
   "execution_count": null,
   "metadata": {},
   "outputs": [],
   "source": []
  }
 ],
 "metadata": {
  "kernelspec": {
   "display_name": "Python 3",
   "language": "python",
   "name": "python3"
  },
  "language_info": {
   "codemirror_mode": {
    "name": "ipython",
    "version": 3
   },
   "file_extension": ".py",
   "mimetype": "text/x-python",
   "name": "python",
   "nbconvert_exporter": "python",
   "pygments_lexer": "ipython3",
   "version": "3.7.4"
  }
 },
 "nbformat": 4,
 "nbformat_minor": 2
}
