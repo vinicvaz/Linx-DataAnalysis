{
 "cells": [
  {
   "cell_type": "code",
   "execution_count": 21,
   "metadata": {},
   "outputs": [],
   "source": [
    "import findspark\n",
    "findspark.init()"
   ]
  },
  {
   "cell_type": "code",
   "execution_count": 50,
   "metadata": {},
   "outputs": [],
   "source": [
    "import pandas as pd\n",
    "import numpy as np"
   ]
  },
  {
   "cell_type": "code",
   "execution_count": 51,
   "metadata": {},
   "outputs": [],
   "source": [
    "from pyspark.sql import SparkSession\n",
    "\n",
    "spark = SparkSession \\\n",
    "    .builder \\\n",
    "    .appName(\"Python Spark SQL basic example\") \\\n",
    "    .config(\"spark.some.config.option\", \"some-value\") \\\n",
    "    .getOrCreate()"
   ]
  },
  {
   "cell_type": "code",
   "execution_count": 73,
   "metadata": {},
   "outputs": [],
   "source": [
    "file = './Data/Mid_Data/online_pageviews.json'"
   ]
  },
  {
   "cell_type": "code",
   "execution_count": 74,
   "metadata": {},
   "outputs": [],
   "source": [
    "df = spark.read.json(file)"
   ]
  },
  {
   "cell_type": "code",
   "execution_count": 80,
   "metadata": {},
   "outputs": [
    {
     "name": "stdout",
     "output_type": "stream",
     "text": [
      "+-----------+-----------+----------+----------+---------------+------------+--------------------+\n",
      "|category_id|customer_id|      date|deviceType|  on_product_id|    pageType|          visitor_id|\n",
      "+-----------+-----------+----------+----------+---------------+------------+--------------------+\n",
      "|       null|       null|2018-08-01|   desktop|           null|        home|61623262303037613...|\n",
      "|       null|       null|2018-08-01|   desktop|           null|landing_page|35383630323633313...|\n",
      "| 6161393336|       null|2018-08-01|    mobile|           null| subcategory|31303766393633366...|\n",
      "| 6664353638|       null|2018-08-01|    mobile|           null| subcategory|31303766393633366...|\n",
      "|       null|       null|2018-08-01|   desktop|           null|landing_page|32353739633733323...|\n",
      "| 6465643262|       null|2018-08-01|   desktop|373662303135636|     product|39356362316264336...|\n",
      "| 3832383865|       null|2018-08-01|    mobile|           null| subcategory|63383335343461373...|\n",
      "|       null|       null|2018-08-01|    mobile|           null|landing_page|31313038363261616...|\n",
      "| 3361653936|       null|2018-08-01|   desktop|           null| subcategory|61353939636130386...|\n",
      "| 3834323666|       null|2018-08-01|    mobile|616264656437353|     product|31376330316664366...|\n",
      "| 6338613464|       null|2018-08-01|   desktop|           null| subcategory|38333666666633353...|\n",
      "|       null|       null|2018-08-01|   desktop|           null|landing_page|33333463346639626...|\n",
      "| 3363396661|       null|2018-08-01|   desktop|373830663266653|     product|64353563636165383...|\n",
      "| 3166373239|       null|2018-08-01|   desktop|356566356434626|     product|61636236386561663...|\n",
      "|       null|       null|2018-08-01|   desktop|           null|        home|63346166353466383...|\n",
      "| 3436343737|       null|2018-08-01|    mobile|626334343231306|     product|32396331656334646...|\n",
      "| 3361653936|       null|2018-08-01|   desktop|           null| subcategory|36383130616665396...|\n",
      "|       null|       null|2018-08-01|   desktop|           null|        home|36383130616665396...|\n",
      "|       null|       null|2018-08-01|   desktop|           null| emptysearch|61386230376531396...|\n",
      "| 6539623139|       null|2018-08-01|   desktop|           null| subcategory|38623264646564653...|\n",
      "+-----------+-----------+----------+----------+---------------+------------+--------------------+\n",
      "only showing top 20 rows\n",
      "\n"
     ]
    }
   ],
   "source": [
    "df.show()"
   ]
  },
  {
   "cell_type": "code",
   "execution_count": null,
   "metadata": {},
   "outputs": [],
   "source": []
  },
  {
   "cell_type": "code",
   "execution_count": null,
   "metadata": {},
   "outputs": [],
   "source": []
  }
 ],
 "metadata": {
  "kernelspec": {
   "display_name": "Python 3",
   "language": "python",
   "name": "python3"
  },
  "language_info": {
   "codemirror_mode": {
    "name": "ipython",
    "version": 3
   },
   "file_extension": ".py",
   "mimetype": "text/x-python",
   "name": "python",
   "nbconvert_exporter": "python",
   "pygments_lexer": "ipython3",
   "version": "3.7.4"
  }
 },
 "nbformat": 4,
 "nbformat_minor": 2
}
