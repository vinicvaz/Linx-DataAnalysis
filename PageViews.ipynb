{
 "cells": [
  {
   "cell_type": "code",
   "execution_count": 1,
   "metadata": {},
   "outputs": [],
   "source": [
    "import findspark\n",
    "findspark.init()"
   ]
  },
  {
   "cell_type": "code",
   "execution_count": 2,
   "metadata": {},
   "outputs": [],
   "source": [
    "import pandas as pd\n",
    "import numpy as np\n",
    "from pyspark.sql.functions import isnan, when, count, col, length, size"
   ]
  },
  {
   "cell_type": "code",
   "execution_count": 3,
   "metadata": {},
   "outputs": [],
   "source": [
    "from pyspark.sql import SparkSession\n",
    "\n",
    "spark = SparkSession \\\n",
    "    .builder \\\n",
    "    .appName(\"Page View\") \\\n",
    "    .getOrCreate()"
   ]
  },
  {
   "cell_type": "code",
   "execution_count": 4,
   "metadata": {},
   "outputs": [],
   "source": [
    "spark.conf.set(\"spark.sql.execution.arrow.enabled\", \"true\")"
   ]
  },
  {
   "cell_type": "code",
   "execution_count": 5,
   "metadata": {},
   "outputs": [],
   "source": [
    "file = './Data/Mid_Data/online_pageviews.json'"
   ]
  },
  {
   "cell_type": "code",
   "execution_count": 6,
   "metadata": {},
   "outputs": [],
   "source": [
    "## Cria Spark DF\n",
    "df = spark.read.json(file)"
   ]
  },
  {
   "cell_type": "markdown",
   "metadata": {},
   "source": [
    "# 1.0 - Análise Exploratória de Dados"
   ]
  },
  {
   "cell_type": "code",
   "execution_count": 7,
   "metadata": {},
   "outputs": [
    {
     "name": "stdout",
     "output_type": "stream",
     "text": [
      "+-----------+-----------+----------+----------+---------------+------------+--------------------+\n",
      "|category_id|customer_id|      date|deviceType|  on_product_id|    pageType|          visitor_id|\n",
      "+-----------+-----------+----------+----------+---------------+------------+--------------------+\n",
      "|       null|       null|2018-08-01|   desktop|           null|        home|61623262303037613...|\n",
      "|       null|       null|2018-08-01|   desktop|           null|landing_page|35383630323633313...|\n",
      "| 6161393336|       null|2018-08-01|    mobile|           null| subcategory|31303766393633366...|\n",
      "| 6664353638|       null|2018-08-01|    mobile|           null| subcategory|31303766393633366...|\n",
      "|       null|       null|2018-08-01|   desktop|           null|landing_page|32353739633733323...|\n",
      "| 6465643262|       null|2018-08-01|   desktop|373662303135636|     product|39356362316264336...|\n",
      "| 3832383865|       null|2018-08-01|    mobile|           null| subcategory|63383335343461373...|\n",
      "|       null|       null|2018-08-01|    mobile|           null|landing_page|31313038363261616...|\n",
      "| 3361653936|       null|2018-08-01|   desktop|           null| subcategory|61353939636130386...|\n",
      "| 3834323666|       null|2018-08-01|    mobile|616264656437353|     product|31376330316664366...|\n",
      "+-----------+-----------+----------+----------+---------------+------------+--------------------+\n",
      "only showing top 10 rows\n",
      "\n"
     ]
    }
   ],
   "source": [
    "df.show(10)"
   ]
  },
  {
   "cell_type": "code",
   "execution_count": 26,
   "metadata": {},
   "outputs": [
    {
     "name": "stdout",
     "output_type": "stream",
     "text": [
      "root\n",
      " |-- category_id: string (nullable = true)\n",
      " |-- customer_id: string (nullable = true)\n",
      " |-- date: string (nullable = true)\n",
      " |-- deviceType: string (nullable = true)\n",
      " |-- on_product_id: string (nullable = true)\n",
      " |-- pageType: string (nullable = true)\n",
      " |-- visitor_id: string (nullable = true)\n",
      "\n"
     ]
    }
   ],
   "source": [
    "## Verificar Colunas\n",
    "df.printSchema()"
   ]
  },
  {
   "cell_type": "code",
   "execution_count": 8,
   "metadata": {},
   "outputs": [
    {
     "name": "stdout",
     "output_type": "stream",
     "text": [
      "+----------+-------+\n",
      "|deviceType|  count|\n",
      "+----------+-------+\n",
      "|   desktop|1353749|\n",
      "|    mobile|2098791|\n",
      "+----------+-------+\n",
      "\n"
     ]
    }
   ],
   "source": [
    "## Verificar Qual dispositivo é mais utilizado para acessos\n",
    "df.groupby('deviceType').count().show()"
   ]
  },
  {
   "cell_type": "markdown",
   "metadata": {},
   "source": [
    "**Condiz com o visto no DataSet de compras**"
   ]
  },
  {
   "cell_type": "code",
   "execution_count": 19,
   "metadata": {},
   "outputs": [
    {
     "name": "stdout",
     "output_type": "stream",
     "text": [
      "+-----------+-----------+----+----------+-------------+--------+----------+\n",
      "|category_id|customer_id|date|deviceType|on_product_id|pageType|visitor_id|\n",
      "+-----------+-----------+----+----------+-------------+--------+----------+\n",
      "|    1014834|    3371775|   0|         0|      2047370|       0|         0|\n",
      "+-----------+-----------+----+----------+-------------+--------+----------+\n",
      "\n"
     ]
    }
   ],
   "source": [
    "## Verificar Valores Nulos nas Colunas\n",
    "df.select([count(when(isnan(c) | col(c).isNull(), c)).alias(c) for c in df.columns]).show()"
   ]
  },
  {
   "cell_type": "markdown",
   "metadata": {},
   "source": [
    "**Coluna com mais valores nulos = customer_id**  \n",
    "**on_product_id provavelmente só seja diferente de nulo quando pageType = product**  \n",
    "**Todo visitante tem uma identificação** "
   ]
  },
  {
   "cell_type": "code",
   "execution_count": 156,
   "metadata": {},
   "outputs": [
    {
     "name": "stdout",
     "output_type": "stream",
     "text": [
      "+------------+-------+\n",
      "|    pageType|  count|\n",
      "+------------+-------+\n",
      "|landing_page| 275505|\n",
      "| userprofile|   2058|\n",
      "|  topqueries|    117|\n",
      "| emptysearch|  29618|\n",
      "|confirmation|   8351|\n",
      "|       other|  75302|\n",
      "|        cart|  30203|\n",
      "|   not_found|  87938|\n",
      "| subcategory| 689586|\n",
      "|      search|  94510|\n",
      "|    category| 344513|\n",
      "|        home| 381654|\n",
      "|    checkout|  17332|\n",
      "|     product|1415853|\n",
      "+------------+-------+\n",
      "\n"
     ]
    }
   ],
   "source": [
    "## Verificar Tipos de Páginas e Quais são mais acessadas\n",
    "devices = df.groupby('pageType').count()\n",
    "devices.show()"
   ]
  },
  {
   "cell_type": "markdown",
   "metadata": {},
   "source": [
    "# 2.0 - Criar DataFrames Auxiliares no Pandas"
   ]
  },
  {
   "cell_type": "markdown",
   "metadata": {},
   "source": [
    "## 2.1 - Páginas"
   ]
  },
  {
   "cell_type": "code",
   "execution_count": 157,
   "metadata": {},
   "outputs": [],
   "source": [
    "## Cria Pandas DF com as páginas\n",
    "df_dev = devices.select(\"*\").toPandas()"
   ]
  },
  {
   "cell_type": "code",
   "execution_count": 159,
   "metadata": {},
   "outputs": [
    {
     "data": {
      "text/html": [
       "<div>\n",
       "<style scoped>\n",
       "    .dataframe tbody tr th:only-of-type {\n",
       "        vertical-align: middle;\n",
       "    }\n",
       "\n",
       "    .dataframe tbody tr th {\n",
       "        vertical-align: top;\n",
       "    }\n",
       "\n",
       "    .dataframe thead th {\n",
       "        text-align: right;\n",
       "    }\n",
       "</style>\n",
       "<table border=\"1\" class=\"dataframe\">\n",
       "  <thead>\n",
       "    <tr style=\"text-align: right;\">\n",
       "      <th></th>\n",
       "      <th>pageType</th>\n",
       "      <th>count</th>\n",
       "    </tr>\n",
       "  </thead>\n",
       "  <tbody>\n",
       "    <tr>\n",
       "      <td>0</td>\n",
       "      <td>landing_page</td>\n",
       "      <td>275505</td>\n",
       "    </tr>\n",
       "    <tr>\n",
       "      <td>1</td>\n",
       "      <td>userprofile</td>\n",
       "      <td>2058</td>\n",
       "    </tr>\n",
       "    <tr>\n",
       "      <td>2</td>\n",
       "      <td>topqueries</td>\n",
       "      <td>117</td>\n",
       "    </tr>\n",
       "    <tr>\n",
       "      <td>3</td>\n",
       "      <td>emptysearch</td>\n",
       "      <td>29618</td>\n",
       "    </tr>\n",
       "    <tr>\n",
       "      <td>4</td>\n",
       "      <td>confirmation</td>\n",
       "      <td>8351</td>\n",
       "    </tr>\n",
       "    <tr>\n",
       "      <td>5</td>\n",
       "      <td>other</td>\n",
       "      <td>75302</td>\n",
       "    </tr>\n",
       "    <tr>\n",
       "      <td>6</td>\n",
       "      <td>cart</td>\n",
       "      <td>30203</td>\n",
       "    </tr>\n",
       "    <tr>\n",
       "      <td>7</td>\n",
       "      <td>not_found</td>\n",
       "      <td>87938</td>\n",
       "    </tr>\n",
       "    <tr>\n",
       "      <td>8</td>\n",
       "      <td>subcategory</td>\n",
       "      <td>689586</td>\n",
       "    </tr>\n",
       "    <tr>\n",
       "      <td>9</td>\n",
       "      <td>search</td>\n",
       "      <td>94510</td>\n",
       "    </tr>\n",
       "    <tr>\n",
       "      <td>10</td>\n",
       "      <td>category</td>\n",
       "      <td>344513</td>\n",
       "    </tr>\n",
       "    <tr>\n",
       "      <td>11</td>\n",
       "      <td>home</td>\n",
       "      <td>381654</td>\n",
       "    </tr>\n",
       "    <tr>\n",
       "      <td>12</td>\n",
       "      <td>checkout</td>\n",
       "      <td>17332</td>\n",
       "    </tr>\n",
       "    <tr>\n",
       "      <td>13</td>\n",
       "      <td>product</td>\n",
       "      <td>1415853</td>\n",
       "    </tr>\n",
       "  </tbody>\n",
       "</table>\n",
       "</div>"
      ],
      "text/plain": [
       "        pageType    count\n",
       "0   landing_page   275505\n",
       "1    userprofile     2058\n",
       "2     topqueries      117\n",
       "3    emptysearch    29618\n",
       "4   confirmation     8351\n",
       "5          other    75302\n",
       "6           cart    30203\n",
       "7      not_found    87938\n",
       "8    subcategory   689586\n",
       "9         search    94510\n",
       "10      category   344513\n",
       "11          home   381654\n",
       "12      checkout    17332\n",
       "13       product  1415853"
      ]
     },
     "execution_count": 159,
     "metadata": {},
     "output_type": "execute_result"
    }
   ],
   "source": [
    "df_dev.head(20)"
   ]
  },
  {
   "cell_type": "markdown",
   "metadata": {},
   "source": [
    "## 2.2 - Lista de Clientes Identificados que visualizaram alguma página"
   ]
  },
  {
   "cell_type": "code",
   "execution_count": 151,
   "metadata": {},
   "outputs": [
    {
     "name": "stdout",
     "output_type": "stream",
     "text": [
      "+--------------------+-----+\n",
      "|         customer_id|count|\n",
      "+--------------------+-----+\n",
      "|35613338323466366463|   63|\n",
      "|62643039356362363064|  475|\n",
      "|35363961316461323864|   38|\n",
      "|63303038613765313230|   18|\n",
      "|31663662386165343935|    7|\n",
      "+--------------------+-----+\n",
      "only showing top 5 rows\n",
      "\n"
     ]
    }
   ],
   "source": [
    "## Lista de Clientes Identificados Spark\n",
    "clients_sp = df.groupby(['customer_id']).count()\n",
    "clients_sp.show(5)"
   ]
  },
  {
   "cell_type": "code",
   "execution_count": 38,
   "metadata": {},
   "outputs": [],
   "source": [
    "## Data Frame com clientes identificados e número de vezes que acessaram alguma pagina\n",
    "df_clients = clients_sp.select(\"*\").toPandas()"
   ]
  },
  {
   "cell_type": "code",
   "execution_count": 44,
   "metadata": {},
   "outputs": [
    {
     "data": {
      "text/html": [
       "<div>\n",
       "<style scoped>\n",
       "    .dataframe tbody tr th:only-of-type {\n",
       "        vertical-align: middle;\n",
       "    }\n",
       "\n",
       "    .dataframe tbody tr th {\n",
       "        vertical-align: top;\n",
       "    }\n",
       "\n",
       "    .dataframe thead th {\n",
       "        text-align: right;\n",
       "    }\n",
       "</style>\n",
       "<table border=\"1\" class=\"dataframe\">\n",
       "  <thead>\n",
       "    <tr style=\"text-align: right;\">\n",
       "      <th></th>\n",
       "      <th>customer_id</th>\n",
       "      <th>count</th>\n",
       "    </tr>\n",
       "  </thead>\n",
       "  <tbody>\n",
       "    <tr>\n",
       "      <td>0</td>\n",
       "      <td>35613338323466366463</td>\n",
       "      <td>63</td>\n",
       "    </tr>\n",
       "    <tr>\n",
       "      <td>1</td>\n",
       "      <td>62643039356362363064</td>\n",
       "      <td>475</td>\n",
       "    </tr>\n",
       "    <tr>\n",
       "      <td>2</td>\n",
       "      <td>35363961316461323864</td>\n",
       "      <td>38</td>\n",
       "    </tr>\n",
       "    <tr>\n",
       "      <td>3</td>\n",
       "      <td>63303038613765313230</td>\n",
       "      <td>18</td>\n",
       "    </tr>\n",
       "    <tr>\n",
       "      <td>4</td>\n",
       "      <td>31663662386165343935</td>\n",
       "      <td>7</td>\n",
       "    </tr>\n",
       "  </tbody>\n",
       "</table>\n",
       "</div>"
      ],
      "text/plain": [
       "            customer_id  count\n",
       "0  35613338323466366463     63\n",
       "1  62643039356362363064    475\n",
       "2  35363961316461323864     38\n",
       "3  63303038613765313230     18\n",
       "4  31663662386165343935      7"
      ]
     },
     "execution_count": 44,
     "metadata": {},
     "output_type": "execute_result"
    }
   ],
   "source": [
    "df_clients.head()"
   ]
  },
  {
   "cell_type": "code",
   "execution_count": 75,
   "metadata": {},
   "outputs": [],
   "source": [
    "## Pega indice para dropar linha com valores None pois esse agrupamento nao diz nada pela falta de ID\n",
    "index_None = list(df_clients[df_clients['count']==df_clients['count'].max()].index)[0]"
   ]
  },
  {
   "cell_type": "code",
   "execution_count": 78,
   "metadata": {},
   "outputs": [],
   "source": [
    "## Dropa o valor None da lista, usar essa lista de clientes para verificar nas compras offline\n",
    "df_clients.drop([index_None],axis=0, inplace=True)"
   ]
  },
  {
   "cell_type": "code",
   "execution_count": 82,
   "metadata": {},
   "outputs": [
    {
     "data": {
      "text/html": [
       "<div>\n",
       "<style scoped>\n",
       "    .dataframe tbody tr th:only-of-type {\n",
       "        vertical-align: middle;\n",
       "    }\n",
       "\n",
       "    .dataframe tbody tr th {\n",
       "        vertical-align: top;\n",
       "    }\n",
       "\n",
       "    .dataframe thead th {\n",
       "        text-align: right;\n",
       "    }\n",
       "</style>\n",
       "<table border=\"1\" class=\"dataframe\">\n",
       "  <thead>\n",
       "    <tr style=\"text-align: right;\">\n",
       "      <th></th>\n",
       "      <th>customer_id</th>\n",
       "      <th>count</th>\n",
       "    </tr>\n",
       "  </thead>\n",
       "  <tbody>\n",
       "    <tr>\n",
       "      <td>4627</td>\n",
       "      <td>63623261623161633734</td>\n",
       "      <td>1122</td>\n",
       "    </tr>\n",
       "  </tbody>\n",
       "</table>\n",
       "</div>"
      ],
      "text/plain": [
       "               customer_id  count\n",
       "4627  63623261623161633734   1122"
      ]
     },
     "execution_count": 82,
     "metadata": {},
     "output_type": "execute_result"
    }
   ],
   "source": [
    "## Cliente com Maior frequencia de acessos\n",
    "ma_client = df_clients[df_clients['count']==df_clients['count'].max()]\n",
    "ma_client"
   ]
  },
  {
   "cell_type": "code",
   "execution_count": 86,
   "metadata": {},
   "outputs": [
    {
     "data": {
      "text/plain": [
       "5913"
      ]
     },
     "execution_count": 86,
     "metadata": {},
     "output_type": "execute_result"
    }
   ],
   "source": [
    "len(df_clients.customer_id)"
   ]
  },
  {
   "cell_type": "markdown",
   "metadata": {},
   "source": [
    "## 2.3 - Lista de Produtos Acessados"
   ]
  },
  {
   "cell_type": "code",
   "execution_count": 88,
   "metadata": {},
   "outputs": [],
   "source": [
    "products_sp = df.groupby(['on_product_id']).count()"
   ]
  },
  {
   "cell_type": "code",
   "execution_count": 109,
   "metadata": {},
   "outputs": [],
   "source": [
    "## Data Frame de Produtos e frequencia de visualização\n",
    "products = products_sp.select(\"*\").toPandas()"
   ]
  },
  {
   "cell_type": "code",
   "execution_count": 133,
   "metadata": {},
   "outputs": [
    {
     "data": {
      "text/html": [
       "<div>\n",
       "<style scoped>\n",
       "    .dataframe tbody tr th:only-of-type {\n",
       "        vertical-align: middle;\n",
       "    }\n",
       "\n",
       "    .dataframe tbody tr th {\n",
       "        vertical-align: top;\n",
       "    }\n",
       "\n",
       "    .dataframe thead th {\n",
       "        text-align: right;\n",
       "    }\n",
       "</style>\n",
       "<table border=\"1\" class=\"dataframe\">\n",
       "  <thead>\n",
       "    <tr style=\"text-align: right;\">\n",
       "      <th></th>\n",
       "      <th>on_product_id</th>\n",
       "      <th>count</th>\n",
       "    </tr>\n",
       "  </thead>\n",
       "  <tbody>\n",
       "    <tr>\n",
       "      <td>0</td>\n",
       "      <td>393038626266336</td>\n",
       "      <td>237</td>\n",
       "    </tr>\n",
       "    <tr>\n",
       "      <td>1</td>\n",
       "      <td>623332626333363</td>\n",
       "      <td>1059</td>\n",
       "    </tr>\n",
       "    <tr>\n",
       "      <td>2</td>\n",
       "      <td>633937373266613</td>\n",
       "      <td>1676</td>\n",
       "    </tr>\n",
       "    <tr>\n",
       "      <td>3</td>\n",
       "      <td>386463646465306</td>\n",
       "      <td>386</td>\n",
       "    </tr>\n",
       "    <tr>\n",
       "      <td>4</td>\n",
       "      <td>363166646432643</td>\n",
       "      <td>786</td>\n",
       "    </tr>\n",
       "  </tbody>\n",
       "</table>\n",
       "</div>"
      ],
      "text/plain": [
       "     on_product_id  count\n",
       "0  393038626266336    237\n",
       "1  623332626333363   1059\n",
       "2  633937373266613   1676\n",
       "3  386463646465306    386\n",
       "4  363166646432643    786"
      ]
     },
     "execution_count": 133,
     "metadata": {},
     "output_type": "execute_result"
    }
   ],
   "source": [
    "products.head()"
   ]
  },
  {
   "cell_type": "code",
   "execution_count": 110,
   "metadata": {},
   "outputs": [
    {
     "data": {
      "text/plain": [
       "3189"
      ]
     },
     "execution_count": 110,
     "metadata": {},
     "output_type": "execute_result"
    }
   ],
   "source": [
    "len(products)"
   ]
  },
  {
   "cell_type": "code",
   "execution_count": 115,
   "metadata": {},
   "outputs": [],
   "source": [
    "## Pega indice para dropar linha com valores None pois esse agrupamento nao diz nada pela falta de ID\n",
    "index_none = list(products[products['count']==products['count'].max()].index)[0]"
   ]
  },
  {
   "cell_type": "code",
   "execution_count": 116,
   "metadata": {},
   "outputs": [],
   "source": [
    "## Dropa Linha\n",
    "products.drop([index_none],axis=0, inplace=True)"
   ]
  },
  {
   "cell_type": "code",
   "execution_count": 118,
   "metadata": {},
   "outputs": [],
   "source": [
    "## Produto Mais Visualizado\n",
    "ma_product = products[products['count']==products['count'].max()]"
   ]
  },
  {
   "cell_type": "markdown",
   "metadata": {},
   "source": [
    "## 2.4 - Lista com IDs de visitantes e produto visualizado"
   ]
  },
  {
   "cell_type": "code",
   "execution_count": 7,
   "metadata": {},
   "outputs": [
    {
     "name": "stdout",
     "output_type": "stream",
     "text": [
      "+--------------------+---------------+-----+\n",
      "|          visitor_id|  on_product_id|count|\n",
      "+--------------------+---------------+-----+\n",
      "|62653931313965336...|643564616339663|    2|\n",
      "|33386664653035636...|653332626234666|    1|\n",
      "|62326233343963656...|623361636538373|    1|\n",
      "|32653965323334653...|306530623037386|    1|\n",
      "|63356437343837613...|663162653735336|    1|\n",
      "|31306636396331386...|613638653161613|    1|\n",
      "|39636533396131316...|626334343231306|    3|\n",
      "|38643735366261326...|613266396338323|    1|\n",
      "|36346630356532643...|666534626430323|    1|\n",
      "|31616562633162353...|306237393062326|    1|\n",
      "+--------------------+---------------+-----+\n",
      "only showing top 10 rows\n",
      "\n"
     ]
    }
   ],
   "source": [
    "## Pega todos visitantes e produtos \n",
    "visitors_sp = df.groupby('visitor_id','on_product_id').count()\n",
    "visitors_sp.show(10)"
   ]
  },
  {
   "cell_type": "code",
   "execution_count": 8,
   "metadata": {},
   "outputs": [],
   "source": [
    "## Cria DF no Pandas para melhor manipuação\n",
    "visitors = visitors_sp.select(\"*\").toPandas()"
   ]
  },
  {
   "cell_type": "code",
   "execution_count": 9,
   "metadata": {},
   "outputs": [
    {
     "data": {
      "text/plain": [
       "visitor_id            0\n",
       "on_product_id    522345\n",
       "count                 0\n",
       "dtype: int64"
      ]
     },
     "execution_count": 9,
     "metadata": {},
     "output_type": "execute_result"
    }
   ],
   "source": [
    "visitors.isnull().sum()\n",
    "## Valores Nulos na Coluna de IDs de produtos\n",
    "## Valores nulos na coluna de IDs de produtos indicam pessoas que não adicionaram nada ao carrinho provavelmente\n",
    "## Valores nao nulos na coluna de IDs de produtos indicam pessoas que adiionaram algo ao carrinho (5)"
   ]
  },
  {
   "cell_type": "markdown",
   "metadata": {},
   "source": [
    "### Utilizar esse dataframe para comparar com o dataframe de compras para criar uma lista de quem não comprou online"
   ]
  },
  {
   "cell_type": "code",
   "execution_count": 49,
   "metadata": {},
   "outputs": [],
   "source": [
    "## Exporta DataFrame de Saída em Colunas\n",
    "visitors.to_csv(r'./Outputs/Utils/visitors_grouped.csv')"
   ]
  },
  {
   "cell_type": "markdown",
   "metadata": {},
   "source": [
    "## 3.0 - Manipulando Dados de Clientes visualizaram mas NÃO compraram nada"
   ]
  },
  {
   "cell_type": "code",
   "execution_count": 10,
   "metadata": {},
   "outputs": [],
   "source": [
    "## DataFrame dos Clientes que acessaram porém nao compraram\n",
    "no_bought = pd.read_csv('./Outputs/Utils/no_bought.csv').drop('Unnamed: 0', axis=1)"
   ]
  },
  {
   "cell_type": "code",
   "execution_count": 20,
   "metadata": {},
   "outputs": [
    {
     "data": {
      "text/plain": [
       "858839"
      ]
     },
     "execution_count": 20,
     "metadata": {},
     "output_type": "execute_result"
    }
   ],
   "source": [
    "## Cria Lista com os IDS\n",
    "no_list = list(no_bought.visitor_id)"
   ]
  },
  {
   "cell_type": "code",
   "execution_count": 12,
   "metadata": {},
   "outputs": [],
   "source": [
    "## Cria um DF Spark contendo Visitor ID e Customer_id\n",
    "clients_sp = df.groupby(['visitor_id','customer_id']).count()"
   ]
  },
  {
   "cell_type": "code",
   "execution_count": 62,
   "metadata": {},
   "outputs": [],
   "source": [
    "## Transforma esse DF para Pandas\n",
    "src_clients = clients_sp.select('*').toPandas()"
   ]
  },
  {
   "cell_type": "code",
   "execution_count": 63,
   "metadata": {},
   "outputs": [
    {
     "data": {
      "text/plain": [
       "6099"
      ]
     },
     "execution_count": 63,
     "metadata": {},
     "output_type": "execute_result"
    }
   ],
   "source": [
    "## Verifica Tamanhos\n",
    "src_clients.drop_duplicates('visitor_id').count()[0] - len(no_bought)"
   ]
  },
  {
   "cell_type": "markdown",
   "metadata": {},
   "source": [
    "**Quantidade correta**"
   ]
  },
  {
   "cell_type": "code",
   "execution_count": 21,
   "metadata": {},
   "outputs": [],
   "source": [
    "## Filtra o DF para selecionar apenas os clientes que nao compraram nada no mes\n",
    "df_clients = src_clients[src_clients.visitor_id.isin(no_list)]"
   ]
  },
  {
   "cell_type": "code",
   "execution_count": 22,
   "metadata": {},
   "outputs": [],
   "source": [
    "## Deleta Linhas de customer_id nulo pois desejamos esse valor\n",
    "clients = df_clients.dropna()"
   ]
  },
  {
   "cell_type": "code",
   "execution_count": 23,
   "metadata": {},
   "outputs": [
    {
     "data": {
      "text/plain": [
       "4022"
      ]
     },
     "execution_count": 23,
     "metadata": {},
     "output_type": "execute_result"
    }
   ],
   "source": [
    "len(clients)"
   ]
  },
  {
   "cell_type": "markdown",
   "metadata": {},
   "source": [
    "#### (*)Restaram poucos clientes identificados"
   ]
  },
  {
   "cell_type": "code",
   "execution_count": 24,
   "metadata": {},
   "outputs": [
    {
     "data": {
      "text/html": [
       "<div>\n",
       "<style scoped>\n",
       "    .dataframe tbody tr th:only-of-type {\n",
       "        vertical-align: middle;\n",
       "    }\n",
       "\n",
       "    .dataframe tbody tr th {\n",
       "        vertical-align: top;\n",
       "    }\n",
       "\n",
       "    .dataframe thead th {\n",
       "        text-align: right;\n",
       "    }\n",
       "</style>\n",
       "<table border=\"1\" class=\"dataframe\">\n",
       "  <thead>\n",
       "    <tr style=\"text-align: right;\">\n",
       "      <th></th>\n",
       "      <th>customer_id</th>\n",
       "    </tr>\n",
       "  </thead>\n",
       "  <tbody>\n",
       "    <tr>\n",
       "      <td>0</td>\n",
       "      <td>34353463636236633338</td>\n",
       "    </tr>\n",
       "    <tr>\n",
       "      <td>1</td>\n",
       "      <td>30623261643565303438</td>\n",
       "    </tr>\n",
       "    <tr>\n",
       "      <td>2</td>\n",
       "      <td>61643135303266633337</td>\n",
       "    </tr>\n",
       "    <tr>\n",
       "      <td>3</td>\n",
       "      <td>37626238653639363136</td>\n",
       "    </tr>\n",
       "    <tr>\n",
       "      <td>4</td>\n",
       "      <td>32376562393133303065</td>\n",
       "    </tr>\n",
       "  </tbody>\n",
       "</table>\n",
       "</div>"
      ],
      "text/plain": [
       "            customer_id\n",
       "0  34353463636236633338\n",
       "1  30623261643565303438\n",
       "2  61643135303266633337\n",
       "3  37626238653639363136\n",
       "4  32376562393133303065"
      ]
     },
     "execution_count": 24,
     "metadata": {},
     "output_type": "execute_result"
    }
   ],
   "source": [
    "## Gera DataFrame com todos ID's de clientes que NÃO compraram porém acessaram loja virtual\n",
    "df_customers = pd.DataFrame(clients.customer_id.unique(), columns=['customer_id'])\n",
    "df_customers.head()"
   ]
  },
  {
   "cell_type": "markdown",
   "metadata": {},
   "source": [
    "## 3.1 - Exportando Dados de Clientes que NAO compraram"
   ]
  },
  {
   "cell_type": "code",
   "execution_count": 25,
   "metadata": {},
   "outputs": [],
   "source": [
    "df_customers.to_csv(r'./Outputs/Utils/customers_no.csv')"
   ]
  },
  {
   "cell_type": "markdown",
   "metadata": {},
   "source": [
    "# 4.0 - Manipulando dados de clientes carrinho abandonado com produto\n",
    "\n",
    "**Hipótese: Uma pessoa abandonou um carrinho se no conjunto de dados PageView para um id existe um id de produto diferente de nulo e esse id não realizou compra online**"
   ]
  },
  {
   "cell_type": "code",
   "execution_count": 13,
   "metadata": {},
   "outputs": [],
   "source": [
    "## Exclui visitantes com nenhum produto selecionado\n",
    "visitors_wcart = visitors.dropna(subset=['on_product_id'])"
   ]
  },
  {
   "cell_type": "code",
   "execution_count": 14,
   "metadata": {},
   "outputs": [],
   "source": [
    "## Seleciona os visitantes que haviam selecionado algo e nao compraram nenhum produto online\n",
    "no_cart = visitors_wcart[visitors_wcart['visitor_id'].isin(no_list)]"
   ]
  },
  {
   "cell_type": "code",
   "execution_count": 15,
   "metadata": {},
   "outputs": [
    {
     "data": {
      "text/plain": [
       "462521"
      ]
     },
     "execution_count": 15,
     "metadata": {},
     "output_type": "execute_result"
    }
   ],
   "source": [
    "## Lista de IDs de visitantes que abandonaram carrinho com algum produto\n",
    "no_cart_list = no_cart.visitor_id.unique()\n",
    "## Quantidade de visitantes que abandonou o carrinho com algum produto\n",
    "len(no_cart_list)"
   ]
  },
  {
   "cell_type": "code",
   "execution_count": 16,
   "metadata": {},
   "outputs": [],
   "source": [
    "## Verificar quantas dessas pessoas tem nome registrado\n",
    "names_ids_sp = df.groupby(['visitor_id','customer_id']).count()"
   ]
  },
  {
   "cell_type": "code",
   "execution_count": 17,
   "metadata": {},
   "outputs": [],
   "source": [
    "names_ids = names_ids_sp.select(\"*\").toPandas()"
   ]
  },
  {
   "cell_type": "code",
   "execution_count": 18,
   "metadata": {},
   "outputs": [
    {
     "data": {
      "text/html": [
       "<div>\n",
       "<style scoped>\n",
       "    .dataframe tbody tr th:only-of-type {\n",
       "        vertical-align: middle;\n",
       "    }\n",
       "\n",
       "    .dataframe tbody tr th {\n",
       "        vertical-align: top;\n",
       "    }\n",
       "\n",
       "    .dataframe thead th {\n",
       "        text-align: right;\n",
       "    }\n",
       "</style>\n",
       "<table border=\"1\" class=\"dataframe\">\n",
       "  <thead>\n",
       "    <tr style=\"text-align: right;\">\n",
       "      <th></th>\n",
       "      <th>visitor_id</th>\n",
       "      <th>customer_id</th>\n",
       "      <th>count</th>\n",
       "    </tr>\n",
       "  </thead>\n",
       "  <tbody>\n",
       "    <tr>\n",
       "      <td>0</td>\n",
       "      <td>3533303562396339616232376</td>\n",
       "      <td>34353463636236633338</td>\n",
       "      <td>8</td>\n",
       "    </tr>\n",
       "    <tr>\n",
       "      <td>1</td>\n",
       "      <td>3634366466633564336437393</td>\n",
       "      <td>36316364366664386365</td>\n",
       "      <td>46</td>\n",
       "    </tr>\n",
       "  </tbody>\n",
       "</table>\n",
       "</div>"
      ],
      "text/plain": [
       "                  visitor_id           customer_id  count\n",
       "0  3533303562396339616232376  34353463636236633338      8\n",
       "1  3634366466633564336437393  36316364366664386365     46"
      ]
     },
     "execution_count": 18,
     "metadata": {},
     "output_type": "execute_result"
    }
   ],
   "source": [
    "names_ids.head(2)"
   ]
  },
  {
   "cell_type": "code",
   "execution_count": 19,
   "metadata": {},
   "outputs": [
    {
     "data": {
      "text/plain": [
       "visitor_id          0\n",
       "customer_id    864907\n",
       "count               0\n",
       "dtype: int64"
      ]
     },
     "execution_count": 19,
     "metadata": {},
     "output_type": "execute_result"
    }
   ],
   "source": [
    "## Verifica Valores Nulos\n",
    "names_ids.isnull().sum()"
   ]
  },
  {
   "cell_type": "markdown",
   "metadata": {},
   "source": [
    "**Muitos valores nulos**"
   ]
  },
  {
   "cell_type": "code",
   "execution_count": 98,
   "metadata": {},
   "outputs": [
    {
     "data": {
      "text/html": [
       "<div>\n",
       "<style scoped>\n",
       "    .dataframe tbody tr th:only-of-type {\n",
       "        vertical-align: middle;\n",
       "    }\n",
       "\n",
       "    .dataframe tbody tr th {\n",
       "        vertical-align: top;\n",
       "    }\n",
       "\n",
       "    .dataframe thead th {\n",
       "        text-align: right;\n",
       "    }\n",
       "</style>\n",
       "<table border=\"1\" class=\"dataframe\">\n",
       "  <thead>\n",
       "    <tr style=\"text-align: right;\">\n",
       "      <th></th>\n",
       "      <th>visitor_id</th>\n",
       "      <th>customer_id</th>\n",
       "      <th>count</th>\n",
       "    </tr>\n",
       "  </thead>\n",
       "  <tbody>\n",
       "    <tr>\n",
       "      <td>6</td>\n",
       "      <td>6330626136633733663238373</td>\n",
       "      <td>30623261643565303438</td>\n",
       "      <td>7</td>\n",
       "    </tr>\n",
       "    <tr>\n",
       "      <td>7</td>\n",
       "      <td>6330626566663535333366376</td>\n",
       "      <td>61643135303266633337</td>\n",
       "      <td>15</td>\n",
       "    </tr>\n",
       "    <tr>\n",
       "      <td>10</td>\n",
       "      <td>6337376534383232353130333</td>\n",
       "      <td>37626238653639363136</td>\n",
       "      <td>16</td>\n",
       "    </tr>\n",
       "    <tr>\n",
       "      <td>12</td>\n",
       "      <td>3161623537356630616162373</td>\n",
       "      <td>32376562393133303065</td>\n",
       "      <td>5</td>\n",
       "    </tr>\n",
       "    <tr>\n",
       "      <td>14</td>\n",
       "      <td>6665346363363531363966303</td>\n",
       "      <td>65663662366337353037</td>\n",
       "      <td>3</td>\n",
       "    </tr>\n",
       "  </tbody>\n",
       "</table>\n",
       "</div>"
      ],
      "text/plain": [
       "                   visitor_id           customer_id  count\n",
       "6   6330626136633733663238373  30623261643565303438      7\n",
       "7   6330626566663535333366376  61643135303266633337     15\n",
       "10  6337376534383232353130333  37626238653639363136     16\n",
       "12  3161623537356630616162373  32376562393133303065      5\n",
       "14  6665346363363531363966303  65663662366337353037      3"
      ]
     },
     "execution_count": 98,
     "metadata": {},
     "output_type": "execute_result"
    }
   ],
   "source": [
    "## Filtra visitantes/clientes que estão na lista de quem abandonou carrinho com produto\n",
    "names_ids[names_ids.visitor_id.isin(no_cart_list)].head()"
   ]
  },
  {
   "cell_type": "code",
   "execution_count": 116,
   "metadata": {},
   "outputs": [
    {
     "data": {
      "text/plain": [
       "2566"
      ]
     },
     "execution_count": 116,
     "metadata": {},
     "output_type": "execute_result"
    }
   ],
   "source": [
    "## Seleciona os clientes com registro (customer_id) que abandonaram o site com produto\n",
    "clients_cart = names_ids[names_ids.visitor_id.isin(no_cart_list)].groupby('customer_id').sum().reset_index()\n",
    "## Numero de clientes identificados que abandonaram o site com produto e nao realizaram a compra online\n",
    "len(clients_cart)"
   ]
  },
  {
   "cell_type": "markdown",
   "metadata": {},
   "source": [
    "**1. Um dos motivos do abandono de carrinho pode ser devido à uma UX ruim na página de cadastro/Login já que pouquissimos dos usuários que selecionaram algum produto tem registro**  \n",
    "**2. Se for possível calcular o valor/tempo do frete antes do registro, o alto valor do frete pode gerar essa baixa no numero de registros e também de compras**  \n",
    "**3. Conta de usuário desconectando (lidar com cache)**\n"
   ]
  },
  {
   "cell_type": "code",
   "execution_count": null,
   "metadata": {},
   "outputs": [],
   "source": []
  }
 ],
 "metadata": {
  "kernelspec": {
   "display_name": "Python 3",
   "language": "python",
   "name": "python3"
  },
  "language_info": {
   "codemirror_mode": {
    "name": "ipython",
    "version": 3
   },
   "file_extension": ".py",
   "mimetype": "text/x-python",
   "name": "python",
   "nbconvert_exporter": "python",
   "pygments_lexer": "ipython3",
   "version": "3.7.4"
  }
 },
 "nbformat": 4,
 "nbformat_minor": 2
}
