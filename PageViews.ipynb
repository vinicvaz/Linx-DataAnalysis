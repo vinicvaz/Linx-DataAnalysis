{
 "cells": [
  {
   "cell_type": "code",
   "execution_count": 1,
   "metadata": {},
   "outputs": [],
   "source": [
    "import findspark\n",
    "findspark.init()"
   ]
  },
  {
   "cell_type": "code",
   "execution_count": 153,
   "metadata": {},
   "outputs": [],
   "source": [
    "import pandas as pd\n",
    "import numpy as np\n",
    "from pyspark.sql.functions import isnan, when, count, col, length, size"
   ]
  },
  {
   "cell_type": "code",
   "execution_count": 3,
   "metadata": {},
   "outputs": [],
   "source": [
    "from pyspark.sql import SparkSession\n",
    "\n",
    "spark = SparkSession \\\n",
    "    .builder \\\n",
    "    .appName(\"Page View\") \\\n",
    "    .getOrCreate()"
   ]
  },
  {
   "cell_type": "code",
   "execution_count": 13,
   "metadata": {},
   "outputs": [],
   "source": [
    "spark.conf.set(\"spark.sql.execution.arrow.enabled\", \"true\")"
   ]
  },
  {
   "cell_type": "code",
   "execution_count": 29,
   "metadata": {},
   "outputs": [],
   "source": [
    "file = './Data/Mid_Data/online_pageviews.json'"
   ]
  },
  {
   "cell_type": "code",
   "execution_count": 5,
   "metadata": {},
   "outputs": [],
   "source": [
    "## Cria Spark DF\n",
    "df = spark.read.json(file)"
   ]
  },
  {
   "cell_type": "markdown",
   "metadata": {},
   "source": [
    "# 1.0 - Análise Exploratória de Dados"
   ]
  },
  {
   "cell_type": "code",
   "execution_count": 7,
   "metadata": {},
   "outputs": [
    {
     "name": "stdout",
     "output_type": "stream",
     "text": [
      "+-----------+-----------+----------+----------+---------------+------------+--------------------+\n",
      "|category_id|customer_id|      date|deviceType|  on_product_id|    pageType|          visitor_id|\n",
      "+-----------+-----------+----------+----------+---------------+------------+--------------------+\n",
      "|       null|       null|2018-08-01|   desktop|           null|        home|61623262303037613...|\n",
      "|       null|       null|2018-08-01|   desktop|           null|landing_page|35383630323633313...|\n",
      "| 6161393336|       null|2018-08-01|    mobile|           null| subcategory|31303766393633366...|\n",
      "| 6664353638|       null|2018-08-01|    mobile|           null| subcategory|31303766393633366...|\n",
      "|       null|       null|2018-08-01|   desktop|           null|landing_page|32353739633733323...|\n",
      "| 6465643262|       null|2018-08-01|   desktop|373662303135636|     product|39356362316264336...|\n",
      "| 3832383865|       null|2018-08-01|    mobile|           null| subcategory|63383335343461373...|\n",
      "|       null|       null|2018-08-01|    mobile|           null|landing_page|31313038363261616...|\n",
      "| 3361653936|       null|2018-08-01|   desktop|           null| subcategory|61353939636130386...|\n",
      "| 3834323666|       null|2018-08-01|    mobile|616264656437353|     product|31376330316664366...|\n",
      "+-----------+-----------+----------+----------+---------------+------------+--------------------+\n",
      "only showing top 10 rows\n",
      "\n"
     ]
    }
   ],
   "source": [
    "df.show(10)"
   ]
  },
  {
   "cell_type": "code",
   "execution_count": 26,
   "metadata": {},
   "outputs": [
    {
     "name": "stdout",
     "output_type": "stream",
     "text": [
      "root\n",
      " |-- category_id: string (nullable = true)\n",
      " |-- customer_id: string (nullable = true)\n",
      " |-- date: string (nullable = true)\n",
      " |-- deviceType: string (nullable = true)\n",
      " |-- on_product_id: string (nullable = true)\n",
      " |-- pageType: string (nullable = true)\n",
      " |-- visitor_id: string (nullable = true)\n",
      "\n"
     ]
    }
   ],
   "source": [
    "## Verificar Colunas\n",
    "df.printSchema()"
   ]
  },
  {
   "cell_type": "code",
   "execution_count": 8,
   "metadata": {},
   "outputs": [
    {
     "name": "stdout",
     "output_type": "stream",
     "text": [
      "+----------+-------+\n",
      "|deviceType|  count|\n",
      "+----------+-------+\n",
      "|   desktop|1353749|\n",
      "|    mobile|2098791|\n",
      "+----------+-------+\n",
      "\n"
     ]
    }
   ],
   "source": [
    "## Verificar Qual dispositivo é mais utilizado para acessos\n",
    "df.groupby('deviceType').count().show()"
   ]
  },
  {
   "cell_type": "markdown",
   "metadata": {},
   "source": [
    "**Condiz com o visto no DataSet de compras**"
   ]
  },
  {
   "cell_type": "code",
   "execution_count": 19,
   "metadata": {},
   "outputs": [
    {
     "name": "stdout",
     "output_type": "stream",
     "text": [
      "+-----------+-----------+----+----------+-------------+--------+----------+\n",
      "|category_id|customer_id|date|deviceType|on_product_id|pageType|visitor_id|\n",
      "+-----------+-----------+----+----------+-------------+--------+----------+\n",
      "|    1014834|    3371775|   0|         0|      2047370|       0|         0|\n",
      "+-----------+-----------+----+----------+-------------+--------+----------+\n",
      "\n"
     ]
    }
   ],
   "source": [
    "## Verificar Valores Nulos nas Colunas\n",
    "df.select([count(when(isnan(c) | col(c).isNull(), c)).alias(c) for c in df.columns]).show()"
   ]
  },
  {
   "cell_type": "markdown",
   "metadata": {},
   "source": [
    "**Coluna com mais valores nulos = customer_id**  \n",
    "**on_product_id provavelmente só seja diferente de nulo quando pageType = product**  \n",
    "**Todo visitante tem uma identificação** "
   ]
  },
  {
   "cell_type": "code",
   "execution_count": 156,
   "metadata": {},
   "outputs": [
    {
     "name": "stdout",
     "output_type": "stream",
     "text": [
      "+------------+-------+\n",
      "|    pageType|  count|\n",
      "+------------+-------+\n",
      "|landing_page| 275505|\n",
      "| userprofile|   2058|\n",
      "|  topqueries|    117|\n",
      "| emptysearch|  29618|\n",
      "|confirmation|   8351|\n",
      "|       other|  75302|\n",
      "|        cart|  30203|\n",
      "|   not_found|  87938|\n",
      "| subcategory| 689586|\n",
      "|      search|  94510|\n",
      "|    category| 344513|\n",
      "|        home| 381654|\n",
      "|    checkout|  17332|\n",
      "|     product|1415853|\n",
      "+------------+-------+\n",
      "\n"
     ]
    }
   ],
   "source": [
    "## Verificar Tipos de Páginas e Quais são mais acessadas\n",
    "devices = df.groupby('pageType').count()\n",
    "devices.show()"
   ]
  },
  {
   "cell_type": "markdown",
   "metadata": {},
   "source": [
    "# 2.0 - Criar DataFrames Auxiliares no Pandas"
   ]
  },
  {
   "cell_type": "markdown",
   "metadata": {},
   "source": [
    "## 2.1 - Páginas"
   ]
  },
  {
   "cell_type": "code",
   "execution_count": 157,
   "metadata": {},
   "outputs": [],
   "source": [
    "## Cria Pandas DF com as páginas\n",
    "df_dev = devices.select(\"*\").toPandas()"
   ]
  },
  {
   "cell_type": "code",
   "execution_count": 159,
   "metadata": {},
   "outputs": [
    {
     "data": {
      "text/html": [
       "<div>\n",
       "<style scoped>\n",
       "    .dataframe tbody tr th:only-of-type {\n",
       "        vertical-align: middle;\n",
       "    }\n",
       "\n",
       "    .dataframe tbody tr th {\n",
       "        vertical-align: top;\n",
       "    }\n",
       "\n",
       "    .dataframe thead th {\n",
       "        text-align: right;\n",
       "    }\n",
       "</style>\n",
       "<table border=\"1\" class=\"dataframe\">\n",
       "  <thead>\n",
       "    <tr style=\"text-align: right;\">\n",
       "      <th></th>\n",
       "      <th>pageType</th>\n",
       "      <th>count</th>\n",
       "    </tr>\n",
       "  </thead>\n",
       "  <tbody>\n",
       "    <tr>\n",
       "      <td>0</td>\n",
       "      <td>landing_page</td>\n",
       "      <td>275505</td>\n",
       "    </tr>\n",
       "    <tr>\n",
       "      <td>1</td>\n",
       "      <td>userprofile</td>\n",
       "      <td>2058</td>\n",
       "    </tr>\n",
       "    <tr>\n",
       "      <td>2</td>\n",
       "      <td>topqueries</td>\n",
       "      <td>117</td>\n",
       "    </tr>\n",
       "    <tr>\n",
       "      <td>3</td>\n",
       "      <td>emptysearch</td>\n",
       "      <td>29618</td>\n",
       "    </tr>\n",
       "    <tr>\n",
       "      <td>4</td>\n",
       "      <td>confirmation</td>\n",
       "      <td>8351</td>\n",
       "    </tr>\n",
       "    <tr>\n",
       "      <td>5</td>\n",
       "      <td>other</td>\n",
       "      <td>75302</td>\n",
       "    </tr>\n",
       "    <tr>\n",
       "      <td>6</td>\n",
       "      <td>cart</td>\n",
       "      <td>30203</td>\n",
       "    </tr>\n",
       "    <tr>\n",
       "      <td>7</td>\n",
       "      <td>not_found</td>\n",
       "      <td>87938</td>\n",
       "    </tr>\n",
       "    <tr>\n",
       "      <td>8</td>\n",
       "      <td>subcategory</td>\n",
       "      <td>689586</td>\n",
       "    </tr>\n",
       "    <tr>\n",
       "      <td>9</td>\n",
       "      <td>search</td>\n",
       "      <td>94510</td>\n",
       "    </tr>\n",
       "    <tr>\n",
       "      <td>10</td>\n",
       "      <td>category</td>\n",
       "      <td>344513</td>\n",
       "    </tr>\n",
       "    <tr>\n",
       "      <td>11</td>\n",
       "      <td>home</td>\n",
       "      <td>381654</td>\n",
       "    </tr>\n",
       "    <tr>\n",
       "      <td>12</td>\n",
       "      <td>checkout</td>\n",
       "      <td>17332</td>\n",
       "    </tr>\n",
       "    <tr>\n",
       "      <td>13</td>\n",
       "      <td>product</td>\n",
       "      <td>1415853</td>\n",
       "    </tr>\n",
       "  </tbody>\n",
       "</table>\n",
       "</div>"
      ],
      "text/plain": [
       "        pageType    count\n",
       "0   landing_page   275505\n",
       "1    userprofile     2058\n",
       "2     topqueries      117\n",
       "3    emptysearch    29618\n",
       "4   confirmation     8351\n",
       "5          other    75302\n",
       "6           cart    30203\n",
       "7      not_found    87938\n",
       "8    subcategory   689586\n",
       "9         search    94510\n",
       "10      category   344513\n",
       "11          home   381654\n",
       "12      checkout    17332\n",
       "13       product  1415853"
      ]
     },
     "execution_count": 159,
     "metadata": {},
     "output_type": "execute_result"
    }
   ],
   "source": [
    "df_dev.head(20)"
   ]
  },
  {
   "cell_type": "markdown",
   "metadata": {},
   "source": [
    "## 2.2 - Lista de Clientes Identificados que vizualizaram alguma página"
   ]
  },
  {
   "cell_type": "code",
   "execution_count": 151,
   "metadata": {},
   "outputs": [
    {
     "name": "stdout",
     "output_type": "stream",
     "text": [
      "+--------------------+-----+\n",
      "|         customer_id|count|\n",
      "+--------------------+-----+\n",
      "|35613338323466366463|   63|\n",
      "|62643039356362363064|  475|\n",
      "|35363961316461323864|   38|\n",
      "|63303038613765313230|   18|\n",
      "|31663662386165343935|    7|\n",
      "+--------------------+-----+\n",
      "only showing top 5 rows\n",
      "\n"
     ]
    }
   ],
   "source": [
    "## Lista de Clientes Identificados Spark\n",
    "clients_sp = df.groupby(['customer_id']).count()\n",
    "clients_sp.show(5)"
   ]
  },
  {
   "cell_type": "code",
   "execution_count": 38,
   "metadata": {},
   "outputs": [],
   "source": [
    "## Data Frame com clientes identificados e número de vezes que acessaram alguma pagina\n",
    "df_clients = clients_sp.select(\"*\").toPandas()"
   ]
  },
  {
   "cell_type": "code",
   "execution_count": 44,
   "metadata": {},
   "outputs": [
    {
     "data": {
      "text/html": [
       "<div>\n",
       "<style scoped>\n",
       "    .dataframe tbody tr th:only-of-type {\n",
       "        vertical-align: middle;\n",
       "    }\n",
       "\n",
       "    .dataframe tbody tr th {\n",
       "        vertical-align: top;\n",
       "    }\n",
       "\n",
       "    .dataframe thead th {\n",
       "        text-align: right;\n",
       "    }\n",
       "</style>\n",
       "<table border=\"1\" class=\"dataframe\">\n",
       "  <thead>\n",
       "    <tr style=\"text-align: right;\">\n",
       "      <th></th>\n",
       "      <th>customer_id</th>\n",
       "      <th>count</th>\n",
       "    </tr>\n",
       "  </thead>\n",
       "  <tbody>\n",
       "    <tr>\n",
       "      <td>0</td>\n",
       "      <td>35613338323466366463</td>\n",
       "      <td>63</td>\n",
       "    </tr>\n",
       "    <tr>\n",
       "      <td>1</td>\n",
       "      <td>62643039356362363064</td>\n",
       "      <td>475</td>\n",
       "    </tr>\n",
       "    <tr>\n",
       "      <td>2</td>\n",
       "      <td>35363961316461323864</td>\n",
       "      <td>38</td>\n",
       "    </tr>\n",
       "    <tr>\n",
       "      <td>3</td>\n",
       "      <td>63303038613765313230</td>\n",
       "      <td>18</td>\n",
       "    </tr>\n",
       "    <tr>\n",
       "      <td>4</td>\n",
       "      <td>31663662386165343935</td>\n",
       "      <td>7</td>\n",
       "    </tr>\n",
       "  </tbody>\n",
       "</table>\n",
       "</div>"
      ],
      "text/plain": [
       "            customer_id  count\n",
       "0  35613338323466366463     63\n",
       "1  62643039356362363064    475\n",
       "2  35363961316461323864     38\n",
       "3  63303038613765313230     18\n",
       "4  31663662386165343935      7"
      ]
     },
     "execution_count": 44,
     "metadata": {},
     "output_type": "execute_result"
    }
   ],
   "source": [
    "df_clients.head()"
   ]
  },
  {
   "cell_type": "code",
   "execution_count": 75,
   "metadata": {},
   "outputs": [],
   "source": [
    "## Pega indice para dropar linha com valores None pois esse agrupamento nao diz nada pela falta de ID\n",
    "index_None = list(df_clients[df_clients['count']==df_clients['count'].max()].index)[0]"
   ]
  },
  {
   "cell_type": "code",
   "execution_count": 78,
   "metadata": {},
   "outputs": [],
   "source": [
    "## Dropa o valor None da lista, usar essa lista de clientes para verificar nas compras offline\n",
    "df_clients.drop([index_None],axis=0, inplace=True)"
   ]
  },
  {
   "cell_type": "code",
   "execution_count": 82,
   "metadata": {},
   "outputs": [
    {
     "data": {
      "text/html": [
       "<div>\n",
       "<style scoped>\n",
       "    .dataframe tbody tr th:only-of-type {\n",
       "        vertical-align: middle;\n",
       "    }\n",
       "\n",
       "    .dataframe tbody tr th {\n",
       "        vertical-align: top;\n",
       "    }\n",
       "\n",
       "    .dataframe thead th {\n",
       "        text-align: right;\n",
       "    }\n",
       "</style>\n",
       "<table border=\"1\" class=\"dataframe\">\n",
       "  <thead>\n",
       "    <tr style=\"text-align: right;\">\n",
       "      <th></th>\n",
       "      <th>customer_id</th>\n",
       "      <th>count</th>\n",
       "    </tr>\n",
       "  </thead>\n",
       "  <tbody>\n",
       "    <tr>\n",
       "      <td>4627</td>\n",
       "      <td>63623261623161633734</td>\n",
       "      <td>1122</td>\n",
       "    </tr>\n",
       "  </tbody>\n",
       "</table>\n",
       "</div>"
      ],
      "text/plain": [
       "               customer_id  count\n",
       "4627  63623261623161633734   1122"
      ]
     },
     "execution_count": 82,
     "metadata": {},
     "output_type": "execute_result"
    }
   ],
   "source": [
    "## Cliente com Maior frequencia de acessos\n",
    "ma_client = df_clients[df_clients['count']==df_clients['count'].max()]\n",
    "ma_client"
   ]
  },
  {
   "cell_type": "code",
   "execution_count": 86,
   "metadata": {},
   "outputs": [
    {
     "data": {
      "text/plain": [
       "5913"
      ]
     },
     "execution_count": 86,
     "metadata": {},
     "output_type": "execute_result"
    }
   ],
   "source": [
    "len(df_clients.customer_id)"
   ]
  },
  {
   "cell_type": "markdown",
   "metadata": {},
   "source": [
    "## 2.3 - Lista de Produtos Acessados"
   ]
  },
  {
   "cell_type": "code",
   "execution_count": 88,
   "metadata": {},
   "outputs": [],
   "source": [
    "products_sp = df.groupby(['on_product_id']).count()"
   ]
  },
  {
   "cell_type": "code",
   "execution_count": 109,
   "metadata": {},
   "outputs": [],
   "source": [
    "## Data Frame de Produtos e frequencia de visualização\n",
    "products = products_sp.select(\"*\").toPandas()"
   ]
  },
  {
   "cell_type": "code",
   "execution_count": 133,
   "metadata": {},
   "outputs": [
    {
     "data": {
      "text/html": [
       "<div>\n",
       "<style scoped>\n",
       "    .dataframe tbody tr th:only-of-type {\n",
       "        vertical-align: middle;\n",
       "    }\n",
       "\n",
       "    .dataframe tbody tr th {\n",
       "        vertical-align: top;\n",
       "    }\n",
       "\n",
       "    .dataframe thead th {\n",
       "        text-align: right;\n",
       "    }\n",
       "</style>\n",
       "<table border=\"1\" class=\"dataframe\">\n",
       "  <thead>\n",
       "    <tr style=\"text-align: right;\">\n",
       "      <th></th>\n",
       "      <th>on_product_id</th>\n",
       "      <th>count</th>\n",
       "    </tr>\n",
       "  </thead>\n",
       "  <tbody>\n",
       "    <tr>\n",
       "      <td>0</td>\n",
       "      <td>393038626266336</td>\n",
       "      <td>237</td>\n",
       "    </tr>\n",
       "    <tr>\n",
       "      <td>1</td>\n",
       "      <td>623332626333363</td>\n",
       "      <td>1059</td>\n",
       "    </tr>\n",
       "    <tr>\n",
       "      <td>2</td>\n",
       "      <td>633937373266613</td>\n",
       "      <td>1676</td>\n",
       "    </tr>\n",
       "    <tr>\n",
       "      <td>3</td>\n",
       "      <td>386463646465306</td>\n",
       "      <td>386</td>\n",
       "    </tr>\n",
       "    <tr>\n",
       "      <td>4</td>\n",
       "      <td>363166646432643</td>\n",
       "      <td>786</td>\n",
       "    </tr>\n",
       "  </tbody>\n",
       "</table>\n",
       "</div>"
      ],
      "text/plain": [
       "     on_product_id  count\n",
       "0  393038626266336    237\n",
       "1  623332626333363   1059\n",
       "2  633937373266613   1676\n",
       "3  386463646465306    386\n",
       "4  363166646432643    786"
      ]
     },
     "execution_count": 133,
     "metadata": {},
     "output_type": "execute_result"
    }
   ],
   "source": [
    "products.head()"
   ]
  },
  {
   "cell_type": "code",
   "execution_count": 110,
   "metadata": {},
   "outputs": [
    {
     "data": {
      "text/plain": [
       "3189"
      ]
     },
     "execution_count": 110,
     "metadata": {},
     "output_type": "execute_result"
    }
   ],
   "source": [
    "len(products)"
   ]
  },
  {
   "cell_type": "code",
   "execution_count": 115,
   "metadata": {},
   "outputs": [],
   "source": [
    "## Pega indice para dropar linha com valores None pois esse agrupamento nao diz nada pela falta de ID\n",
    "index_none = list(products[products['count']==products['count'].max()].index)[0]"
   ]
  },
  {
   "cell_type": "code",
   "execution_count": 116,
   "metadata": {},
   "outputs": [],
   "source": [
    "## Dropa Linha\n",
    "products.drop([index_none],axis=0, inplace=True)"
   ]
  },
  {
   "cell_type": "code",
   "execution_count": 118,
   "metadata": {},
   "outputs": [],
   "source": [
    "## Produto Mais Visualizado\n",
    "ma_product = products[products['count']==products['count'].max()]"
   ]
  },
  {
   "cell_type": "markdown",
   "metadata": {},
   "source": [
    "## 2.4 - Lista com IDs de visitantes e produto visualizado"
   ]
  },
  {
   "cell_type": "code",
   "execution_count": 166,
   "metadata": {},
   "outputs": [
    {
     "name": "stdout",
     "output_type": "stream",
     "text": [
      "+-----------+-----------+----------+----------+---------------+--------+--------------------+\n",
      "|category_id|customer_id|      date|deviceType|  on_product_id|pageType|          visitor_id|\n",
      "+-----------+-----------+----------+----------+---------------+--------+--------------------+\n",
      "| 6465643262|       null|2018-08-01|   desktop|373662303135636| product|39356362316264336...|\n",
      "| 3834323666|       null|2018-08-01|    mobile|616264656437353| product|31376330316664366...|\n",
      "| 3363396661|       null|2018-08-01|   desktop|373830663266653| product|64353563636165383...|\n",
      "| 3166373239|       null|2018-08-01|   desktop|356566356434626| product|61636236386561663...|\n",
      "| 3436343737|       null|2018-08-01|    mobile|626334343231306| product|32396331656334646...|\n",
      "| 3232653962|       null|2018-08-01|    mobile|376235663566663| product|32323133633730333...|\n",
      "| 3762363534|       null|2018-08-01|   desktop|373330303834353| product|30636434643732396...|\n",
      "| 3331663330|       null|2018-08-01|   desktop|346464363339346| product|64353338383232366...|\n",
      "| 3666363631|       null|2018-08-01|   desktop|393334653239316| product|61636562393034623...|\n",
      "|       null|       null|2018-08-01|    mobile|           null| product|39376636333763643...|\n",
      "+-----------+-----------+----------+----------+---------------+--------+--------------------+\n",
      "only showing top 10 rows\n",
      "\n"
     ]
    }
   ],
   "source": [
    "## Filtra DataFrame para mostrar apenas acesso à página do tipo PRODUTO\n",
    "df_filtered = df.filter(df['pageType']=='product')\n",
    "df_filtered.show(10)"
   ]
  },
  {
   "cell_type": "code",
   "execution_count": 173,
   "metadata": {},
   "outputs": [
    {
     "name": "stdout",
     "output_type": "stream",
     "text": [
      "+--------------------+---------------+-----+\n",
      "|          visitor_id|  on_product_id|count|\n",
      "+--------------------+---------------+-----+\n",
      "|62653931313965336...|643564616339663|    2|\n",
      "|33386664653035636...|653332626234666|    1|\n",
      "|62326233343963656...|623361636538373|    1|\n",
      "|32653965323334653...|306530623037386|    1|\n",
      "|63356437343837613...|663162653735336|    1|\n",
      "|31306636396331386...|613638653161613|    1|\n",
      "|39636533396131316...|626334343231306|    3|\n",
      "|38643735366261326...|613266396338323|    1|\n",
      "|36346630356532643...|666534626430323|    1|\n",
      "|31616562633162353...|306237393062326|    1|\n",
      "+--------------------+---------------+-----+\n",
      "only showing top 10 rows\n",
      "\n"
     ]
    }
   ],
   "source": [
    "## Agrupa por id e produto \n",
    "visitors_sp = df_filtered.groupby('visitor_id','on_product_id').count()\n",
    "visitors_sp.show(10)"
   ]
  },
  {
   "cell_type": "code",
   "execution_count": 174,
   "metadata": {},
   "outputs": [],
   "source": [
    "## Cria DF no Pandas para melhor manipuação\n",
    "visitors = visitors_sp.select(\"*\").toPandas()"
   ]
  },
  {
   "cell_type": "code",
   "execution_count": 181,
   "metadata": {},
   "outputs": [],
   "source": [
    "## Dropa Linhas com valores nulos de on_product_id (sem filtro pois visitor_id nao tem valor nulo)\n",
    "visitors.dropna(inplace=True)"
   ]
  },
  {
   "cell_type": "code",
   "execution_count": 197,
   "metadata": {},
   "outputs": [
    {
     "data": {
      "text/html": [
       "<div>\n",
       "<style scoped>\n",
       "    .dataframe tbody tr th:only-of-type {\n",
       "        vertical-align: middle;\n",
       "    }\n",
       "\n",
       "    .dataframe tbody tr th {\n",
       "        vertical-align: top;\n",
       "    }\n",
       "\n",
       "    .dataframe thead th {\n",
       "        text-align: right;\n",
       "    }\n",
       "</style>\n",
       "<table border=\"1\" class=\"dataframe\">\n",
       "  <thead>\n",
       "    <tr style=\"text-align: right;\">\n",
       "      <th></th>\n",
       "      <th>visitor_id</th>\n",
       "      <th>on_product_id</th>\n",
       "      <th>count</th>\n",
       "    </tr>\n",
       "  </thead>\n",
       "  <tbody>\n",
       "    <tr>\n",
       "      <td>0</td>\n",
       "      <td>3030303031303364643064326</td>\n",
       "      <td>363966653132636</td>\n",
       "      <td>1</td>\n",
       "    </tr>\n",
       "    <tr>\n",
       "      <td>1</td>\n",
       "      <td>3030303031303364643064326</td>\n",
       "      <td>643733373961386</td>\n",
       "      <td>1</td>\n",
       "    </tr>\n",
       "    <tr>\n",
       "      <td>2</td>\n",
       "      <td>3030303031303364643064326</td>\n",
       "      <td>653466303735636</td>\n",
       "      <td>1</td>\n",
       "    </tr>\n",
       "    <tr>\n",
       "      <td>3</td>\n",
       "      <td>3030303032333232333334633</td>\n",
       "      <td>626538323635626</td>\n",
       "      <td>1</td>\n",
       "    </tr>\n",
       "    <tr>\n",
       "      <td>4</td>\n",
       "      <td>3030303063396466356636393</td>\n",
       "      <td>623166353632633</td>\n",
       "      <td>1</td>\n",
       "    </tr>\n",
       "  </tbody>\n",
       "</table>\n",
       "</div>"
      ],
      "text/plain": [
       "                  visitor_id    on_product_id  count\n",
       "0  3030303031303364643064326  363966653132636      1\n",
       "1  3030303031303364643064326  643733373961386      1\n",
       "2  3030303031303364643064326  653466303735636      1\n",
       "3  3030303032333232333334633  626538323635626      1\n",
       "4  3030303063396466356636393  623166353632633      1"
      ]
     },
     "execution_count": 197,
     "metadata": {},
     "output_type": "execute_result"
    }
   ],
   "source": [
    "## Pandas DataFrame contendo ID visitante e produto acessado\n",
    "visitors_grouped = visitors.groupby(['visitor_id','on_product_id']).sum().reset_index()\n",
    "visitors_grouped.head()"
   ]
  },
  {
   "cell_type": "markdown",
   "metadata": {},
   "source": [
    "### Utilizar esse dataframe para comparar com o dataframe de compras para criar uma lista de quem não comprou"
   ]
  },
  {
   "cell_type": "code",
   "execution_count": 198,
   "metadata": {},
   "outputs": [],
   "source": [
    "## Exporta DataFrame de Saída em Colunas\n",
    "visitors_grouped.to_csv(r'./Outputs/Utils/visitors_grouped.csv')"
   ]
  },
  {
   "cell_type": "code",
   "execution_count": null,
   "metadata": {},
   "outputs": [],
   "source": []
  }
 ],
 "metadata": {
  "kernelspec": {
   "display_name": "Python 3",
   "language": "python",
   "name": "python3"
  },
  "language_info": {
   "codemirror_mode": {
    "name": "ipython",
    "version": 3
   },
   "file_extension": ".py",
   "mimetype": "text/x-python",
   "name": "python",
   "nbconvert_exporter": "python",
   "pygments_lexer": "ipython3",
   "version": "3.7.4"
  }
 },
 "nbformat": 4,
 "nbformat_minor": 2
}
