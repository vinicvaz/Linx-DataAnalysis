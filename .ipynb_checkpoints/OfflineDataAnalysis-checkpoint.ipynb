{
 "cells": [
  {
   "cell_type": "code",
   "execution_count": 350,
   "metadata": {},
   "outputs": [],
   "source": [
    "import pandas as pd\n",
    "import numpy as np\n",
    "import matplotlib.pyplot as plt\n",
    "import seaborn as sns\n",
    "import datetime\n",
    "import calendar\n",
    "sns.set_style('whitegrid')\n",
    "import warnings\n",
    "warnings.filterwarnings('ignore')"
   ]
  },
  {
   "cell_type": "code",
   "execution_count": 351,
   "metadata": {},
   "outputs": [],
   "source": [
    "file = \".//Data//Small_Data//offline_sales.json\""
   ]
  },
  {
   "cell_type": "code",
   "execution_count": 352,
   "metadata": {},
   "outputs": [],
   "source": [
    "## Create DF with offline data\n",
    "df = pd.read_json(file, lines=True, dtype={'customer_id': str})\n",
    "## Read customer_id as string to deal with big numbers"
   ]
  },
  {
   "cell_type": "markdown",
   "metadata": {},
   "source": [
    "# 1.0 - Exploratory Data Analysis | Análise Exploratória de Dados"
   ]
  },
  {
   "cell_type": "code",
   "execution_count": 353,
   "metadata": {},
   "outputs": [
    {
     "data": {
      "text/html": [
       "<div>\n",
       "<style scoped>\n",
       "    .dataframe tbody tr th:only-of-type {\n",
       "        vertical-align: middle;\n",
       "    }\n",
       "\n",
       "    .dataframe tbody tr th {\n",
       "        vertical-align: top;\n",
       "    }\n",
       "\n",
       "    .dataframe thead th {\n",
       "        text-align: right;\n",
       "    }\n",
       "</style>\n",
       "<table border=\"1\" class=\"dataframe\">\n",
       "  <thead>\n",
       "    <tr style=\"text-align: right;\">\n",
       "      <th></th>\n",
       "      <th>date</th>\n",
       "      <th>state</th>\n",
       "      <th>store_id</th>\n",
       "      <th>sale_id</th>\n",
       "      <th>off_product_id</th>\n",
       "      <th>quantity</th>\n",
       "      <th>price</th>\n",
       "      <th>customer_id</th>\n",
       "    </tr>\n",
       "  </thead>\n",
       "  <tbody>\n",
       "    <tr>\n",
       "      <td>0</td>\n",
       "      <td>2018-08-01</td>\n",
       "      <td>RN</td>\n",
       "      <td>3162633</td>\n",
       "      <td>323932636465316</td>\n",
       "      <td>643839313230323</td>\n",
       "      <td>1</td>\n",
       "      <td>279.00</td>\n",
       "      <td>None</td>\n",
       "    </tr>\n",
       "    <tr>\n",
       "      <td>1</td>\n",
       "      <td>2018-08-01</td>\n",
       "      <td>RN</td>\n",
       "      <td>3162633</td>\n",
       "      <td>326463633336323</td>\n",
       "      <td>613665646663346</td>\n",
       "      <td>1</td>\n",
       "      <td>229.00</td>\n",
       "      <td>None</td>\n",
       "    </tr>\n",
       "    <tr>\n",
       "      <td>2</td>\n",
       "      <td>2018-08-01</td>\n",
       "      <td>RN</td>\n",
       "      <td>3162633</td>\n",
       "      <td>333331346330323</td>\n",
       "      <td>343739666265353</td>\n",
       "      <td>1</td>\n",
       "      <td>179.00</td>\n",
       "      <td>None</td>\n",
       "    </tr>\n",
       "    <tr>\n",
       "      <td>3</td>\n",
       "      <td>2018-08-01</td>\n",
       "      <td>RN</td>\n",
       "      <td>3162633</td>\n",
       "      <td>393461383633336</td>\n",
       "      <td>373034633762613</td>\n",
       "      <td>1</td>\n",
       "      <td>269.00</td>\n",
       "      <td>None</td>\n",
       "    </tr>\n",
       "    <tr>\n",
       "      <td>4</td>\n",
       "      <td>2018-08-01</td>\n",
       "      <td>RN</td>\n",
       "      <td>3162633</td>\n",
       "      <td>616531626536373</td>\n",
       "      <td>343634373062363</td>\n",
       "      <td>1</td>\n",
       "      <td>29.00</td>\n",
       "      <td>None</td>\n",
       "    </tr>\n",
       "    <tr>\n",
       "      <td>5</td>\n",
       "      <td>2018-08-01</td>\n",
       "      <td>RN</td>\n",
       "      <td>3162633</td>\n",
       "      <td>626462353638383</td>\n",
       "      <td>616339353035393</td>\n",
       "      <td>1</td>\n",
       "      <td>459.00</td>\n",
       "      <td>None</td>\n",
       "    </tr>\n",
       "    <tr>\n",
       "      <td>6</td>\n",
       "      <td>2018-08-01</td>\n",
       "      <td>RN</td>\n",
       "      <td>3162633</td>\n",
       "      <td>653363623539323</td>\n",
       "      <td>346165376638356</td>\n",
       "      <td>1</td>\n",
       "      <td>369.00</td>\n",
       "      <td>None</td>\n",
       "    </tr>\n",
       "    <tr>\n",
       "      <td>7</td>\n",
       "      <td>2018-08-01</td>\n",
       "      <td>RN</td>\n",
       "      <td>3162633</td>\n",
       "      <td>666639323036376</td>\n",
       "      <td>643839313363376</td>\n",
       "      <td>1</td>\n",
       "      <td>149.00</td>\n",
       "      <td>30373934343338363136</td>\n",
       "    </tr>\n",
       "    <tr>\n",
       "      <td>8</td>\n",
       "      <td>2018-08-01</td>\n",
       "      <td>RN</td>\n",
       "      <td>3162633</td>\n",
       "      <td>636238633865636</td>\n",
       "      <td>333835396465353</td>\n",
       "      <td>1</td>\n",
       "      <td>198.00</td>\n",
       "      <td>30393833353363303832</td>\n",
       "    </tr>\n",
       "    <tr>\n",
       "      <td>9</td>\n",
       "      <td>2018-08-01</td>\n",
       "      <td>RN</td>\n",
       "      <td>3162633</td>\n",
       "      <td>626239383061353</td>\n",
       "      <td>343332613639373</td>\n",
       "      <td>1</td>\n",
       "      <td>229.00</td>\n",
       "      <td>31366262653431626130</td>\n",
       "    </tr>\n",
       "  </tbody>\n",
       "</table>\n",
       "</div>"
      ],
      "text/plain": [
       "        date state  store_id          sale_id   off_product_id  quantity  \\\n",
       "0 2018-08-01    RN   3162633  323932636465316  643839313230323         1   \n",
       "1 2018-08-01    RN   3162633  326463633336323  613665646663346         1   \n",
       "2 2018-08-01    RN   3162633  333331346330323  343739666265353         1   \n",
       "3 2018-08-01    RN   3162633  393461383633336  373034633762613         1   \n",
       "4 2018-08-01    RN   3162633  616531626536373  343634373062363         1   \n",
       "5 2018-08-01    RN   3162633  626462353638383  616339353035393         1   \n",
       "6 2018-08-01    RN   3162633  653363623539323  346165376638356         1   \n",
       "7 2018-08-01    RN   3162633  666639323036376  643839313363376         1   \n",
       "8 2018-08-01    RN   3162633  636238633865636  333835396465353         1   \n",
       "9 2018-08-01    RN   3162633  626239383061353  343332613639373         1   \n",
       "\n",
       "                 price           customer_id  \n",
       "0               279.00                  None  \n",
       "1               229.00                  None  \n",
       "2               179.00                  None  \n",
       "3               269.00                  None  \n",
       "4                29.00                  None  \n",
       "5               459.00                  None  \n",
       "6               369.00                  None  \n",
       "7               149.00  30373934343338363136  \n",
       "8               198.00  30393833353363303832  \n",
       "9               229.00  31366262653431626130  "
      ]
     },
     "execution_count": 353,
     "metadata": {},
     "output_type": "execute_result"
    }
   ],
   "source": [
    "## Checking DF\n",
    "df.head(10)"
   ]
  },
  {
   "cell_type": "code",
   "execution_count": 354,
   "metadata": {},
   "outputs": [],
   "source": [
    "## Replace None to NaN\n",
    "df.customer_id.replace('None', np.nan, inplace=True)"
   ]
  },
  {
   "cell_type": "code",
   "execution_count": 355,
   "metadata": {},
   "outputs": [
    {
     "name": "stdout",
     "output_type": "stream",
     "text": [
      "<class 'pandas.core.frame.DataFrame'>\n",
      "RangeIndex: 29372 entries, 0 to 29371\n",
      "Data columns (total 8 columns):\n",
      "date              29372 non-null datetime64[ns]\n",
      "state             29372 non-null object\n",
      "store_id          29372 non-null int64\n",
      "sale_id           29372 non-null int64\n",
      "off_product_id    29372 non-null int64\n",
      "quantity          29372 non-null int64\n",
      "price             29372 non-null float64\n",
      "customer_id       25844 non-null object\n",
      "dtypes: datetime64[ns](1), float64(1), int64(4), object(2)\n",
      "memory usage: 1.8+ MB\n"
     ]
    }
   ],
   "source": [
    "## Total Entries\n",
    "df.info()"
   ]
  },
  {
   "cell_type": "markdown",
   "metadata": {},
   "source": [
    "**29372 rows, 8 columns**"
   ]
  },
  {
   "cell_type": "code",
   "execution_count": 356,
   "metadata": {},
   "outputs": [
    {
     "data": {
      "text/plain": [
       "date              datetime64[ns]\n",
       "state                     object\n",
       "store_id                   int64\n",
       "sale_id                    int64\n",
       "off_product_id             int64\n",
       "quantity                   int64\n",
       "price                    float64\n",
       "customer_id               object\n",
       "dtype: object"
      ]
     },
     "execution_count": 356,
     "metadata": {},
     "output_type": "execute_result"
    }
   ],
   "source": [
    "## Check dtypes\n",
    "df.dtypes"
   ]
  },
  {
   "cell_type": "code",
   "execution_count": 357,
   "metadata": {},
   "outputs": [
    {
     "name": "stdout",
     "output_type": "stream",
     "text": [
      "Dia Inicial: 2018-08-01 00:00:00\n",
      "Dia Final: 2018-08-31 00:00:00\n"
     ]
    }
   ],
   "source": [
    "print('Dia Inicial:',df.date.min())\n",
    "print('Dia Final:',df.date.max())"
   ]
  },
  {
   "cell_type": "markdown",
   "metadata": {},
   "source": [
    "**Período de Coleta = Agosto 2018**"
   ]
  },
  {
   "cell_type": "code",
   "execution_count": 358,
   "metadata": {},
   "outputs": [
    {
     "data": {
      "text/plain": [
       "RJ    8867\n",
       "SP    6123\n",
       "RS    4631\n",
       "PE    3289\n",
       "AM    1527\n",
       "RN    1472\n",
       "MA    1078\n",
       "PR     888\n",
       "PI     834\n",
       "MS     361\n",
       "GO     302\n",
       "Name: state, dtype: int64"
      ]
     },
     "execution_count": 358,
     "metadata": {},
     "output_type": "execute_result"
    }
   ],
   "source": [
    "## Checando Correspondencias de Estados\n",
    "df.state.value_counts()"
   ]
  },
  {
   "cell_type": "markdown",
   "metadata": {},
   "source": [
    "**Estado mais frequente (provavel estado que consome mais) = RJ**"
   ]
  },
  {
   "cell_type": "code",
   "execution_count": 359,
   "metadata": {},
   "outputs": [
    {
     "data": {
      "text/plain": [
       "39"
      ]
     },
     "execution_count": 359,
     "metadata": {},
     "output_type": "execute_result"
    }
   ],
   "source": [
    "## Quantas lojas fisicas existem\n",
    "len(df.store_id.unique())"
   ]
  },
  {
   "cell_type": "code",
   "execution_count": 360,
   "metadata": {},
   "outputs": [],
   "source": [
    "## Quantas Lojas Fisicas existem em Cada estado?\n",
    "store_state = df.groupby(['state','store_id']).sum().reset_index().state.value_counts()"
   ]
  },
  {
   "cell_type": "code",
   "execution_count": 361,
   "metadata": {},
   "outputs": [
    {
     "data": {
      "text/plain": [
       "RJ    13\n",
       "SP    10\n",
       "PE     3\n",
       "RS     3\n",
       "PR     3\n",
       "AM     2\n",
       "PI     1\n",
       "MS     1\n",
       "RN     1\n",
       "MA     1\n",
       "GO     1\n",
       "Name: state, dtype: int64"
      ]
     },
     "execution_count": 361,
     "metadata": {},
     "output_type": "execute_result"
    }
   ],
   "source": [
    "store_state"
   ]
  },
  {
   "cell_type": "markdown",
   "metadata": {},
   "source": [
    "# 2.0 - Preparation | Preparação"
   ]
  },
  {
   "cell_type": "markdown",
   "metadata": {},
   "source": [
    "## 2.1 Data Cleaning - NaN | Limpeza de Dados - NaN"
   ]
  },
  {
   "cell_type": "code",
   "execution_count": 362,
   "metadata": {},
   "outputs": [
    {
     "data": {
      "text/plain": [
       "date                 0\n",
       "state                0\n",
       "store_id             0\n",
       "sale_id              0\n",
       "off_product_id       0\n",
       "quantity             0\n",
       "price                0\n",
       "customer_id       3528\n",
       "dtype: int64"
      ]
     },
     "execution_count": 362,
     "metadata": {},
     "output_type": "execute_result"
    }
   ],
   "source": [
    "## Checking for NaN values\n",
    "df.isnull().sum()"
   ]
  },
  {
   "cell_type": "markdown",
   "metadata": {},
   "source": [
    "**3528 NaN values on customer_id column**  \n",
    "**Clean or manipulate this**  \n",
    "**12% of costumer_id is Empty**"
   ]
  },
  {
   "cell_type": "code",
   "execution_count": 363,
   "metadata": {},
   "outputs": [
    {
     "name": "stdout",
     "output_type": "stream",
     "text": [
      "<class 'pandas.core.frame.DataFrame'>\n",
      "Int64Index: 25844 entries, 7 to 29371\n",
      "Data columns (total 8 columns):\n",
      "date              25844 non-null datetime64[ns]\n",
      "state             25844 non-null object\n",
      "store_id          25844 non-null int64\n",
      "sale_id           25844 non-null int64\n",
      "off_product_id    25844 non-null int64\n",
      "quantity          25844 non-null int64\n",
      "price             25844 non-null float64\n",
      "customer_id       25844 non-null object\n",
      "dtypes: datetime64[ns](1), float64(1), int64(4), object(2)\n",
      "memory usage: 1.8+ MB\n"
     ]
    }
   ],
   "source": [
    "## Create DF with no null values (not best aproach but the missing Data is ID's, what do with this?)\n",
    "no_null = df.copy()\n",
    "no_null.dropna(axis=0, inplace=True)\n",
    "no_null.info()"
   ]
  },
  {
   "cell_type": "code",
   "execution_count": 364,
   "metadata": {},
   "outputs": [
    {
     "data": {
      "text/html": [
       "<div>\n",
       "<style scoped>\n",
       "    .dataframe tbody tr th:only-of-type {\n",
       "        vertical-align: middle;\n",
       "    }\n",
       "\n",
       "    .dataframe tbody tr th {\n",
       "        vertical-align: top;\n",
       "    }\n",
       "\n",
       "    .dataframe thead th {\n",
       "        text-align: right;\n",
       "    }\n",
       "</style>\n",
       "<table border=\"1\" class=\"dataframe\">\n",
       "  <thead>\n",
       "    <tr style=\"text-align: right;\">\n",
       "      <th></th>\n",
       "      <th>date</th>\n",
       "      <th>state</th>\n",
       "      <th>store_id</th>\n",
       "      <th>sale_id</th>\n",
       "      <th>off_product_id</th>\n",
       "      <th>quantity</th>\n",
       "      <th>price</th>\n",
       "      <th>customer_id</th>\n",
       "    </tr>\n",
       "  </thead>\n",
       "  <tbody>\n",
       "    <tr>\n",
       "      <td>0</td>\n",
       "      <td>2018-08-01</td>\n",
       "      <td>RN</td>\n",
       "      <td>3162633</td>\n",
       "      <td>666639323036376</td>\n",
       "      <td>643839313363376</td>\n",
       "      <td>1</td>\n",
       "      <td>149.00</td>\n",
       "      <td>30373934343338363136</td>\n",
       "    </tr>\n",
       "    <tr>\n",
       "      <td>1</td>\n",
       "      <td>2018-08-01</td>\n",
       "      <td>RN</td>\n",
       "      <td>3162633</td>\n",
       "      <td>636238633865636</td>\n",
       "      <td>333835396465353</td>\n",
       "      <td>1</td>\n",
       "      <td>198.00</td>\n",
       "      <td>30393833353363303832</td>\n",
       "    </tr>\n",
       "    <tr>\n",
       "      <td>2</td>\n",
       "      <td>2018-08-01</td>\n",
       "      <td>RN</td>\n",
       "      <td>3162633</td>\n",
       "      <td>626239383061353</td>\n",
       "      <td>343332613639373</td>\n",
       "      <td>1</td>\n",
       "      <td>229.00</td>\n",
       "      <td>31366262653431626130</td>\n",
       "    </tr>\n",
       "    <tr>\n",
       "      <td>3</td>\n",
       "      <td>2018-08-01</td>\n",
       "      <td>RN</td>\n",
       "      <td>3162633</td>\n",
       "      <td>376465626630613</td>\n",
       "      <td>306439363765386</td>\n",
       "      <td>1</td>\n",
       "      <td>58.00</td>\n",
       "      <td>32653962626632373464</td>\n",
       "    </tr>\n",
       "    <tr>\n",
       "      <td>4</td>\n",
       "      <td>2018-08-01</td>\n",
       "      <td>RN</td>\n",
       "      <td>3162633</td>\n",
       "      <td>666564646366383</td>\n",
       "      <td>336139376666306</td>\n",
       "      <td>1</td>\n",
       "      <td>58.00</td>\n",
       "      <td>34653761646637306265</td>\n",
       "    </tr>\n",
       "  </tbody>\n",
       "</table>\n",
       "</div>"
      ],
      "text/plain": [
       "        date state  store_id          sale_id   off_product_id  quantity  \\\n",
       "0 2018-08-01    RN   3162633  666639323036376  643839313363376         1   \n",
       "1 2018-08-01    RN   3162633  636238633865636  333835396465353         1   \n",
       "2 2018-08-01    RN   3162633  626239383061353  343332613639373         1   \n",
       "3 2018-08-01    RN   3162633  376465626630613  306439363765386         1   \n",
       "4 2018-08-01    RN   3162633  666564646366383  336139376666306         1   \n",
       "\n",
       "                 price           customer_id  \n",
       "0               149.00  30373934343338363136  \n",
       "1               198.00  30393833353363303832  \n",
       "2               229.00  31366262653431626130  \n",
       "3                58.00  32653962626632373464  \n",
       "4                58.00  34653761646637306265  "
      ]
     },
     "execution_count": 364,
     "metadata": {},
     "output_type": "execute_result"
    }
   ],
   "source": [
    "## Drop old Index Column and Create a new one\n",
    "no_null = no_null.reset_index().drop(columns=['index'])\n",
    "no_null.head()"
   ]
  },
  {
   "cell_type": "markdown",
   "metadata": {},
   "source": [
    "## 2.2 Data Cleaning - Outliers | Limpeza de Dados - Outliers"
   ]
  },
  {
   "cell_type": "code",
   "execution_count": 365,
   "metadata": {},
   "outputs": [
    {
     "name": "stdout",
     "output_type": "stream",
     "text": [
      "Max: 9\n",
      "Min: 1\n"
     ]
    }
   ],
   "source": [
    "## Check Outliers on Quantity Colunm\n",
    "print('Max:',df.quantity.max())\n",
    "print('Min:',df.quantity.min())"
   ]
  },
  {
   "cell_type": "code",
   "execution_count": 366,
   "metadata": {},
   "outputs": [
    {
     "name": "stdout",
     "output_type": "stream",
     "text": [
      "Media: 1.0227427481955604\n",
      "Mediana: 1.0\n"
     ]
    }
   ],
   "source": [
    "print('Media:',df.quantity.mean())\n",
    "print('Mediana:',df.quantity.median())"
   ]
  },
  {
   "cell_type": "code",
   "execution_count": 367,
   "metadata": {},
   "outputs": [
    {
     "data": {
      "text/plain": [
       "1    28784\n",
       "2      531\n",
       "3       43\n",
       "4       10\n",
       "5        2\n",
       "9        1\n",
       "6        1\n",
       "Name: quantity, dtype: int64"
      ]
     },
     "execution_count": 367,
     "metadata": {},
     "output_type": "execute_result"
    }
   ],
   "source": [
    "## Maior parte das pessoas compra apenas um item mesmo\n",
    "df.quantity.value_counts()"
   ]
  },
  {
   "cell_type": "markdown",
   "metadata": {},
   "source": [
    "**Valores aceitaveis**"
   ]
  },
  {
   "cell_type": "code",
   "execution_count": 368,
   "metadata": {},
   "outputs": [
    {
     "data": {
      "text/plain": [
       "count              29,372.00\n",
       "mean                  468.06\n",
       "std                   819.18\n",
       "min                     0.01\n",
       "25%                   168.00\n",
       "50%                   289.00\n",
       "75%                   589.00\n",
       "max                39,690.00\n",
       "Name: price, dtype: float64"
      ]
     },
     "execution_count": 368,
     "metadata": {},
     "output_type": "execute_result"
    }
   ],
   "source": [
    "## Check Outliers on Price\n",
    "df.price.describe()"
   ]
  },
  {
   "cell_type": "code",
   "execution_count": 369,
   "metadata": {},
   "outputs": [
    {
     "data": {
      "text/plain": [
       "<matplotlib.axes._subplots.AxesSubplot at 0x7faf6d574e10>"
      ]
     },
     "execution_count": 369,
     "metadata": {},
     "output_type": "execute_result"
    },
    {
     "data": {
      "image/png": "[encoded data removed]",
      "text/plain": [
       "<Figure size 432x288 with 1 Axes>"
      ]
     },
     "metadata": {},
     "output_type": "display_data"
    }
   ],
   "source": [
    "df.price.plot(kind='box')"
   ]
  },
  {
   "cell_type": "markdown",
   "metadata": {},
   "source": [
    "**Grande quantidade de valores grandes**\n"
   ]
  },
  {
   "cell_type": "code",
   "execution_count": 370,
   "metadata": {},
   "outputs": [
    {
     "data": {
      "text/plain": [
       "289.0"
      ]
     },
     "execution_count": 370,
     "metadata": {},
     "output_type": "execute_result"
    }
   ],
   "source": [
    "## Check the median because the mean may be altered by the large price values \n",
    "no_null.price.median()"
   ]
  },
  {
   "cell_type": "markdown",
   "metadata": {},
   "source": [
    "**Mediana = 289, isso mostra que a media dos preços tende a subir devido as compras de alto valor, o gasto de usuários comuns (gastos mais frequentes) são representados melhor pela mediana**  \n",
    "**Por enquanto irei manter os valores altos por completo**"
   ]
  },
  {
   "cell_type": "markdown",
   "metadata": {},
   "source": [
    "## 2.3 Data Cleaning - Duplicated | Limpeza de Dados - Duplicados "
   ]
  },
  {
   "cell_type": "code",
   "execution_count": 371,
   "metadata": {},
   "outputs": [
    {
     "data": {
      "text/plain": [
       "0        False\n",
       "1        False\n",
       "2        False\n",
       "3        False\n",
       "4        False\n",
       "         ...  \n",
       "25839    False\n",
       "25840     True\n",
       "25841    False\n",
       "25842     True\n",
       "25843     True\n",
       "Length: 25844, dtype: bool"
      ]
     },
     "execution_count": 371,
     "metadata": {},
     "output_type": "execute_result"
    }
   ],
   "source": [
    "no_null.duplicated(['sale_id'])"
   ]
  },
  {
   "cell_type": "markdown",
   "metadata": {},
   "source": [
    "**Pode haver o mesmo 'sale_id' para diversos produtos, logo essas duplicadas não são problemáticas**"
   ]
  },
  {
   "cell_type": "code",
   "execution_count": 372,
   "metadata": {},
   "outputs": [
    {
     "data": {
      "text/plain": [
       "0"
      ]
     },
     "execution_count": 372,
     "metadata": {},
     "output_type": "execute_result"
    }
   ],
   "source": [
    "## Verificar dados duplicados\n",
    "no_null.duplicated().sum()"
   ]
  },
  {
   "cell_type": "markdown",
   "metadata": {},
   "source": [
    "**Sem linhas completas duplicadas**"
   ]
  },
  {
   "cell_type": "markdown",
   "metadata": {},
   "source": [
    "# 3.0 - Análises"
   ]
  },
  {
   "cell_type": "code",
   "execution_count": 373,
   "metadata": {},
   "outputs": [],
   "source": [
    "## Cria coluna de dia da semana da compra (0 segunda -> 6 domingo )\n",
    "no_null['weekday'] =  no_null['date'].dt.dayofweek\n",
    "df['weekday'] = df['date'].dt.dayofweek"
   ]
  },
  {
   "cell_type": "markdown",
   "metadata": {},
   "source": [
    "## 3.1 - Faturamentos  \n",
    "**Hipótes**      \n",
    "**Os IDs dos clientes faltantes no DF completo são devidos à algum problema na coleta APENAS do ID do cliente, logo isso nao influência o faturamento**  \n",
    "  \n",
    "**Caso essa ausência de valor esteja ligada à algum tipo de problema que possa comprometer o restante dos dados, o melhor seria a utilização do dataframe sem os valores nulos**"
   ]
  },
  {
   "cell_type": "code",
   "execution_count": 374,
   "metadata": {},
   "outputs": [
    {
     "data": {
      "image/png": "[encoded data removed]",
      "text/plain": [
       "<Figure size 576x432 with 1 Axes>"
      ]
     },
     "metadata": {},
     "output_type": "display_data"
    }
   ],
   "source": [
    "## Plotar Faturamento Total por Estado\n",
    "plt.figure(figsize=(8,6))\n",
    "ax = sns.barplot(x='state',y='price', data=df.groupby('state').sum().reset_index(), palette='Blues_d')\n",
    "ax.set_xlabel('Estado', fontsize=14)\n",
    "ax.set_ylabel('Preço - R$', fontsize=14)\n",
    "ax.set_title('Faturamento Total por Estado - Lojas Físicas', fontsize=16)\n",
    "\n",
    "for item in ax.get_xticklabels():\n",
    "    item.set_rotation(30)\n",
    "    \n",
    "plt.savefig('./Images/Offline/Revenue-States-Offline.jpg')"
   ]
  },
  {
   "cell_type": "code",
   "execution_count": 375,
   "metadata": {},
   "outputs": [
    {
     "name": "stdout",
     "output_type": "stream",
     "text": [
      "Faturamento total no mes de agosto em 2018: 13747940.13\n",
      "Faturamento total de usuários identificados:  12202226.879999999\n"
     ]
    }
   ],
   "source": [
    "## Faturamento Total (Usar o DataFrame completo, com os valores nulos)\n",
    "print('Faturamento total no mes de agosto em 2018:',df.price.sum())\n",
    "print('Faturamento total de usuários identificados: ', no_null.price.sum())\n",
    "\n",
    "fat_total = df.price.sum()\n",
    "fat_id = no_null.price.sum()"
   ]
  },
  {
   "cell_type": "code",
   "execution_count": 376,
   "metadata": {},
   "outputs": [
    {
     "data": {
      "text/html": [
       "<div>\n",
       "<style scoped>\n",
       "    .dataframe tbody tr th:only-of-type {\n",
       "        vertical-align: middle;\n",
       "    }\n",
       "\n",
       "    .dataframe tbody tr th {\n",
       "        vertical-align: top;\n",
       "    }\n",
       "\n",
       "    .dataframe thead th {\n",
       "        text-align: right;\n",
       "    }\n",
       "</style>\n",
       "<table border=\"1\" class=\"dataframe\">\n",
       "  <thead>\n",
       "    <tr style=\"text-align: right;\">\n",
       "      <th></th>\n",
       "      <th>date</th>\n",
       "      <th>state</th>\n",
       "      <th>store_id</th>\n",
       "      <th>sale_id</th>\n",
       "      <th>off_product_id</th>\n",
       "      <th>quantity</th>\n",
       "      <th>price</th>\n",
       "      <th>customer_id</th>\n",
       "      <th>weekday</th>\n",
       "    </tr>\n",
       "  </thead>\n",
       "  <tbody>\n",
       "    <tr>\n",
       "      <td>0</td>\n",
       "      <td>2018-08-01</td>\n",
       "      <td>RN</td>\n",
       "      <td>3162633</td>\n",
       "      <td>323932636465316</td>\n",
       "      <td>643839313230323</td>\n",
       "      <td>1</td>\n",
       "      <td>279.00</td>\n",
       "      <td>NaN</td>\n",
       "      <td>2</td>\n",
       "    </tr>\n",
       "    <tr>\n",
       "      <td>1</td>\n",
       "      <td>2018-08-01</td>\n",
       "      <td>RN</td>\n",
       "      <td>3162633</td>\n",
       "      <td>326463633336323</td>\n",
       "      <td>613665646663346</td>\n",
       "      <td>1</td>\n",
       "      <td>229.00</td>\n",
       "      <td>NaN</td>\n",
       "      <td>2</td>\n",
       "    </tr>\n",
       "    <tr>\n",
       "      <td>2</td>\n",
       "      <td>2018-08-01</td>\n",
       "      <td>RN</td>\n",
       "      <td>3162633</td>\n",
       "      <td>333331346330323</td>\n",
       "      <td>343739666265353</td>\n",
       "      <td>1</td>\n",
       "      <td>179.00</td>\n",
       "      <td>NaN</td>\n",
       "      <td>2</td>\n",
       "    </tr>\n",
       "    <tr>\n",
       "      <td>3</td>\n",
       "      <td>2018-08-01</td>\n",
       "      <td>RN</td>\n",
       "      <td>3162633</td>\n",
       "      <td>393461383633336</td>\n",
       "      <td>373034633762613</td>\n",
       "      <td>1</td>\n",
       "      <td>269.00</td>\n",
       "      <td>NaN</td>\n",
       "      <td>2</td>\n",
       "    </tr>\n",
       "    <tr>\n",
       "      <td>4</td>\n",
       "      <td>2018-08-01</td>\n",
       "      <td>RN</td>\n",
       "      <td>3162633</td>\n",
       "      <td>616531626536373</td>\n",
       "      <td>343634373062363</td>\n",
       "      <td>1</td>\n",
       "      <td>29.00</td>\n",
       "      <td>NaN</td>\n",
       "      <td>2</td>\n",
       "    </tr>\n",
       "  </tbody>\n",
       "</table>\n",
       "</div>"
      ],
      "text/plain": [
       "        date state  store_id          sale_id   off_product_id  quantity  \\\n",
       "0 2018-08-01    RN   3162633  323932636465316  643839313230323         1   \n",
       "1 2018-08-01    RN   3162633  326463633336323  613665646663346         1   \n",
       "2 2018-08-01    RN   3162633  333331346330323  343739666265353         1   \n",
       "3 2018-08-01    RN   3162633  393461383633336  373034633762613         1   \n",
       "4 2018-08-01    RN   3162633  616531626536373  343634373062363         1   \n",
       "\n",
       "                 price customer_id  weekday  \n",
       "0               279.00         NaN        2  \n",
       "1               229.00         NaN        2  \n",
       "2               179.00         NaN        2  \n",
       "3               269.00         NaN        2  \n",
       "4                29.00         NaN        2  "
      ]
     },
     "execution_count": 376,
     "metadata": {},
     "output_type": "execute_result"
    }
   ],
   "source": [
    "df.head()"
   ]
  },
  {
   "cell_type": "code",
   "execution_count": 377,
   "metadata": {},
   "outputs": [
    {
     "data": {
      "text/plain": [
       "39"
      ]
     },
     "execution_count": 377,
     "metadata": {},
     "output_type": "execute_result"
    }
   ],
   "source": [
    "## Numero de Lojas\n",
    "df.store_id.value_counts().count()"
   ]
  },
  {
   "cell_type": "code",
   "execution_count": 378,
   "metadata": {},
   "outputs": [
    {
     "name": "stdout",
     "output_type": "stream",
     "text": [
      "Loja com maior faturamento id: 6361373 - RJ\n",
      "Loja com menor faturamento id: 3234666 - RJ\n"
     ]
    }
   ],
   "source": [
    "## Lojas com maior e menor faturamento\n",
    "group = df.groupby('store_id').sum()\n",
    "index_max = int(group[group.price==group.price.max()].reset_index()['store_id'].values)\n",
    "index_min = int(group[group.price==group.price.min()].reset_index()['store_id'].values)\n",
    "\n",
    "print('Loja com maior faturamento id:',index_max,'-',df[df.store_id==index_max].state.values[0])\n",
    "print('Loja com menor faturamento id:',index_min,'-',df[df.store_id==index_min].state.values[0])\n",
    "\n",
    "maior = str(index_max)+'-'+str(df[df.store_id==index_max].state.values[0])\n",
    "menor = str(index_min)+'-'+str(df[df.store_id==index_min].state.values[0])"
   ]
  },
  {
   "cell_type": "markdown",
   "metadata": {},
   "source": [
    "**Tanto a loja com maior quanto a com menor faturamento estão no RJ**"
   ]
  },
  {
   "cell_type": "code",
   "execution_count": 379,
   "metadata": {},
   "outputs": [],
   "source": [
    "fat_time = df.groupby('date').sum().reset_index()"
   ]
  },
  {
   "cell_type": "code",
   "execution_count": 380,
   "metadata": {},
   "outputs": [
    {
     "data": {
      "image/png": "[encoded data removed]",
      "text/plain": [
       "<Figure size 864x432 with 1 Axes>"
      ]
     },
     "metadata": {},
     "output_type": "display_data"
    }
   ],
   "source": [
    "sns.set_style('darkgrid')\n",
    "plt.figure(figsize=(12,6))\n",
    "ax1 = sns.lineplot(x='date',y='price',data=fat_time, color='green')\n",
    "ax1.set_xlabel('Dia', fontsize=14)\n",
    "ax1.set_ylabel('Faturamento', fontsize=14)\n",
    "ax1.set_title('Faturamento por dia - Agosto 2018 - Lojas Físicas', fontsize=16)\n",
    "\n",
    "for item in ax1.get_xticklabels():\n",
    "    item.set_rotation(20)\n",
    "    \n",
    "plt.savefig('./Images/Offline/Revenue-Offline.jpg', bbox_inches=\"tight\")"
   ]
  },
  {
   "cell_type": "code",
   "execution_count": 381,
   "metadata": {},
   "outputs": [],
   "source": [
    "datas = list(fat_time.date)\n",
    "dias = []\n",
    "for data in datas:\n",
    "    dias.append(data.day)"
   ]
  },
  {
   "cell_type": "code",
   "execution_count": 382,
   "metadata": {},
   "outputs": [
    {
     "data": {
      "image/png": "[encoded data removed]",
      "text/plain": [
       "<Figure size 864x432 with 1 Axes>"
      ]
     },
     "metadata": {},
     "output_type": "display_data"
    }
   ],
   "source": [
    "sns.set_style('darkgrid')\n",
    "plt.figure(figsize=(12,6))\n",
    "ax1 = sns.barplot(x='date',y='price',data=fat_time, palette='rainbow')\n",
    "ax1.set_xlabel('Dia', fontsize=14)\n",
    "ax1.set_ylabel('Faturamento', fontsize=14)\n",
    "ax1.set_title('Faturamento por dia - Agosto 2018 - Lojas Físicas', fontsize=16)\n",
    "ax1.set_xticklabels(dias)\n",
    "\n",
    "for item in ax1.get_xticklabels():\n",
    "    item.set_rotation(20)\n",
    "    \n",
    "plt.savefig('./Images/Offline/Revenue-Offline-Bar.jpg', bbox_inches=\"tight\")"
   ]
  },
  {
   "cell_type": "code",
   "execution_count": 420,
   "metadata": {},
   "outputs": [],
   "source": [
    "## Faturamento total finais de semana / dia da semana\n",
    "aux_fat = df.groupby('weekday').sum().reset_index()\n",
    "fat_weekend = aux_fat[(aux_fat.weekday==6) | (aux_fat.weekday==5)].price.sum()\n",
    "fat_week = aux_fat[(aux_fat.weekday!=6) | (aux_fat.weekday!=5)].price.sum()"
   ]
  },
  {
   "cell_type": "code",
   "execution_count": 517,
   "metadata": {},
   "outputs": [
    {
     "data": {
      "text/plain": [
       "'31/8/2018 - Sexta'"
      ]
     },
     "execution_count": 517,
     "metadata": {},
     "output_type": "execute_result"
    }
   ],
   "source": [
    "aux = df.groupby('date').sum().reset_index()\n",
    "map_dias = {0:'Segunda',1:'Terça',2:'Quarta',3:'Quinta',4:'Sexta',5:'Sabado',6:'Domingo'}\n",
    "most_sold_day = aux[aux.price==aux.price.max()].date.values[0]\n",
    "date = pd.DatetimeIndex([most_sold_day])\n",
    "\n",
    "if date[0].weekday() in map_dias:\n",
    "    dia = map_dias[date[0].weekday()]\n",
    "\n",
    "top_day = str(date[0].day) + '/'+ str(date[0].month) +'/'+ str(date[0].year) + ' - ' + dia\n",
    "\n",
    "top_day"
   ]
  },
  {
   "cell_type": "code",
   "execution_count": null,
   "metadata": {},
   "outputs": [],
   "source": []
  },
  {
   "cell_type": "code",
   "execution_count": 410,
   "metadata": {},
   "outputs": [
    {
     "data": {
      "image/png": "[encoded data removed]",
      "text/plain": [
       "<Figure size 720x432 with 1 Axes>"
      ]
     },
     "metadata": {},
     "output_type": "display_data"
    }
   ],
   "source": [
    "## Faturamento Total por dia da semana\n",
    "plt.figure(figsize=(10,6))\n",
    "ax1 = sns.barplot(x='weekday',y='price', data= aux_fat, ci=0, palette='dark')\n",
    "ax1.set_xlabel('Dia da Semana', fontsize=14)\n",
    "ax1.set_ylabel('Faturamento Total - R$', fontsize=14)\n",
    "ax1.set_xticklabels(['Segunda','Terça','Quarta','Quinta','Sexta','Sabado','Domingo'])\n",
    "ax1.set_title('Faturamento total por dia da semana - Lojas Físicas', fontsize=16)\n",
    "plt.savefig('./Images/Offline/Revenue-Day-Total-Offline.jpg')"
   ]
  },
  {
   "cell_type": "code",
   "execution_count": null,
   "metadata": {},
   "outputs": [],
   "source": []
  },
  {
   "cell_type": "markdown",
   "metadata": {},
   "source": [
    "## 3.3 - Análise de Vendas // Dias da semana"
   ]
  },
  {
   "cell_type": "code",
   "execution_count": 386,
   "metadata": {},
   "outputs": [],
   "source": [
    "## Numero total de ordens emitidas\n",
    "n_vendas = len(df.groupby('sale_id').sum())"
   ]
  },
  {
   "cell_type": "code",
   "execution_count": 387,
   "metadata": {},
   "outputs": [],
   "source": [
    "## Verificar vendas no fim de semana (selecionar por sale_id unico)\n",
    "cariocas = df[df.state=='RJ']\n",
    "# Numero de vendas na semana e fim de semana (Offline)\n",
    "total = cariocas.drop_duplicates(subset=['sale_id']).sale_id.count()\n",
    "fim = cariocas[(cariocas.weekday==6) | (cariocas.weekday==5)].drop_duplicates(subset=['sale_id']).sale_id.count()\n",
    "normal =cariocas[(cariocas.weekday!=6) & (cariocas.weekday!=5)].drop_duplicates(subset=['sale_id']).sale_id.count()"
   ]
  },
  {
   "cell_type": "code",
   "execution_count": 388,
   "metadata": {},
   "outputs": [
    {
     "name": "stdout",
     "output_type": "stream",
     "text": [
      "Número total de vendas no final de semana: 887\n",
      "Número total de vendas dias de semana: 3514\n",
      "Número total de compras: 4401\n"
     ]
    }
   ],
   "source": [
    "print('Número total de vendas no final de semana:',fim)\n",
    "print('Número total de vendas dias de semana:', normal)\n",
    "print('Número total de compras:', total)"
   ]
  },
  {
   "cell_type": "code",
   "execution_count": 389,
   "metadata": {},
   "outputs": [
    {
     "name": "stdout",
     "output_type": "stream",
     "text": [
      "As compras dos cariocas no fim de semana representam: 20.15451033855942 % das quantidade de compras total\n"
     ]
    }
   ],
   "source": [
    "# Porcentagem da quantidade de compras dos cariocas no final de semana\n",
    "pctg_vendas = (fim*100)/total\n",
    "print('As compras dos cariocas no fim de semana representam:', pctg_vendas,'% das quantidade de compras total')"
   ]
  },
  {
   "cell_type": "markdown",
   "metadata": {},
   "source": [
    "**Quantidade de compras representa gasto? Verificar**"
   ]
  },
  {
   "cell_type": "code",
   "execution_count": 390,
   "metadata": {},
   "outputs": [],
   "source": [
    "## DataFrame com somatório do faturamento por dia da semana em cada estado\n",
    "df_grupo = df.groupby(['weekday','state']).sum().reset_index(['state','weekday'])"
   ]
  },
  {
   "cell_type": "code",
   "execution_count": 391,
   "metadata": {},
   "outputs": [],
   "source": [
    "## Estados com maior faturamento\n",
    "best_states = ['RJ','RS','SP','PE']\n",
    "## DataFrame filtrado pela lista dos melhores estados\n",
    "df_dias = df_grupo[df_grupo.state.isin(best_states)]"
   ]
  },
  {
   "cell_type": "code",
   "execution_count": 411,
   "metadata": {},
   "outputs": [
    {
     "data": {
      "image/png": "[encoded data removed]",
      "text/plain": [
       "<Figure size 720x432 with 1 Axes>"
      ]
     },
     "metadata": {},
     "output_type": "display_data"
    }
   ],
   "source": [
    "## Plot de faturamento por dia dos melhores estados\n",
    "plt.figure(figsize=(10,6))\n",
    "ax1 = sns.barplot(x='weekday',y='price', hue='state', data= df_dias, ci=0, palette='tab10')\n",
    "ax1.set_xlabel('Dia da Semana', fontsize=14)\n",
    "ax1.set_ylabel('Faturamento - R$', fontsize=14)\n",
    "ax1.set_xticklabels(['Segunda','Terça','Quarta','Quinta','Sexta','Sabado','Domingo'])\n",
    "ax1.set_title('Faturamento por dia da semana dos estados com maior rendimento - Lojas Físicas', fontsize=16)\n",
    "plt.savefig('./Images/Offline/Revenue-Day-Bests-Offline.jpg')"
   ]
  },
  {
   "cell_type": "code",
   "execution_count": 393,
   "metadata": {},
   "outputs": [],
   "source": [
    "## Verifica Quantos dias existiram de cada no mes\n",
    "datas = df.groupby('date').count().reset_index().date"
   ]
  },
  {
   "cell_type": "code",
   "execution_count": 394,
   "metadata": {},
   "outputs": [
    {
     "data": {
      "text/plain": [
       "4    5\n",
       "3    5\n",
       "2    5\n",
       "6    4\n",
       "5    4\n",
       "1    4\n",
       "0    4\n",
       "dtype: int64"
      ]
     },
     "execution_count": 394,
     "metadata": {},
     "output_type": "execute_result"
    }
   ],
   "source": [
    "dias = []\n",
    "for data in datas:\n",
    "    dias.append(data.weekday())\n",
    "dias = pd.Series(dias)\n",
    "dias.value_counts()"
   ]
  },
  {
   "cell_type": "code",
   "execution_count": 395,
   "metadata": {},
   "outputs": [
    {
     "data": {
      "text/plain": [
       "<matplotlib.axes._subplots.AxesSubplot at 0x7faf6d5b66d0>"
      ]
     },
     "execution_count": 395,
     "metadata": {},
     "output_type": "execute_result"
    },
    {
     "data": {
      "image/png": "[encoded data removed]",
      "text/plain": [
       "<Figure size 432x288 with 1 Axes>"
      ]
     },
     "metadata": {},
     "output_type": "display_data"
    }
   ],
   "source": [
    "sns.countplot(x=dias)"
   ]
  },
  {
   "cell_type": "markdown",
   "metadata": {},
   "source": [
    "**Quarta, Quinta e Sexta ocorreram uma vez a mais que os demais dias**  \n",
    "**Utilizar a média do faturamento por dia da semana para melhor análise**"
   ]
  },
  {
   "cell_type": "code",
   "execution_count": 396,
   "metadata": {},
   "outputs": [],
   "source": [
    "## Função pra realizar a média do faturamento por dia da semana\n",
    "def get_mean(index):\n",
    "    if df_dias.loc[index].weekday>=3 and df_dias.loc[index].weekday<=5:\n",
    "        return df_dias.loc[index].price/5\n",
    "    else:\n",
    "        return df_dias.loc[index].price/4"
   ]
  },
  {
   "cell_type": "code",
   "execution_count": 397,
   "metadata": {},
   "outputs": [],
   "source": [
    "## DataFrame auxiliar com a média do faturamento por dia da semana\n",
    "df_mean = pd.DataFrame(columns=['state','weekday','price'])\n",
    "for index, row in df_dias.iterrows():\n",
    "    size = len(df_mean)\n",
    "    estado = df_dias.loc[index].state\n",
    "    weekday = df_dias.loc[index].weekday\n",
    "    price = get_mean(index)\n",
    "    \n",
    "    df_mean = df_mean.set_value(size,'state',estado) \n",
    "    df_mean = df_mean.set_value(size,'weekday',weekday)\n",
    "    df_mean = df_mean.set_value(size,'price',price)\n"
   ]
  },
  {
   "cell_type": "code",
   "execution_count": 412,
   "metadata": {},
   "outputs": [
    {
     "data": {
      "image/png": "[encoded data removed]",
      "text/plain": [
       "<Figure size 720x432 with 1 Axes>"
      ]
     },
     "metadata": {},
     "output_type": "display_data"
    }
   ],
   "source": [
    "## Plot de faturamento por dia dos melhores estados\n",
    "plt.figure(figsize=(10,6))\n",
    "ax1 = sns.barplot(x='weekday',y='price', hue='state', data= df_mean, ci=0, palette='tab10')\n",
    "ax1.set_xlabel('Dia da Semana', fontsize=14)\n",
    "ax1.set_ylabel('Faturamento - R$', fontsize=14)\n",
    "ax1.set_xticklabels(['Segunda','Terça','Quarta','Quinta','Sexta','Sabado','Domingo'])\n",
    "ax1.set_title('Faturamento médio por dia da semana dos estados com maior rendimento - Lojas Físicas', fontsize=16)\n",
    "plt.savefig('./Images/Offline/Revenue-Day-Mean-Bests-Offline.jpg')"
   ]
  },
  {
   "cell_type": "markdown",
   "metadata": {},
   "source": [
    "**Dias da semana com maior média de faturamento no RJ -> Sexta > Quinta > Quarta**"
   ]
  },
  {
   "cell_type": "code",
   "execution_count": 399,
   "metadata": {},
   "outputs": [],
   "source": [
    "my_aux = df.groupby(['store_id','state','weekday']).sum()\n",
    "my_aux.reset_index(inplace=True)\n",
    "my_aux2 = my_aux[(my_aux.weekday!=6) | (my_aux.weekday!=5)].groupby(['store_id','state','weekday']).sum()\n"
   ]
  },
  {
   "cell_type": "code",
   "execution_count": 400,
   "metadata": {},
   "outputs": [
    {
     "name": "stdout",
     "output_type": "stream",
     "text": [
      "Quantidade de lojas que abrem nos dias de semana:  39\n",
      "Quantidade de lojas que abrem no Sábado:  39\n",
      "Quantidade de lojas que abrem no Domingo:  34\n"
     ]
    }
   ],
   "source": [
    "print('Quantidade de lojas que abrem nos dias de semana: ', len(my_aux2.reset_index().store_id.unique()))\n",
    "print('Quantidade de lojas que abrem no Sábado: ', len(my_aux[my_aux.weekday==5].store_id.unique()))\n",
    "print('Quantidade de lojas que abrem no Domingo: ', len(my_aux[my_aux.weekday==6].store_id.unique()))"
   ]
  },
  {
   "cell_type": "markdown",
   "metadata": {},
   "source": [
    "**Menos lojas abrem no domingo**"
   ]
  },
  {
   "cell_type": "code",
   "execution_count": 401,
   "metadata": {},
   "outputs": [],
   "source": [
    "store_week = cariocas.groupby(['store_id', 'weekday']).sum()"
   ]
  },
  {
   "cell_type": "code",
   "execution_count": 402,
   "metadata": {},
   "outputs": [],
   "source": [
    "store_week.reset_index(inplace=True)"
   ]
  },
  {
   "cell_type": "code",
   "execution_count": 403,
   "metadata": {},
   "outputs": [
    {
     "name": "stdout",
     "output_type": "stream",
     "text": [
      "Total Gasto nos finais de Semana: R$ 1097666.58\n"
     ]
    }
   ],
   "source": [
    "## Total Gasto no RJ em todos finais de Semana de agosto de 2018\n",
    "spend_end = store_week[(store_week.weekday==5) | (store_week.weekday==6)].price.sum()\n",
    "print('Total Gasto nos finais de Semana: R$', spend_end)"
   ]
  },
  {
   "cell_type": "code",
   "execution_count": 404,
   "metadata": {},
   "outputs": [
    {
     "name": "stdout",
     "output_type": "stream",
     "text": [
      "Gasto total: R$ 6179551.72\n"
     ]
    }
   ],
   "source": [
    "## Total Gasto\n",
    "spend_total = store_week.price.sum()\n",
    "print('Gasto total: R$', spend_total)"
   ]
  },
  {
   "cell_type": "code",
   "execution_count": 405,
   "metadata": {},
   "outputs": [
    {
     "name": "stdout",
     "output_type": "stream",
     "text": [
      "O valor das compras dos cariocas no fim de semana representam: 17.762883615771404 % do valor total das compras\n"
     ]
    }
   ],
   "source": [
    "pctg_spend = (spend_end*100)/spend_total\n",
    "print('O valor das compras dos cariocas no fim de semana representam:', pctg_spend,'% do valor total das compras')"
   ]
  },
  {
   "cell_type": "markdown",
   "metadata": {},
   "source": [
    "# 4.0 - Exportando Resultados para CSV"
   ]
  },
  {
   "cell_type": "markdown",
   "metadata": {},
   "source": [
    "## 4.1 Criar DataFrames de Saída"
   ]
  },
  {
   "cell_type": "code",
   "execution_count": 518,
   "metadata": {},
   "outputs": [],
   "source": [
    "## Criar DataFrame\n",
    "datas = {'faturamento_total':[fat_total], 'faturamento_id':[fat_id],'n_total_vendas':[n_vendas],'fat_fds':[fat_weekend]\n",
    "         ,'fat_semana':[fat_week],'loja_maior_faturamento': [maior],'loja_menor_faturamento':[menor],\n",
    "         'dia_maior_fat':[top_day],'total_vendas_fdsRJ': [fim], 'total_vendas_semanaRJ':[normal], \n",
    "         'total_vendasRJ': [total],'perct_vendas_fdsRJ': [round(pctg_vendas,2)], 'gastos_fdsRJ':[spend_end], \n",
    "         'gastos_totalRJ': [spend_total], 'perct_gastos_fdsRJ':[round(pctg_spend,2)]}\n",
    "df_offline = pd.DataFrame(data=datas)"
   ]
  },
  {
   "cell_type": "code",
   "execution_count": 519,
   "metadata": {},
   "outputs": [
    {
     "data": {
      "text/html": [
       "<div>\n",
       "<style scoped>\n",
       "    .dataframe tbody tr th:only-of-type {\n",
       "        vertical-align: middle;\n",
       "    }\n",
       "\n",
       "    .dataframe tbody tr th {\n",
       "        vertical-align: top;\n",
       "    }\n",
       "\n",
       "    .dataframe thead th {\n",
       "        text-align: right;\n",
       "    }\n",
       "</style>\n",
       "<table border=\"1\" class=\"dataframe\">\n",
       "  <thead>\n",
       "    <tr style=\"text-align: right;\">\n",
       "      <th></th>\n",
       "      <th>Valor</th>\n",
       "    </tr>\n",
       "  </thead>\n",
       "  <tbody>\n",
       "    <tr>\n",
       "      <td>faturamento_total</td>\n",
       "      <td>13,747,940.13</td>\n",
       "    </tr>\n",
       "    <tr>\n",
       "      <td>faturamento_id</td>\n",
       "      <td>12,202,226.88</td>\n",
       "    </tr>\n",
       "    <tr>\n",
       "      <td>n_total_vendas</td>\n",
       "      <td>14619</td>\n",
       "    </tr>\n",
       "    <tr>\n",
       "      <td>fat_fds</td>\n",
       "      <td>3,092,634.48</td>\n",
       "    </tr>\n",
       "    <tr>\n",
       "      <td>fat_semana</td>\n",
       "      <td>13,747,940.13</td>\n",
       "    </tr>\n",
       "    <tr>\n",
       "      <td>loja_maior_faturamento</td>\n",
       "      <td>6361373-RJ</td>\n",
       "    </tr>\n",
       "    <tr>\n",
       "      <td>loja_menor_faturamento</td>\n",
       "      <td>3234666-RJ</td>\n",
       "    </tr>\n",
       "    <tr>\n",
       "      <td>dia_maior_fat</td>\n",
       "      <td>31/8/2018 - Sexta</td>\n",
       "    </tr>\n",
       "    <tr>\n",
       "      <td>total_vendas_fdsRJ</td>\n",
       "      <td>887</td>\n",
       "    </tr>\n",
       "    <tr>\n",
       "      <td>total_vendas_semanaRJ</td>\n",
       "      <td>3514</td>\n",
       "    </tr>\n",
       "    <tr>\n",
       "      <td>total_vendasRJ</td>\n",
       "      <td>4401</td>\n",
       "    </tr>\n",
       "    <tr>\n",
       "      <td>perct_vendas_fdsRJ</td>\n",
       "      <td>20.15</td>\n",
       "    </tr>\n",
       "    <tr>\n",
       "      <td>gastos_fdsRJ</td>\n",
       "      <td>1,097,666.58</td>\n",
       "    </tr>\n",
       "    <tr>\n",
       "      <td>gastos_totalRJ</td>\n",
       "      <td>6,179,551.72</td>\n",
       "    </tr>\n",
       "    <tr>\n",
       "      <td>perct_gastos_fdsRJ</td>\n",
       "      <td>17.76</td>\n",
       "    </tr>\n",
       "  </tbody>\n",
       "</table>\n",
       "</div>"
      ],
      "text/plain": [
       "                                      Valor\n",
       "faturamento_total             13,747,940.13\n",
       "faturamento_id                12,202,226.88\n",
       "n_total_vendas                        14619\n",
       "fat_fds                        3,092,634.48\n",
       "fat_semana                    13,747,940.13\n",
       "loja_maior_faturamento           6361373-RJ\n",
       "loja_menor_faturamento           3234666-RJ\n",
       "dia_maior_fat             31/8/2018 - Sexta\n",
       "total_vendas_fdsRJ                      887\n",
       "total_vendas_semanaRJ                  3514\n",
       "total_vendasRJ                         4401\n",
       "perct_vendas_fdsRJ                    20.15\n",
       "gastos_fdsRJ                   1,097,666.58\n",
       "gastos_totalRJ                 6,179,551.72\n",
       "perct_gastos_fdsRJ                    17.76"
      ]
     },
     "execution_count": 519,
     "metadata": {},
     "output_type": "execute_result"
    }
   ],
   "source": [
    "## Tranposta DF para melhor legibilidade\n",
    "pd.options.display.float_format = '{:20,.2f}'.format\n",
    "transpose = df_offline.transpose()\n",
    "transpose.columns = ['Valor']\n",
    "transpose"
   ]
  },
  {
   "cell_type": "markdown",
   "metadata": {},
   "source": [
    "### 4.2 Exportar DataFrames para CSV"
   ]
  },
  {
   "cell_type": "code",
   "execution_count": 520,
   "metadata": {},
   "outputs": [],
   "source": [
    "## Exporta DataFrame de Saída em Colunas\n",
    "df_offline.to_csv(r'./Outputs/Offline_Data/Off_Output_Horizontal.csv')\n",
    "## Exporta DataFrame de Saída Transposto (em linhas)\n",
    "transpose.to_csv(r'./Outputs/Offline_Data/Off_Output_Vertical.csv')"
   ]
  },
  {
   "cell_type": "markdown",
   "metadata": {},
   "source": [
    "### 4.3 Exportar DataFrames para Excel"
   ]
  },
  {
   "cell_type": "code",
   "execution_count": 409,
   "metadata": {},
   "outputs": [],
   "source": [
    "engine = 'openpyxl'\n",
    "with pd.ExcelWriter(\"./Outputs/Offline_Data/Out-Off.xlsx\", engine=engine) as writer:\n",
    "    df_offline.to_excel(writer, sheet_name='Offline-H')\n",
    "    transpose.to_excel(writer, sheet_name='Offline-V')"
   ]
  },
  {
   "cell_type": "code",
   "execution_count": null,
   "metadata": {},
   "outputs": [],
   "source": []
  }
 ],
 "metadata": {
  "kernelspec": {
   "display_name": "Python 3",
   "language": "python",
   "name": "python3"
  },
  "language_info": {
   "codemirror_mode": {
    "name": "ipython",
    "version": 3
   },
   "file_extension": ".py",
   "mimetype": "text/x-python",
   "name": "python",
   "nbconvert_exporter": "python",
   "pygments_lexer": "ipython3",
   "version": "3.7.4"
  }
 },
 "nbformat": 4,
 "nbformat_minor": 2
}
