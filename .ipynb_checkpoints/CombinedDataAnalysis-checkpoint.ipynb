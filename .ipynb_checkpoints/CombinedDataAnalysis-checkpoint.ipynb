{
 "cells": [
  {
   "cell_type": "code",
   "execution_count": 1,
   "metadata": {},
   "outputs": [],
   "source": [
    "import pandas as pd\n",
    "import numpy as np\n",
    "import matplotlib.pyplot as plt\n",
    "import seaborn as sns\n",
    "import datetime\n",
    "sns.set_style('whitegrid')\n"
   ]
  },
  {
   "cell_type": "markdown",
   "metadata": {},
   "source": [
    "# 01 - Importar DataFrames Originais"
   ]
  },
  {
   "cell_type": "code",
   "execution_count": 2,
   "metadata": {},
   "outputs": [],
   "source": [
    "off = \".//Data//Small_Data//offline_sales.json\"\n",
    "on = './Data/Small_Data/online_orders.json'"
   ]
  },
  {
   "cell_type": "code",
   "execution_count": 3,
   "metadata": {},
   "outputs": [],
   "source": [
    "## Carregar Arquivo (customer_id e visitor_id como string para evitar notação cientifica)\n",
    "df_off = pd.read_json(off, lines=True, dtype={'customer_id': str})\n",
    "df_on = pd.read_json(on, lines=True, dtype={'visitor_id':str,'customer_id': str})"
   ]
  },
  {
   "cell_type": "code",
   "execution_count": 4,
   "metadata": {},
   "outputs": [],
   "source": [
    "## Substitui None por NaN\n",
    "df_off.customer_id.replace('None', np.nan, inplace=True)\n",
    "df_on.customer_id.replace('None', np.nan, inplace=True)\n",
    "df_on.visitor_id.replace('None', np.nan, inplace=True)\n"
   ]
  },
  {
   "cell_type": "markdown",
   "metadata": {},
   "source": [
    "## 1.1 - Comparação de Clientes que utilizam ambos serviços \n",
    "**Esses números descartam clientes com identificação faltante**"
   ]
  },
  {
   "cell_type": "code",
   "execution_count": 5,
   "metadata": {},
   "outputs": [],
   "source": [
    "clients_off = df_off.dropna().groupby('customer_id').sum().reset_index().customer_id\n",
    "clients_on = df_on.dropna().groupby('customer_id').sum().reset_index().customer_id\n",
    "\n",
    "lista_off = list(clients_off)\n",
    "lista_on = list(clients_on)"
   ]
  },
  {
   "cell_type": "code",
   "execution_count": 6,
   "metadata": {},
   "outputs": [
    {
     "data": {
      "text/plain": [
       "457"
      ]
     },
     "execution_count": 6,
     "metadata": {},
     "output_type": "execute_result"
    }
   ],
   "source": [
    "## Quantidade de clientes que compraram tanto online quanto offline\n",
    "clients_off.isin(lista_on).sum()"
   ]
  },
  {
   "cell_type": "code",
   "execution_count": 7,
   "metadata": {},
   "outputs": [],
   "source": [
    "#### Aprimorar essa função usando seleção por estado com maior faturamento\n",
    "def get_state(name):\n",
    "    return ''.join(list(df_off[df_off.customer_id==name].state.value_counts().index)[0])\n",
    "    \n",
    "    "
   ]
  },
  {
   "cell_type": "code",
   "execution_count": 8,
   "metadata": {},
   "outputs": [],
   "source": [
    "## Cria lista de clients utilizaram ambos serviços\n",
    "clients_both = []\n",
    "estados = []\n",
    "for name in lista_off:\n",
    "    ## Se nome do cliente off existe no clients On apenda id, se nao, passsa\n",
    "    if clients_on.isin([name]).sum()>=1:\n",
    "        clients_both.append(name)\n",
    "        estados.append(get_state(name))\n",
    "    else:\n",
    "        pass\n",
    "    \n",
    "    "
   ]
  },
  {
   "cell_type": "code",
   "execution_count": 9,
   "metadata": {},
   "outputs": [],
   "source": [
    "dict_clients = dict(zip(clients_both, estados))"
   ]
  },
  {
   "cell_type": "code",
   "execution_count": 10,
   "metadata": {},
   "outputs": [],
   "source": [
    "df_both = pd.DataFrame(list(zip(clients_both, estados)), columns=['customer_id','state'])"
   ]
  },
  {
   "cell_type": "code",
   "execution_count": 11,
   "metadata": {},
   "outputs": [
    {
     "data": {
      "text/html": [
       "<div>\n",
       "<style scoped>\n",
       "    .dataframe tbody tr th:only-of-type {\n",
       "        vertical-align: middle;\n",
       "    }\n",
       "\n",
       "    .dataframe tbody tr th {\n",
       "        vertical-align: top;\n",
       "    }\n",
       "\n",
       "    .dataframe thead th {\n",
       "        text-align: right;\n",
       "    }\n",
       "</style>\n",
       "<table border=\"1\" class=\"dataframe\">\n",
       "  <thead>\n",
       "    <tr style=\"text-align: right;\">\n",
       "      <th></th>\n",
       "      <th>customer_id</th>\n",
       "      <th>state</th>\n",
       "    </tr>\n",
       "  </thead>\n",
       "  <tbody>\n",
       "    <tr>\n",
       "      <td>0</td>\n",
       "      <td>30313235376530633063</td>\n",
       "      <td>RJ</td>\n",
       "    </tr>\n",
       "    <tr>\n",
       "      <td>1</td>\n",
       "      <td>30313239643866643564</td>\n",
       "      <td>RJ</td>\n",
       "    </tr>\n",
       "    <tr>\n",
       "      <td>2</td>\n",
       "      <td>30323636393364386334</td>\n",
       "      <td>RJ</td>\n",
       "    </tr>\n",
       "    <tr>\n",
       "      <td>3</td>\n",
       "      <td>30326138306138626565</td>\n",
       "      <td>RJ</td>\n",
       "    </tr>\n",
       "    <tr>\n",
       "      <td>4</td>\n",
       "      <td>30326337663562336538</td>\n",
       "      <td>RJ</td>\n",
       "    </tr>\n",
       "  </tbody>\n",
       "</table>\n",
       "</div>"
      ],
      "text/plain": [
       "            customer_id state\n",
       "0  30313235376530633063    RJ\n",
       "1  30313239643866643564    RJ\n",
       "2  30323636393364386334    RJ\n",
       "3  30326138306138626565    RJ\n",
       "4  30326337663562336538    RJ"
      ]
     },
     "execution_count": 11,
     "metadata": {},
     "output_type": "execute_result"
    }
   ],
   "source": [
    "## Lista de Clientes Identificados que utilizaram ambos serviços\n",
    "df_both.head()"
   ]
  },
  {
   "cell_type": "code",
   "execution_count": 12,
   "metadata": {},
   "outputs": [],
   "source": [
    "#Numero de Clientes que utilizam ambos serviços\n",
    "n_both = len(df_both)"
   ]
  },
  {
   "cell_type": "markdown",
   "metadata": {},
   "source": [
    "# 02 - Importar Outputs Off e Online"
   ]
  },
  {
   "cell_type": "code",
   "execution_count": 13,
   "metadata": {},
   "outputs": [],
   "source": [
    "out_off = './Outputs/Offline_Data/Off_Output_Horizontal.csv'\n",
    "out_on = './Outputs/Online_Data/On_Output_Horizontal.csv'"
   ]
  },
  {
   "cell_type": "code",
   "execution_count": 14,
   "metadata": {},
   "outputs": [],
   "source": [
    "o_off = pd.read_csv(out_off).drop('Unnamed: 0', axis=1)\n",
    "o_on = pd.read_csv(out_on).drop('Unnamed: 0', axis=1)"
   ]
  },
  {
   "cell_type": "markdown",
   "metadata": {},
   "source": [
    "## 2.1 - Gerar Dados de Saída Combinados"
   ]
  },
  {
   "cell_type": "code",
   "execution_count": 15,
   "metadata": {},
   "outputs": [],
   "source": [
    "fat_off = int(o_off.faturamento_total.values)\n",
    "fat_on = int(o_on.faturamento_total.values)\n",
    "fat_total = fat_off+fat_on"
   ]
  },
  {
   "cell_type": "code",
   "execution_count": 16,
   "metadata": {},
   "outputs": [
    {
     "name": "stdout",
     "output_type": "stream",
     "text": [
      "Faturamento das Lojas Físicas: 13747940\n",
      "Faturamento da Loja Virtual 5641837\n",
      "Faturamento total: 19389777\n"
     ]
    }
   ],
   "source": [
    "print('Faturamento das Lojas Físicas:', fat_off)\n",
    "print('Faturamento da Loja Virtual', fat_on)\n",
    "print('Faturamento total:',fat_total)"
   ]
  },
  {
   "cell_type": "markdown",
   "metadata": {},
   "source": [
    "# 03 - Importar Output PageView Visitors ID"
   ]
  },
  {
   "cell_type": "code",
   "execution_count": 36,
   "metadata": {},
   "outputs": [],
   "source": [
    "f = './Outputs/Utils/visitors_grouped.csv'"
   ]
  },
  {
   "cell_type": "code",
   "execution_count": 57,
   "metadata": {},
   "outputs": [],
   "source": [
    "visitors = pd.read_csv(f,dtype={'on_product_id':str}).drop('Unnamed: 0', axis=1)"
   ]
  },
  {
   "cell_type": "markdown",
   "metadata": {},
   "source": [
    "## 3.1 - Manipulação PageView / Online_Orders"
   ]
  },
  {
   "cell_type": "code",
   "execution_count": 74,
   "metadata": {},
   "outputs": [
    {
     "data": {
      "text/plain": [
       "864938"
      ]
     },
     "execution_count": 74,
     "metadata": {},
     "output_type": "execute_result"
    }
   ],
   "source": [
    "## Gera uma lista contendo os ids dos visitantes que visualizaram paginas\n",
    "lista_vis = list(visitors.visitor_id.unique())\n",
    "len(lista_vis)"
   ]
  },
  {
   "cell_type": "code",
   "execution_count": 86,
   "metadata": {},
   "outputs": [
    {
     "data": {
      "text/plain": [
       "True    6099\n",
       "dtype: int64"
      ]
     },
     "execution_count": 86,
     "metadata": {},
     "output_type": "execute_result"
    }
   ],
   "source": [
    "## Cria Série para os IDs de compradores (removendo repetidos)\n",
    "serie_ids_compradores = pd.Series(df_on.visitor_id.unique())\n",
    "## Verifica se todos os dados de quem comprou estão presentes no DF de visualizaçoes (p/ controle)\n",
    "serie_ids_compradores.isin(lista_vis).value_counts()"
   ]
  },
  {
   "cell_type": "markdown",
   "metadata": {},
   "source": [
    "**Ok, todos compradores estão presente na lista de visitantes**"
   ]
  },
  {
   "cell_type": "code",
   "execution_count": 87,
   "metadata": {},
   "outputs": [
    {
     "data": {
      "text/plain": [
       "6099"
      ]
     },
     "execution_count": 87,
     "metadata": {},
     "output_type": "execute_result"
    }
   ],
   "source": [
    "## Cris Lista com IDs das pessoas que compraram\n",
    "lista_bought = list(df_on.visitor_id.unique())\n",
    "len(lista_bought)"
   ]
  },
  {
   "cell_type": "code",
   "execution_count": 88,
   "metadata": {},
   "outputs": [
    {
     "data": {
      "text/html": [
       "<div>\n",
       "<style scoped>\n",
       "    .dataframe tbody tr th:only-of-type {\n",
       "        vertical-align: middle;\n",
       "    }\n",
       "\n",
       "    .dataframe tbody tr th {\n",
       "        vertical-align: top;\n",
       "    }\n",
       "\n",
       "    .dataframe thead th {\n",
       "        text-align: right;\n",
       "    }\n",
       "</style>\n",
       "<table border=\"1\" class=\"dataframe\">\n",
       "  <thead>\n",
       "    <tr style=\"text-align: right;\">\n",
       "      <th></th>\n",
       "      <th>visitor_id</th>\n",
       "      <th>on_product_id</th>\n",
       "      <th>count</th>\n",
       "    </tr>\n",
       "  </thead>\n",
       "  <tbody>\n",
       "    <tr>\n",
       "      <td>0</td>\n",
       "      <td>6265393131396533633738343</td>\n",
       "      <td>643564616339663</td>\n",
       "      <td>2</td>\n",
       "    </tr>\n",
       "    <tr>\n",
       "      <td>1</td>\n",
       "      <td>3338666465303563633536333</td>\n",
       "      <td>653332626234666</td>\n",
       "      <td>1</td>\n",
       "    </tr>\n",
       "    <tr>\n",
       "      <td>2</td>\n",
       "      <td>6232623334396365633033376</td>\n",
       "      <td>623361636538373</td>\n",
       "      <td>1</td>\n",
       "    </tr>\n",
       "    <tr>\n",
       "      <td>3</td>\n",
       "      <td>3265396532333465393239313</td>\n",
       "      <td>306530623037386</td>\n",
       "      <td>1</td>\n",
       "    </tr>\n",
       "    <tr>\n",
       "      <td>4</td>\n",
       "      <td>6335643734383761323766336</td>\n",
       "      <td>663162653735336</td>\n",
       "      <td>1</td>\n",
       "    </tr>\n",
       "    <tr>\n",
       "      <td>...</td>\n",
       "      <td>...</td>\n",
       "      <td>...</td>\n",
       "      <td>...</td>\n",
       "    </tr>\n",
       "    <tr>\n",
       "      <td>1671463</td>\n",
       "      <td>6437373938643136376363366</td>\n",
       "      <td>316666646434613</td>\n",
       "      <td>1</td>\n",
       "    </tr>\n",
       "    <tr>\n",
       "      <td>1671464</td>\n",
       "      <td>3437383135343337336635313</td>\n",
       "      <td>613634393437643</td>\n",
       "      <td>1</td>\n",
       "    </tr>\n",
       "    <tr>\n",
       "      <td>1671465</td>\n",
       "      <td>6335333234313733323965656</td>\n",
       "      <td>NaN</td>\n",
       "      <td>1</td>\n",
       "    </tr>\n",
       "    <tr>\n",
       "      <td>1671466</td>\n",
       "      <td>3235633136386131386239393</td>\n",
       "      <td>NaN</td>\n",
       "      <td>1</td>\n",
       "    </tr>\n",
       "    <tr>\n",
       "      <td>1671467</td>\n",
       "      <td>3833343636623938636463306</td>\n",
       "      <td>396237613464356</td>\n",
       "      <td>1</td>\n",
       "    </tr>\n",
       "  </tbody>\n",
       "</table>\n",
       "<p>1546169 rows × 3 columns</p>\n",
       "</div>"
      ],
      "text/plain": [
       "                        visitor_id    on_product_id  count\n",
       "0        6265393131396533633738343  643564616339663      2\n",
       "1        3338666465303563633536333  653332626234666      1\n",
       "2        6232623334396365633033376  623361636538373      1\n",
       "3        3265396532333465393239313  306530623037386      1\n",
       "4        6335643734383761323766336  663162653735336      1\n",
       "...                            ...              ...    ...\n",
       "1671463  6437373938643136376363366  316666646434613      1\n",
       "1671464  3437383135343337336635313  613634393437643      1\n",
       "1671465  6335333234313733323965656              NaN      1\n",
       "1671466  3235633136386131386239393              NaN      1\n",
       "1671467  3833343636623938636463306  396237613464356      1\n",
       "\n",
       "[1546169 rows x 3 columns]"
      ]
     },
     "execution_count": 88,
     "metadata": {},
     "output_type": "execute_result"
    }
   ],
   "source": [
    "## Acessa DF dos IDS de pessoas que acessaram a página e nao compraram \n",
    "visitors[~visitors.visitor_id.isin(lista_bought)]"
   ]
  },
  {
   "cell_type": "code",
   "execution_count": 96,
   "metadata": {},
   "outputs": [
    {
     "data": {
      "text/html": [
       "<div>\n",
       "<style scoped>\n",
       "    .dataframe tbody tr th:only-of-type {\n",
       "        vertical-align: middle;\n",
       "    }\n",
       "\n",
       "    .dataframe tbody tr th {\n",
       "        vertical-align: top;\n",
       "    }\n",
       "\n",
       "    .dataframe thead th {\n",
       "        text-align: right;\n",
       "    }\n",
       "</style>\n",
       "<table border=\"1\" class=\"dataframe\">\n",
       "  <thead>\n",
       "    <tr style=\"text-align: right;\">\n",
       "      <th></th>\n",
       "      <th></th>\n",
       "      <th>count</th>\n",
       "    </tr>\n",
       "    <tr>\n",
       "      <th>visitor_id</th>\n",
       "      <th>on_product_id</th>\n",
       "      <th></th>\n",
       "    </tr>\n",
       "  </thead>\n",
       "  <tbody>\n",
       "    <tr>\n",
       "      <td rowspan=\"3\" valign=\"top\">3030303031303364643064326</td>\n",
       "      <td>363966653132636</td>\n",
       "      <td>1</td>\n",
       "    </tr>\n",
       "    <tr>\n",
       "      <td>643733373961386</td>\n",
       "      <td>1</td>\n",
       "    </tr>\n",
       "    <tr>\n",
       "      <td>653466303735636</td>\n",
       "      <td>1</td>\n",
       "    </tr>\n",
       "    <tr>\n",
       "      <td>3030303032333232333334633</td>\n",
       "      <td>626538323635626</td>\n",
       "      <td>1</td>\n",
       "    </tr>\n",
       "    <tr>\n",
       "      <td>3030303063396466356636393</td>\n",
       "      <td>623166353632633</td>\n",
       "      <td>1</td>\n",
       "    </tr>\n",
       "    <tr>\n",
       "      <td>...</td>\n",
       "      <td>...</td>\n",
       "      <td>...</td>\n",
       "    </tr>\n",
       "    <tr>\n",
       "      <td>6666666631626137333730323</td>\n",
       "      <td>636633333065313</td>\n",
       "      <td>1</td>\n",
       "    </tr>\n",
       "    <tr>\n",
       "      <td>6666666634613263316365363</td>\n",
       "      <td>656461626139613</td>\n",
       "      <td>1</td>\n",
       "    </tr>\n",
       "    <tr>\n",
       "      <td>6666666635613462626138646</td>\n",
       "      <td>373661336532643</td>\n",
       "      <td>1</td>\n",
       "    </tr>\n",
       "    <tr>\n",
       "      <td>6666666637306230373631653</td>\n",
       "      <td>346437653831396</td>\n",
       "      <td>1</td>\n",
       "    </tr>\n",
       "    <tr>\n",
       "      <td>6666666662386561343932323</td>\n",
       "      <td>343034663764393</td>\n",
       "      <td>1</td>\n",
       "    </tr>\n",
       "  </tbody>\n",
       "</table>\n",
       "<p>1029923 rows × 1 columns</p>\n",
       "</div>"
      ],
      "text/plain": [
       "                                           count\n",
       "visitor_id                on_product_id         \n",
       "3030303031303364643064326 363966653132636      1\n",
       "                          643733373961386      1\n",
       "                          653466303735636      1\n",
       "3030303032333232333334633 626538323635626      1\n",
       "3030303063396466356636393 623166353632633      1\n",
       "...                                          ...\n",
       "6666666631626137333730323 636633333065313      1\n",
       "6666666634613263316365363 656461626139613      1\n",
       "6666666635613462626138646 373661336532643      1\n",
       "6666666637306230373631653 346437653831396      1\n",
       "6666666662386561343932323 343034663764393      1\n",
       "\n",
       "[1029923 rows x 1 columns]"
      ]
     },
     "execution_count": 96,
     "metadata": {},
     "output_type": "execute_result"
    }
   ],
   "source": [
    "no_bought_group = visitors[~visitors.visitor_id.isin(lista_bought)].groupby(['visitor_id', 'on_product_id']).sum()\n",
    "no_bought_group"
   ]
  },
  {
   "cell_type": "code",
   "execution_count": 118,
   "metadata": {},
   "outputs": [],
   "source": [
    "## Cria DF com esses IDs de pessoas que acessaram mas nao compraram\n",
    "no_bought = pd.DataFrame(visitors[~visitors.visitor_id.isin(lista_bought)].visitor_id.unique(),columns=['visitor_id'])"
   ]
  },
  {
   "cell_type": "code",
   "execution_count": 121,
   "metadata": {},
   "outputs": [
    {
     "data": {
      "text/html": [
       "<div>\n",
       "<style scoped>\n",
       "    .dataframe tbody tr th:only-of-type {\n",
       "        vertical-align: middle;\n",
       "    }\n",
       "\n",
       "    .dataframe tbody tr th {\n",
       "        vertical-align: top;\n",
       "    }\n",
       "\n",
       "    .dataframe thead th {\n",
       "        text-align: right;\n",
       "    }\n",
       "</style>\n",
       "<table border=\"1\" class=\"dataframe\">\n",
       "  <thead>\n",
       "    <tr style=\"text-align: right;\">\n",
       "      <th></th>\n",
       "      <th>visitor_id</th>\n",
       "    </tr>\n",
       "  </thead>\n",
       "  <tbody>\n",
       "    <tr>\n",
       "      <td>0</td>\n",
       "      <td>6265393131396533633738343</td>\n",
       "    </tr>\n",
       "    <tr>\n",
       "      <td>1</td>\n",
       "      <td>3338666465303563633536333</td>\n",
       "    </tr>\n",
       "    <tr>\n",
       "      <td>2</td>\n",
       "      <td>6232623334396365633033376</td>\n",
       "    </tr>\n",
       "    <tr>\n",
       "      <td>3</td>\n",
       "      <td>3265396532333465393239313</td>\n",
       "    </tr>\n",
       "    <tr>\n",
       "      <td>4</td>\n",
       "      <td>6335643734383761323766336</td>\n",
       "    </tr>\n",
       "  </tbody>\n",
       "</table>\n",
       "</div>"
      ],
      "text/plain": [
       "                  visitor_id\n",
       "0  6265393131396533633738343\n",
       "1  3338666465303563633536333\n",
       "2  6232623334396365633033376\n",
       "3  3265396532333465393239313\n",
       "4  6335643734383761323766336"
      ]
     },
     "execution_count": 121,
     "metadata": {},
     "output_type": "execute_result"
    }
   ],
   "source": [
    "no_bought.head()"
   ]
  },
  {
   "cell_type": "code",
   "execution_count": 5,
   "metadata": {},
   "outputs": [
    {
     "data": {
      "text/plain": [
       "6099"
      ]
     },
     "execution_count": 5,
     "metadata": {},
     "output_type": "execute_result"
    }
   ],
   "source": [
    "## Quantiddade de clientes que compraram algo\n",
    "len(df_on.visitor_id.unique())"
   ]
  },
  {
   "cell_type": "markdown",
   "metadata": {},
   "source": [
    "#### Exporta esse DataFrame para utilizar no PageViews e obter customer_id dos clientes que apenas visualizaram e nao compraram"
   ]
  },
  {
   "cell_type": "code",
   "execution_count": 122,
   "metadata": {},
   "outputs": [],
   "source": [
    "no_bought.to_csv(r'./Outputs/Utils/no_bought.csv')"
   ]
  },
  {
   "cell_type": "markdown",
   "metadata": {},
   "source": [
    "# 3.2 Manipulação - Offline Orders "
   ]
  },
  {
   "cell_type": "code",
   "execution_count": 10,
   "metadata": {},
   "outputs": [
    {
     "data": {
      "text/html": [
       "<div>\n",
       "<style scoped>\n",
       "    .dataframe tbody tr th:only-of-type {\n",
       "        vertical-align: middle;\n",
       "    }\n",
       "\n",
       "    .dataframe tbody tr th {\n",
       "        vertical-align: top;\n",
       "    }\n",
       "\n",
       "    .dataframe thead th {\n",
       "        text-align: right;\n",
       "    }\n",
       "</style>\n",
       "<table border=\"1\" class=\"dataframe\">\n",
       "  <thead>\n",
       "    <tr style=\"text-align: right;\">\n",
       "      <th></th>\n",
       "      <th>customer_id</th>\n",
       "    </tr>\n",
       "  </thead>\n",
       "  <tbody>\n",
       "    <tr>\n",
       "      <td>0</td>\n",
       "      <td>34353463636236633338</td>\n",
       "    </tr>\n",
       "    <tr>\n",
       "      <td>1</td>\n",
       "      <td>30623261643565303438</td>\n",
       "    </tr>\n",
       "    <tr>\n",
       "      <td>2</td>\n",
       "      <td>61643135303266633337</td>\n",
       "    </tr>\n",
       "    <tr>\n",
       "      <td>3</td>\n",
       "      <td>37626238653639363136</td>\n",
       "    </tr>\n",
       "    <tr>\n",
       "      <td>4</td>\n",
       "      <td>32376562393133303065</td>\n",
       "    </tr>\n",
       "  </tbody>\n",
       "</table>\n",
       "</div>"
      ],
      "text/plain": [
       "            customer_id\n",
       "0  34353463636236633338\n",
       "1  30623261643565303438\n",
       "2  61643135303266633337\n",
       "3  37626238653639363136\n",
       "4  32376562393133303065"
      ]
     },
     "execution_count": 10,
     "metadata": {},
     "output_type": "execute_result"
    }
   ],
   "source": [
    "## Importa ID dos Clientes que Visualizaram Páginas mas não compraram Online\n",
    "df_customers = pd.read_csv('./Outputs/Utils/customers_no.csv').drop('Unnamed: 0', axis=1)\n",
    "df_customers.head()"
   ]
  },
  {
   "cell_type": "code",
   "execution_count": 17,
   "metadata": {},
   "outputs": [],
   "source": [
    "## Gera lista com ids dos clientes que não compraram online\n",
    "lista_customers = df_customers.customer_id.tolist()"
   ]
  },
  {
   "cell_type": "code",
   "execution_count": 21,
   "metadata": {},
   "outputs": [],
   "source": [
    "## Verifica quais desses clientes estiveram em Lojas Físicas no Período\n",
    "all_cust = df_off[df_off.customer_id.isin(lista_customers)]"
   ]
  },
  {
   "cell_type": "code",
   "execution_count": null,
   "metadata": {},
   "outputs": [],
   "source": [
    "## Verifica Quantidade de Clientes (numero unico de ids que visualizaram paginas e também foram à loja)\n",
    "len(all_cust.customer_id.unique())"
   ]
  },
  {
   "cell_type": "markdown",
   "metadata": {},
   "source": [
    "**Apenas 257 pessoas com Nome registrado olharam produtos Online e também foram nas lojas físicas)**"
   ]
  },
  {
   "cell_type": "code",
   "execution_count": null,
   "metadata": {},
   "outputs": [],
   "source": []
  }
 ],
 "metadata": {
  "kernelspec": {
   "display_name": "Python 3",
   "language": "python",
   "name": "python3"
  },
  "language_info": {
   "codemirror_mode": {
    "name": "ipython",
    "version": 3
   },
   "file_extension": ".py",
   "mimetype": "text/x-python",
   "name": "python",
   "nbconvert_exporter": "python",
   "pygments_lexer": "ipython3",
   "version": "3.7.4"
  }
 },
 "nbformat": 4,
 "nbformat_minor": 2
}
