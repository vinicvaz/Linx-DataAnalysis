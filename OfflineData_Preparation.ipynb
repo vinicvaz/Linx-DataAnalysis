{
 "cells": [
  {
   "cell_type": "code",
   "execution_count": 252,
   "metadata": {},
   "outputs": [],
   "source": [
    "import pandas as pd\n",
    "import numpy as np\n",
    "import matplotlib.pyplot as plt\n",
    "import seaborn as sns"
   ]
  },
  {
   "cell_type": "code",
   "execution_count": 213,
   "metadata": {},
   "outputs": [],
   "source": [
    "file = \".//Data//Small_Data//offline_sales.json\""
   ]
  },
  {
   "cell_type": "code",
   "execution_count": 220,
   "metadata": {},
   "outputs": [],
   "source": [
    "## Create DF with offline data\n",
    "df = pd.read_json(file, lines=True, dtype={'customer_id': str})\n",
    "## Read customer_id as string to deal with big numbers"
   ]
  },
  {
   "cell_type": "markdown",
   "metadata": {},
   "source": [
    "# 01 - Exploratory Data Analysis | Análise Exploratória de Dados"
   ]
  },
  {
   "cell_type": "code",
   "execution_count": 221,
   "metadata": {},
   "outputs": [
    {
     "data": {
      "text/html": [
       "<div>\n",
       "<style scoped>\n",
       "    .dataframe tbody tr th:only-of-type {\n",
       "        vertical-align: middle;\n",
       "    }\n",
       "\n",
       "    .dataframe tbody tr th {\n",
       "        vertical-align: top;\n",
       "    }\n",
       "\n",
       "    .dataframe thead th {\n",
       "        text-align: right;\n",
       "    }\n",
       "</style>\n",
       "<table border=\"1\" class=\"dataframe\">\n",
       "  <thead>\n",
       "    <tr style=\"text-align: right;\">\n",
       "      <th></th>\n",
       "      <th>date</th>\n",
       "      <th>state</th>\n",
       "      <th>store_id</th>\n",
       "      <th>sale_id</th>\n",
       "      <th>off_product_id</th>\n",
       "      <th>quantity</th>\n",
       "      <th>price</th>\n",
       "      <th>customer_id</th>\n",
       "    </tr>\n",
       "  </thead>\n",
       "  <tbody>\n",
       "    <tr>\n",
       "      <td>0</td>\n",
       "      <td>2018-08-01</td>\n",
       "      <td>RN</td>\n",
       "      <td>3162633</td>\n",
       "      <td>323932636465316</td>\n",
       "      <td>643839313230323</td>\n",
       "      <td>1</td>\n",
       "      <td>279.0</td>\n",
       "      <td>None</td>\n",
       "    </tr>\n",
       "    <tr>\n",
       "      <td>1</td>\n",
       "      <td>2018-08-01</td>\n",
       "      <td>RN</td>\n",
       "      <td>3162633</td>\n",
       "      <td>326463633336323</td>\n",
       "      <td>613665646663346</td>\n",
       "      <td>1</td>\n",
       "      <td>229.0</td>\n",
       "      <td>None</td>\n",
       "    </tr>\n",
       "    <tr>\n",
       "      <td>2</td>\n",
       "      <td>2018-08-01</td>\n",
       "      <td>RN</td>\n",
       "      <td>3162633</td>\n",
       "      <td>333331346330323</td>\n",
       "      <td>343739666265353</td>\n",
       "      <td>1</td>\n",
       "      <td>179.0</td>\n",
       "      <td>None</td>\n",
       "    </tr>\n",
       "    <tr>\n",
       "      <td>3</td>\n",
       "      <td>2018-08-01</td>\n",
       "      <td>RN</td>\n",
       "      <td>3162633</td>\n",
       "      <td>393461383633336</td>\n",
       "      <td>373034633762613</td>\n",
       "      <td>1</td>\n",
       "      <td>269.0</td>\n",
       "      <td>None</td>\n",
       "    </tr>\n",
       "    <tr>\n",
       "      <td>4</td>\n",
       "      <td>2018-08-01</td>\n",
       "      <td>RN</td>\n",
       "      <td>3162633</td>\n",
       "      <td>616531626536373</td>\n",
       "      <td>343634373062363</td>\n",
       "      <td>1</td>\n",
       "      <td>29.0</td>\n",
       "      <td>None</td>\n",
       "    </tr>\n",
       "    <tr>\n",
       "      <td>5</td>\n",
       "      <td>2018-08-01</td>\n",
       "      <td>RN</td>\n",
       "      <td>3162633</td>\n",
       "      <td>626462353638383</td>\n",
       "      <td>616339353035393</td>\n",
       "      <td>1</td>\n",
       "      <td>459.0</td>\n",
       "      <td>None</td>\n",
       "    </tr>\n",
       "    <tr>\n",
       "      <td>6</td>\n",
       "      <td>2018-08-01</td>\n",
       "      <td>RN</td>\n",
       "      <td>3162633</td>\n",
       "      <td>653363623539323</td>\n",
       "      <td>346165376638356</td>\n",
       "      <td>1</td>\n",
       "      <td>369.0</td>\n",
       "      <td>None</td>\n",
       "    </tr>\n",
       "    <tr>\n",
       "      <td>7</td>\n",
       "      <td>2018-08-01</td>\n",
       "      <td>RN</td>\n",
       "      <td>3162633</td>\n",
       "      <td>666639323036376</td>\n",
       "      <td>643839313363376</td>\n",
       "      <td>1</td>\n",
       "      <td>149.0</td>\n",
       "      <td>30373934343338363136</td>\n",
       "    </tr>\n",
       "    <tr>\n",
       "      <td>8</td>\n",
       "      <td>2018-08-01</td>\n",
       "      <td>RN</td>\n",
       "      <td>3162633</td>\n",
       "      <td>636238633865636</td>\n",
       "      <td>333835396465353</td>\n",
       "      <td>1</td>\n",
       "      <td>198.0</td>\n",
       "      <td>30393833353363303832</td>\n",
       "    </tr>\n",
       "    <tr>\n",
       "      <td>9</td>\n",
       "      <td>2018-08-01</td>\n",
       "      <td>RN</td>\n",
       "      <td>3162633</td>\n",
       "      <td>626239383061353</td>\n",
       "      <td>343332613639373</td>\n",
       "      <td>1</td>\n",
       "      <td>229.0</td>\n",
       "      <td>31366262653431626130</td>\n",
       "    </tr>\n",
       "  </tbody>\n",
       "</table>\n",
       "</div>"
      ],
      "text/plain": [
       "        date state  store_id          sale_id   off_product_id  quantity  \\\n",
       "0 2018-08-01    RN   3162633  323932636465316  643839313230323         1   \n",
       "1 2018-08-01    RN   3162633  326463633336323  613665646663346         1   \n",
       "2 2018-08-01    RN   3162633  333331346330323  343739666265353         1   \n",
       "3 2018-08-01    RN   3162633  393461383633336  373034633762613         1   \n",
       "4 2018-08-01    RN   3162633  616531626536373  343634373062363         1   \n",
       "5 2018-08-01    RN   3162633  626462353638383  616339353035393         1   \n",
       "6 2018-08-01    RN   3162633  653363623539323  346165376638356         1   \n",
       "7 2018-08-01    RN   3162633  666639323036376  643839313363376         1   \n",
       "8 2018-08-01    RN   3162633  636238633865636  333835396465353         1   \n",
       "9 2018-08-01    RN   3162633  626239383061353  343332613639373         1   \n",
       "\n",
       "   price           customer_id  \n",
       "0  279.0                  None  \n",
       "1  229.0                  None  \n",
       "2  179.0                  None  \n",
       "3  269.0                  None  \n",
       "4   29.0                  None  \n",
       "5  459.0                  None  \n",
       "6  369.0                  None  \n",
       "7  149.0  30373934343338363136  \n",
       "8  198.0  30393833353363303832  \n",
       "9  229.0  31366262653431626130  "
      ]
     },
     "execution_count": 221,
     "metadata": {},
     "output_type": "execute_result"
    }
   ],
   "source": [
    "## Checking DF\n",
    "df.head(10)"
   ]
  },
  {
   "cell_type": "code",
   "execution_count": 226,
   "metadata": {},
   "outputs": [],
   "source": [
    "## Replace None to NaN\n",
    "df.customer_id.replace('None', np.nan, inplace=True)"
   ]
  },
  {
   "cell_type": "code",
   "execution_count": 227,
   "metadata": {},
   "outputs": [
    {
     "name": "stdout",
     "output_type": "stream",
     "text": [
      "<class 'pandas.core.frame.DataFrame'>\n",
      "RangeIndex: 29372 entries, 0 to 29371\n",
      "Data columns (total 8 columns):\n",
      "date              29372 non-null datetime64[ns]\n",
      "state             29372 non-null object\n",
      "store_id          29372 non-null int64\n",
      "sale_id           29372 non-null int64\n",
      "off_product_id    29372 non-null int64\n",
      "quantity          29372 non-null int64\n",
      "price             29372 non-null float64\n",
      "customer_id       25844 non-null object\n",
      "dtypes: datetime64[ns](1), float64(1), int64(4), object(2)\n",
      "memory usage: 1.8+ MB\n"
     ]
    }
   ],
   "source": [
    "## Total Entries\n",
    "df.info()"
   ]
  },
  {
   "cell_type": "markdown",
   "metadata": {},
   "source": [
    "**29372 rows, 8 columns**"
   ]
  },
  {
   "cell_type": "code",
   "execution_count": 228,
   "metadata": {},
   "outputs": [
    {
     "data": {
      "text/plain": [
       "date              datetime64[ns]\n",
       "state                     object\n",
       "store_id                   int64\n",
       "sale_id                    int64\n",
       "off_product_id             int64\n",
       "quantity                   int64\n",
       "price                    float64\n",
       "customer_id               object\n",
       "dtype: object"
      ]
     },
     "execution_count": 228,
     "metadata": {},
     "output_type": "execute_result"
    }
   ],
   "source": [
    "## Check dtypes\n",
    "df.dtypes"
   ]
  },
  {
   "cell_type": "markdown",
   "metadata": {},
   "source": [
    "# 02 - Preparation | Preparação"
   ]
  },
  {
   "cell_type": "markdown",
   "metadata": {},
   "source": [
    "## 2.1 Data Cleaning - NaN | Limpeza de Dados - NaN"
   ]
  },
  {
   "cell_type": "code",
   "execution_count": 236,
   "metadata": {},
   "outputs": [
    {
     "data": {
      "text/plain": [
       "date              0\n",
       "state             0\n",
       "store_id          0\n",
       "sale_id           0\n",
       "off_product_id    0\n",
       "quantity          0\n",
       "price             0\n",
       "customer_id       0\n",
       "dtype: int64"
      ]
     },
     "execution_count": 236,
     "metadata": {},
     "output_type": "execute_result"
    }
   ],
   "source": [
    "## Checking for NaN values\n",
    "df.isnull().sum()"
   ]
  },
  {
   "cell_type": "markdown",
   "metadata": {},
   "source": [
    "**3528 NaN values on customer_id column**  \n",
    "**Clean or manipulate this**  \n",
    "**12% of costumer_id is Empty**"
   ]
  },
  {
   "cell_type": "code",
   "execution_count": 237,
   "metadata": {},
   "outputs": [
    {
     "name": "stdout",
     "output_type": "stream",
     "text": [
      "<class 'pandas.core.frame.DataFrame'>\n",
      "Int64Index: 25844 entries, 7 to 29371\n",
      "Data columns (total 8 columns):\n",
      "date              25844 non-null datetime64[ns]\n",
      "state             25844 non-null object\n",
      "store_id          25844 non-null int64\n",
      "sale_id           25844 non-null int64\n",
      "off_product_id    25844 non-null int64\n",
      "quantity          25844 non-null int64\n",
      "price             25844 non-null float64\n",
      "customer_id       25844 non-null object\n",
      "dtypes: datetime64[ns](1), float64(1), int64(4), object(2)\n",
      "memory usage: 1.8+ MB\n"
     ]
    }
   ],
   "source": [
    "## Create DF with no null values (not best aproach but the missing Data is ID's, what do with this?)\n",
    "no_null = df\n",
    "no_null.dropna(axis=0, inplace=True)\n",
    "no_null.info()"
   ]
  },
  {
   "cell_type": "code",
   "execution_count": 238,
   "metadata": {},
   "outputs": [
    {
     "data": {
      "text/html": [
       "<div>\n",
       "<style scoped>\n",
       "    .dataframe tbody tr th:only-of-type {\n",
       "        vertical-align: middle;\n",
       "    }\n",
       "\n",
       "    .dataframe tbody tr th {\n",
       "        vertical-align: top;\n",
       "    }\n",
       "\n",
       "    .dataframe thead th {\n",
       "        text-align: right;\n",
       "    }\n",
       "</style>\n",
       "<table border=\"1\" class=\"dataframe\">\n",
       "  <thead>\n",
       "    <tr style=\"text-align: right;\">\n",
       "      <th></th>\n",
       "      <th>date</th>\n",
       "      <th>state</th>\n",
       "      <th>store_id</th>\n",
       "      <th>sale_id</th>\n",
       "      <th>off_product_id</th>\n",
       "      <th>quantity</th>\n",
       "      <th>price</th>\n",
       "      <th>customer_id</th>\n",
       "    </tr>\n",
       "  </thead>\n",
       "  <tbody>\n",
       "    <tr>\n",
       "      <td>0</td>\n",
       "      <td>2018-08-01</td>\n",
       "      <td>RN</td>\n",
       "      <td>3162633</td>\n",
       "      <td>666639323036376</td>\n",
       "      <td>643839313363376</td>\n",
       "      <td>1</td>\n",
       "      <td>149.0</td>\n",
       "      <td>30373934343338363136</td>\n",
       "    </tr>\n",
       "    <tr>\n",
       "      <td>1</td>\n",
       "      <td>2018-08-01</td>\n",
       "      <td>RN</td>\n",
       "      <td>3162633</td>\n",
       "      <td>636238633865636</td>\n",
       "      <td>333835396465353</td>\n",
       "      <td>1</td>\n",
       "      <td>198.0</td>\n",
       "      <td>30393833353363303832</td>\n",
       "    </tr>\n",
       "    <tr>\n",
       "      <td>2</td>\n",
       "      <td>2018-08-01</td>\n",
       "      <td>RN</td>\n",
       "      <td>3162633</td>\n",
       "      <td>626239383061353</td>\n",
       "      <td>343332613639373</td>\n",
       "      <td>1</td>\n",
       "      <td>229.0</td>\n",
       "      <td>31366262653431626130</td>\n",
       "    </tr>\n",
       "    <tr>\n",
       "      <td>3</td>\n",
       "      <td>2018-08-01</td>\n",
       "      <td>RN</td>\n",
       "      <td>3162633</td>\n",
       "      <td>376465626630613</td>\n",
       "      <td>306439363765386</td>\n",
       "      <td>1</td>\n",
       "      <td>58.0</td>\n",
       "      <td>32653962626632373464</td>\n",
       "    </tr>\n",
       "    <tr>\n",
       "      <td>4</td>\n",
       "      <td>2018-08-01</td>\n",
       "      <td>RN</td>\n",
       "      <td>3162633</td>\n",
       "      <td>666564646366383</td>\n",
       "      <td>336139376666306</td>\n",
       "      <td>1</td>\n",
       "      <td>58.0</td>\n",
       "      <td>34653761646637306265</td>\n",
       "    </tr>\n",
       "  </tbody>\n",
       "</table>\n",
       "</div>"
      ],
      "text/plain": [
       "        date state  store_id          sale_id   off_product_id  quantity  \\\n",
       "0 2018-08-01    RN   3162633  666639323036376  643839313363376         1   \n",
       "1 2018-08-01    RN   3162633  636238633865636  333835396465353         1   \n",
       "2 2018-08-01    RN   3162633  626239383061353  343332613639373         1   \n",
       "3 2018-08-01    RN   3162633  376465626630613  306439363765386         1   \n",
       "4 2018-08-01    RN   3162633  666564646366383  336139376666306         1   \n",
       "\n",
       "   price           customer_id  \n",
       "0  149.0  30373934343338363136  \n",
       "1  198.0  30393833353363303832  \n",
       "2  229.0  31366262653431626130  \n",
       "3   58.0  32653962626632373464  \n",
       "4   58.0  34653761646637306265  "
      ]
     },
     "execution_count": 238,
     "metadata": {},
     "output_type": "execute_result"
    }
   ],
   "source": [
    "## Drop old Index Column and Create a new one\n",
    "no_null = no_null.reset_index().drop(columns=['index'])\n",
    "no_null.head()"
   ]
  },
  {
   "cell_type": "markdown",
   "metadata": {},
   "source": [
    "## 2.2 Data Cleaning - Outliers | Limpeza de Dados - Outliers"
   ]
  },
  {
   "cell_type": "code",
   "execution_count": 247,
   "metadata": {},
   "outputs": [
    {
     "name": "stdout",
     "output_type": "stream",
     "text": [
      "Max: 5\n",
      "Min: 1\n"
     ]
    }
   ],
   "source": [
    "## Check Outliers on Quantity Colunm\n",
    "print('Max:',no_null.quantity.max())\n",
    "print('Min:',no_null.quantity.min())"
   ]
  },
  {
   "cell_type": "code",
   "execution_count": 259,
   "metadata": {},
   "outputs": [
    {
     "data": {
      "text/plain": [
       "count    25844.0000000000000000\n",
       "mean       472.1493143476241698\n",
       "std        847.5659387348144946\n",
       "min          0.0100000000000000\n",
       "25%        169.0000000000000000\n",
       "50%        289.0000000000000000\n",
       "75%        578.2500000000000000\n",
       "max      39690.0000000000000000\n",
       "Name: price, dtype: float64"
      ]
     },
     "execution_count": 259,
     "metadata": {},
     "output_type": "execute_result"
    }
   ],
   "source": [
    "## Check Outliers on Price\n",
    "no_null.price.describe()"
   ]
  },
  {
   "cell_type": "code",
   "execution_count": 288,
   "metadata": {},
   "outputs": [
    {
     "data": {
      "text/plain": [
       "<matplotlib.axes._subplots.AxesSubplot at 0x7fdf42433710>"
      ]
     },
     "execution_count": 288,
     "metadata": {},
     "output_type": "execute_result"
    },
    {
     "data": {
      "image/png": "[encoded data removed]",
      "text/plain": [
       "<Figure size 432x288 with 1 Axes>"
      ]
     },
     "metadata": {
      "needs_background": "light"
     },
     "output_type": "display_data"
    }
   ],
   "source": [
    "no_null.price.plot(kind='box')"
   ]
  },
  {
   "cell_type": "markdown",
   "metadata": {},
   "source": [
    "**Grande quantidade de valores grandes**\n"
   ]
  },
  {
   "cell_type": "code",
   "execution_count": 300,
   "metadata": {},
   "outputs": [
    {
     "data": {
      "text/plain": [
       "289.0"
      ]
     },
     "execution_count": 300,
     "metadata": {},
     "output_type": "execute_result"
    }
   ],
   "source": [
    "## Check the median because the mean may be altered by the large price values \n",
    "no_null.price.median()"
   ]
  },
  {
   "cell_type": "markdown",
   "metadata": {},
   "source": [
    "**Mediana = 289, isso mostra que a media dos preços tende a subir devido as compras de alto valor, o gasto de usuários comuns (gastos mais frequentes) são representados melhor pela mediana**  \n",
    "**Por enquanto irei manter os valores altos por completo**"
   ]
  },
  {
   "cell_type": "markdown",
   "metadata": {},
   "source": [
    "## 2.3 Data Cleaning - Duplicated | Limpeza de Dados - Duplicados "
   ]
  },
  {
   "cell_type": "code",
   "execution_count": 317,
   "metadata": {},
   "outputs": [
    {
     "data": {
      "text/plain": [
       "0"
      ]
     },
     "execution_count": 317,
     "metadata": {},
     "output_type": "execute_result"
    }
   ],
   "source": [
    "## Verificar dados duplicados\n",
    "no_null.duplicated().sum()"
   ]
  },
  {
   "cell_type": "markdown",
   "metadata": {},
   "source": [
    "**Sem linhas duplicadas**"
   ]
  },
  {
   "cell_type": "code",
   "execution_count": null,
   "metadata": {},
   "outputs": [],
   "source": []
  }
 ],
 "metadata": {
  "kernelspec": {
   "display_name": "Python 3",
   "language": "python",
   "name": "python3"
  },
  "language_info": {
   "codemirror_mode": {
    "name": "ipython",
    "version": 3
   },
   "file_extension": ".py",
   "mimetype": "text/x-python",
   "name": "python",
   "nbconvert_exporter": "python",
   "pygments_lexer": "ipython3",
   "version": "3.7.4"
  }
 },
 "nbformat": 4,
 "nbformat_minor": 2
}
